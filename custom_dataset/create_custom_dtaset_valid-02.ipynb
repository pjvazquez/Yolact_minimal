{
 "cells": [
  {
   "cell_type": "markdown",
   "source": [
    "# Create an initial dataset with elements from COCO dataset \n",
    "# and elements from densepose dataset condensing left-right in only one class\n",
    "## all body parts included\n",
    "\n",
    "- version 14\n",
    "- version 15 initial step to include annotation non human\n",
    "- version 16 removes double annotatyions on persons\n"
   ],
   "metadata": {}
  },
  {
   "cell_type": "markdown",
   "source": [
    "# Getting data"
   ],
   "metadata": {}
  },
  {
   "cell_type": "code",
   "execution_count": null,
   "source": [
    "import cv2\n",
    "import json\n",
    "from json import JSONEncoder\n",
    "import pandas as pd\n",
    "import numpy as np\n",
    "import pycocotools.mask as mask_util\n",
    "\n",
    "from tqdm import tqdm"
   ],
   "outputs": [],
   "metadata": {}
  },
  {
   "cell_type": "code",
   "execution_count": null,
   "source": [
    "# version number of the json files\n",
    "version = 16"
   ],
   "outputs": [],
   "metadata": {}
  },
  {
   "cell_type": "code",
   "execution_count": null,
   "source": [
    "with open('/home/ubuntu/dormakaba/coco/annotations/instances_val2014.json') as json_file:\n",
    "# with open('/mnt/DATASSD/DataSandbox/coco/annotations/instances_val2014.json') as json_file:\n",
    "    data = json.load(json_file)"
   ],
   "outputs": [],
   "metadata": {}
  },
  {
   "cell_type": "code",
   "execution_count": null,
   "source": [
    "with open('/home/ubuntu/dormakaba/coco/annotations/densepose_coco_2014_valminusminival.json') as json_file:\n",
    "# with open('/mnt/DATASSD/DataSandbox/coco/annotations/densepose_coco_2014_valminusminival.json') as json_file:\n",
    "    person_data = json.load(json_file)"
   ],
   "outputs": [],
   "metadata": {}
  },
  {
   "cell_type": "code",
   "execution_count": null,
   "source": [
    "data_df = pd.json_normalize(data)"
   ],
   "outputs": [],
   "metadata": {}
  },
  {
   "cell_type": "code",
   "execution_count": null,
   "source": [
    "person_data_df = pd.json_normalize(person_data)"
   ],
   "outputs": [],
   "metadata": {}
  },
  {
   "cell_type": "code",
   "execution_count": null,
   "source": [
    "data_df.keys()"
   ],
   "outputs": [],
   "metadata": {}
  },
  {
   "cell_type": "code",
   "execution_count": null,
   "source": [
    "data_df['categories'].iloc[0]"
   ],
   "outputs": [],
   "metadata": {}
  },
  {
   "cell_type": "code",
   "execution_count": null,
   "source": [
    "person_data_df.keys()"
   ],
   "outputs": [],
   "metadata": {}
  },
  {
   "cell_type": "code",
   "execution_count": null,
   "source": [
    "# esta es la lista de imágenes anotadas con personas\n",
    "# está ok\n",
    "person_data_df['images'][0][0].keys()"
   ],
   "outputs": [],
   "metadata": {}
  },
  {
   "cell_type": "code",
   "execution_count": null,
   "source": [
    "print(person_data_df['categories'][0])"
   ],
   "outputs": [],
   "metadata": {}
  },
  {
   "cell_type": "markdown",
   "source": [
    "# Generating classes"
   ],
   "metadata": {}
  },
  {
   "cell_type": "code",
   "execution_count": null,
   "source": [
    "COCO_CLASSES = ['person', 'bicycle', 'car', 'motorcycle', 'airplane', 'bus',\n",
    "                'train', 'truck', 'boat', 'traffic light', 'fire hydrant',\n",
    "                'stop sign', 'parking meter', 'bench', 'bird', 'cat', 'dog',\n",
    "                'horse', 'sheep', 'cow', 'elephant', 'bear', 'zebra', 'giraffe',\n",
    "                'backpack', 'umbrella', 'handbag', 'tie', 'suitcase', 'frisbee',\n",
    "                'skis', 'snowboard', 'sports ball', 'kite', 'baseball bat',\n",
    "                'baseball glove', 'skateboard', 'surfboard', 'tennis racket',\n",
    "                'bottle', 'wine glass', 'cup', 'fork', 'knife', 'spoon', 'bowl',\n",
    "                'banana', 'apple', 'sandwich', 'orange', 'broccoli', 'carrot',\n",
    "                'hot dog', 'pizza', 'donut', 'cake', 'chair', 'couch',\n",
    "                'potted plant', 'bed', 'dining table', 'toilet', 'tv', 'laptop',\n",
    "                'mouse', 'remote', 'keyboard', 'cell phone', 'microwave', 'oven',\n",
    "                'toaster', 'sink', 'refrigerator', 'book', 'clock', 'vase',\n",
    "                'scissors', 'teddy bear', 'hair drier', 'toothbrush']\n",
    "# THE NEW CUSTOM CLASSES CONDENSE THE LEFT-RIGHT IN ONLY ONE CAT\n",
    "CUSTOM_CLASSES = ['person', 'bicycle', 'cat', 'dog', 'backpack', 'umbrella', 'handbag', 'suitcase', \n",
    "                'sports ball', 'baseball bat', 'skateboard', 'tennis racket', 'bottle', 'wine glass', \n",
    "                'sandwich', 'chair', 'laptop', 'cell phone', 'book', 'clock', 'scissors', 'teddy bear',\n",
    "                'torso', 'hand', 'foot', 'upleg', 'lowleg', 'uparm', 'lowarm', 'head']\n",
    "\n",
    "#                'torso', 'hand1', 'hand2', 'foot1', 'foot2', 'upleg1', 'upleg2', 'lowleg1', 'lowleg2',\n",
    "#                'uparm1', 'uparm2', 'lowarm1','lowarm2', 'head']\n",
    "\n",
    "CATEGORIES = [{'supercategory': 'person', 'id': 1, 'name': 'person'},\n",
    "            {'supercategory': 'vehicle', 'id': 2, 'name': 'bicycle'},\n",
    "            {'supercategory': 'vehicle', 'id': 3, 'name': 'car'},\n",
    "            {'supercategory': 'vehicle', 'id': 4, 'name': 'motorcycle'},\n",
    "            {'supercategory': 'vehicle', 'id': 5, 'name': 'airplane'},\n",
    "            {'supercategory': 'vehicle', 'id': 6, 'name': 'bus'},\n",
    "            {'supercategory': 'vehicle', 'id': 7, 'name': 'train'},\n",
    "            {'supercategory': 'vehicle', 'id': 8, 'name': 'truck'},\n",
    "            {'supercategory': 'vehicle', 'id': 9, 'name': 'boat'},\n",
    "            {'supercategory': 'outdoor', 'id': 10, 'name': 'traffic light'},\n",
    "            {'supercategory': 'outdoor', 'id': 11, 'name': 'fire hydrant'},\n",
    "            {'supercategory': 'outdoor', 'id': 13, 'name': 'stop sign'},\n",
    "            {'supercategory': 'outdoor', 'id': 14, 'name': 'parking meter'},\n",
    "            {'supercategory': 'outdoor', 'id': 15, 'name': 'bench'},\n",
    "            {'supercategory': 'animal', 'id': 16, 'name': 'bird'},\n",
    "            {'supercategory': 'animal', 'id': 17, 'name': 'cat'},\n",
    "            {'supercategory': 'animal', 'id': 18, 'name': 'dog'},\n",
    "            {'supercategory': 'animal', 'id': 19, 'name': 'horse'},\n",
    "            {'supercategory': 'animal', 'id': 20, 'name': 'sheep'},\n",
    "            {'supercategory': 'animal', 'id': 21, 'name': 'cow'},\n",
    "            {'supercategory': 'animal', 'id': 22, 'name': 'elephant'},\n",
    "            {'supercategory': 'animal', 'id': 23, 'name': 'bear'},\n",
    "            {'supercategory': 'animal', 'id': 24, 'name': 'zebra'},\n",
    "            {'supercategory': 'animal', 'id': 25, 'name': 'giraffe'},\n",
    "            {'supercategory': 'accessory', 'id': 27, 'name': 'backpack'},\n",
    "            {'supercategory': 'accessory', 'id': 28, 'name': 'umbrella'},\n",
    "            {'supercategory': 'accessory', 'id': 31, 'name': 'handbag'},\n",
    "            {'supercategory': 'accessory', 'id': 32, 'name': 'tie'},\n",
    "            {'supercategory': 'accessory', 'id': 33, 'name': 'suitcase'},\n",
    "            {'supercategory': 'sports', 'id': 34, 'name': 'frisbee'},\n",
    "            {'supercategory': 'sports', 'id': 35, 'name': 'skis'},\n",
    "            {'supercategory': 'sports', 'id': 36, 'name': 'snowboard'},\n",
    "            {'supercategory': 'sports', 'id': 37, 'name': 'sports ball'},\n",
    "            {'supercategory': 'sports', 'id': 38, 'name': 'kite'},\n",
    "            {'supercategory': 'sports', 'id': 39, 'name': 'baseball bat'},\n",
    "            {'supercategory': 'sports', 'id': 40, 'name': 'baseball glove'},\n",
    "            {'supercategory': 'sports', 'id': 41, 'name': 'skateboard'},\n",
    "            {'supercategory': 'sports', 'id': 42, 'name': 'surfboard'},\n",
    "            {'supercategory': 'sports', 'id': 43, 'name': 'tennis racket'},\n",
    "            {'supercategory': 'kitchen', 'id': 44, 'name': 'bottle'},\n",
    "            {'supercategory': 'kitchen', 'id': 46, 'name': 'wine glass'},\n",
    "            {'supercategory': 'kitchen', 'id': 47, 'name': 'cup'},\n",
    "            {'supercategory': 'kitchen', 'id': 48, 'name': 'fork'},\n",
    "            {'supercategory': 'kitchen', 'id': 49, 'name': 'knife'},\n",
    "            {'supercategory': 'kitchen', 'id': 50, 'name': 'spoon'},\n",
    "            {'supercategory': 'kitchen', 'id': 51, 'name': 'bowl'},\n",
    "            {'supercategory': 'food', 'id': 52, 'name': 'banana'},\n",
    "            {'supercategory': 'food', 'id': 53, 'name': 'apple'},\n",
    "            {'supercategory': 'food', 'id': 54, 'name': 'sandwich'},\n",
    "            {'supercategory': 'food', 'id': 55, 'name': 'orange'},\n",
    "            {'supercategory': 'food', 'id': 56, 'name': 'broccoli'},\n",
    "            {'supercategory': 'food', 'id': 57, 'name': 'carrot'},\n",
    "            {'supercategory': 'food', 'id': 58, 'name': 'hot dog'},\n",
    "            {'supercategory': 'food', 'id': 59, 'name': 'pizza'},\n",
    "            {'supercategory': 'food', 'id': 60, 'name': 'donut'},\n",
    "            {'supercategory': 'food', 'id': 61, 'name': 'cake'},\n",
    "            {'supercategory': 'furniture', 'id': 62, 'name': 'chair'},\n",
    "            {'supercategory': 'furniture', 'id': 63, 'name': 'couch'},\n",
    "            {'supercategory': 'furniture', 'id': 64, 'name': 'potted plant'},\n",
    "            {'supercategory': 'furniture', 'id': 65, 'name': 'bed'},\n",
    "            {'supercategory': 'furniture', 'id': 67, 'name': 'dining table'},\n",
    "            {'supercategory': 'furniture', 'id': 70, 'name': 'toilet'},\n",
    "            {'supercategory': 'electronic', 'id': 72, 'name': 'tv'},\n",
    "            {'supercategory': 'electronic', 'id': 73, 'name': 'laptop'},\n",
    "            {'supercategory': 'electronic', 'id': 74, 'name': 'mouse'},\n",
    "            {'supercategory': 'electronic', 'id': 75, 'name': 'remote'},\n",
    "            {'supercategory': 'electronic', 'id': 76, 'name': 'keyboard'},\n",
    "            {'supercategory': 'electronic', 'id': 77, 'name': 'cell phone'},\n",
    "            {'supercategory': 'appliance', 'id': 78, 'name': 'microwave'},\n",
    "            {'supercategory': 'appliance', 'id': 79, 'name': 'oven'},\n",
    "            {'supercategory': 'appliance', 'id': 80, 'name': 'toaster'},\n",
    "            {'supercategory': 'appliance', 'id': 81, 'name': 'sink'},\n",
    "            {'supercategory': 'appliance', 'id': 82, 'name': 'refrigerator'},\n",
    "            {'supercategory': 'indoor', 'id': 84, 'name': 'book'},\n",
    "            {'supercategory': 'indoor', 'id': 85, 'name': 'clock'},\n",
    "            {'supercategory': 'indoor', 'id': 86, 'name': 'vase'},\n",
    "            {'supercategory': 'indoor', 'id': 87, 'name': 'scissors'},\n",
    "            {'supercategory': 'indoor', 'id': 88, 'name': 'teddy bear'},\n",
    "            {'supercategory': 'indoor', 'id': 89, 'name': 'hair drier'},\n",
    "            {'supercategory': 'indoor', 'id': 90, 'name': 'toothbrush'}]\n",
    "\n",
    "FROM_COCO_CLASSES = ['person', 'bicycle', 'cat', 'dog', 'backpack', 'umbrella', 'handbag', 'suitcase', \n",
    "                'sports ball', 'baseball bat', 'skateboard', 'tennis racket', 'bottle', 'wine glass', \n",
    "                'sandwich', 'chair', 'laptop', 'cell phone', 'book', 'clock', 'scissors', 'teddy bear']\n",
    "\n",
    "#DENSEPOSE_CLASSES = ['torso', 'hand1', 'hand2', \n",
    "#                    'foot1', 'foot2', 'upleg1', 'upleg2', \n",
    "#                    'lowleg1', 'lowleg2','uparm1', 'uparm2', \n",
    "#                    'lowarm1','lowarm2', 'head']\n",
    "\n",
    "DENSEPOSE_CLASSES = ['torso', 'hand',  \n",
    "                        'foot', 'upleg', \n",
    "                        'lowleg', 'uparm', \n",
    "                        'lowarm', 'head']\n",
    "# realates image ID with category\n",
    "COCO_LABEL_MAP = {1: 1, 2: 2, 3: 3, 4: 4, 5: 5, 6: 6, 7: 7, 8: 8,\n",
    "                  9: 9, 10: 10, 11: 11, 13: 12, 14: 13, 15: 14, 16: 15, 17: 16,\n",
    "                  18: 17, 19: 18, 20: 19, 21: 20, 22: 21, 23: 22, 24: 23, 25: 24,\n",
    "                  27: 25, 28: 26, 31: 27, 32: 28, 33: 29, 34: 30, 35: 31, 36: 32,\n",
    "                  37: 33, 38: 34, 39: 35, 40: 36, 41: 37, 42: 38, 43: 39, 44: 40,\n",
    "                  46: 41, 47: 42, 48: 43, 49: 44, 50: 45, 51: 46, 52: 47, 53: 48,\n",
    "                  54: 49, 55: 50, 56: 51, 57: 52, 58: 53, 59: 54, 60: 55, 61: 56,\n",
    "                  62: 57, 63: 58, 64: 59, 65: 60, 67: 61, 70: 62, 72: 63, 73: 64,\n",
    "                  74: 65, 75: 66, 76: 67, 77: 68, 78: 69, 79: 70, 80: 71, 81: 72,\n",
    "                  82: 73, 84: 74, 85: 75, 86: 76, 87: 77, 88: 78, 89: 79, 90: 80}\n",
    "# this map relates body part position to unique identifier (avoiding left-right problem)\n",
    "PERSON_LABEL_MAP = {0:0, 1: 1, 2: 1, \n",
    "                    3: 2, 4: 2, 5: 3, 6: 3, \n",
    "                    7: 4, 8: 4, 9: 5, 10: 5, \n",
    "                    11: 6, 12: 6, 13: 7}"
   ],
   "outputs": [],
   "metadata": {}
  },
  {
   "cell_type": "code",
   "execution_count": null,
   "source": [
    "COCO_CLASSES.index('backpack')"
   ],
   "outputs": [],
   "metadata": {}
  },
  {
   "cell_type": "code",
   "execution_count": null,
   "source": [
    "COCO_CLASSES[COCO_LABEL_MAP[16+1]]"
   ],
   "outputs": [],
   "metadata": {}
  },
  {
   "cell_type": "code",
   "execution_count": null,
   "source": [
    "CUSTOM_CLASSES[21]"
   ],
   "outputs": [],
   "metadata": {}
  },
  {
   "cell_type": "code",
   "execution_count": null,
   "source": [
    "REVERSE_COCO_LABEL_MAP = {}\n",
    "for key, value in COCO_LABEL_MAP.items():\n",
    "    REVERSE_COCO_LABEL_MAP[value] = key"
   ],
   "outputs": [],
   "metadata": {}
  },
  {
   "cell_type": "code",
   "execution_count": null,
   "source": [
    "print(data_df['categories'][0][0])\n",
    "\n",
    "custom_categories = []\n",
    "for cat_data in data_df['categories'][0]:\n",
    "    if cat_data['name'] in CUSTOM_CLASSES:\n",
    "        custom_categories.append(cat_data)\n",
    "\n",
    "for nc in DENSEPOSE_CLASSES:\n",
    "    c = {'supercategory': 'person', 'id': 1, 'name': nc}\n",
    "    custom_categories.append(c)\n",
    "\n",
    "# this is the list of the new categories\n",
    "print(custom_categories)\n",
    "print()\n",
    "print(len(CUSTOM_CLASSES), \"-\", len(custom_categories))\n",
    "cc_id = 1\n",
    "cc_list = [0]*(len(CUSTOM_CLASSES)+1)\n",
    "for cc in custom_categories:\n",
    "    cc['id'] = cc_id\n",
    "    cc_list[cc_id] = cc['name']\n",
    "    cc_id += 1\n",
    "\n",
    "# the list of the names of the categories\n",
    "print(cc_list)"
   ],
   "outputs": [],
   "metadata": {}
  },
  {
   "cell_type": "code",
   "execution_count": null,
   "source": [
    "coco_category_id_list = [0]*len(cc_list)\n",
    "for cat in data_df['categories'][0]:\n",
    "    if cat['name'] in cc_list:\n",
    "        pos = cc_list.index(cat['name'])\n",
    "        coco_category_id_list[pos] = cat['id']\n",
    "\n",
    "# this is the list of the COCO ids of the new categories (when exists)\n",
    "print(coco_category_id_list)"
   ],
   "outputs": [],
   "metadata": {}
  },
  {
   "cell_type": "code",
   "execution_count": null,
   "source": [
    "# this variable has the coco category id in the position of the custom category\n",
    "custom_category_coco_category = [0]*len(cc_list)\n",
    "for i, cat_name in enumerate(COCO_CLASSES):\n",
    "    if cat_name in cc_list:\n",
    "        cc_pos = cc_list.index(cat_name)\n",
    "        coco_cat_id = REVERSE_COCO_LABEL_MAP[i+1]\n",
    "        custom_category_coco_category[cc_pos] = coco_cat_id\n",
    "        # print(i, cat_name, cc_pos, coco_cat_id)\n",
    "\n",
    "print(custom_category_coco_category)"
   ],
   "outputs": [],
   "metadata": {}
  },
  {
   "cell_type": "markdown",
   "source": [
    "# looking at images"
   ],
   "metadata": {}
  },
  {
   "cell_type": "code",
   "execution_count": null,
   "source": [
    "new_person_images = person_data_df['images'][0]\n",
    "print( len(new_person_images), new_person_images[0].keys())"
   ],
   "outputs": [],
   "metadata": {}
  },
  {
   "cell_type": "code",
   "execution_count": null,
   "source": [
    "images_person_data_df = pd.DataFrame(person_data_df['images'][0])"
   ],
   "outputs": [],
   "metadata": {}
  },
  {
   "cell_type": "code",
   "execution_count": null,
   "source": [
    "# a = images_person_data_df[images_person_data_df['id']==262145]\n",
    "# print(a['height'][0], a['width'][0])"
   ],
   "outputs": [],
   "metadata": {}
  },
  {
   "cell_type": "code",
   "execution_count": null,
   "source": [
    "person_data_df['images'][0][0]"
   ],
   "outputs": [],
   "metadata": {}
  },
  {
   "cell_type": "code",
   "execution_count": null,
   "source": [
    "# list of image ids from human parts data\n",
    "new_person_images_list = [a['id'] for a in person_data_df['images'][0]]\n",
    "len(new_person_images_list)"
   ],
   "outputs": [],
   "metadata": {}
  },
  {
   "cell_type": "code",
   "execution_count": null,
   "source": [
    "all_images_list = [a['id'] for a in data_df['images'][0]]\n",
    "len(all_images_list)"
   ],
   "outputs": [],
   "metadata": {}
  },
  {
   "cell_type": "markdown",
   "source": [
    "# looking at images\n",
    "## Those are the images I'll use in the dataset that come from \n",
    "## the DENSEPOSE dataset"
   ],
   "metadata": {}
  },
  {
   "cell_type": "code",
   "execution_count": null,
   "source": [
    "# person annotations\n",
    "# extraer segmentation: anotaciòn individual de cada persona detectada\n",
    "# extrater dp_masks: e insertar una anotación por cada uno de los 14 elementos de la persona que tienen anotaciones\n",
    "# si se puede, transformar el mapa de bits en \n",
    "print(person_data_df['annotations'][0][0].keys())\n",
    "print(person_data_df['annotations'][0][0]['dp_masks'])"
   ],
   "outputs": [],
   "metadata": {}
  },
  {
   "cell_type": "code",
   "execution_count": null,
   "source": [
    "print(person_data_df['annotations'][0][0])"
   ],
   "outputs": [],
   "metadata": {}
  },
  {
   "cell_type": "markdown",
   "source": [
    "# generating annotations"
   ],
   "metadata": {}
  },
  {
   "cell_type": "code",
   "execution_count": null,
   "source": [
    "def GetDensePoseMasks(Polys):\n",
    "    mask_list = [0]*15\n",
    "    for i in range(1,15):\n",
    "        MaskGen = np.zeros([256,256])\n",
    "        if(Polys[i-1]):\n",
    "            current_mask = mask_util.decode(Polys[i-1])\n",
    "            MaskGen[current_mask>0] = 1\n",
    "        mask_list[i-1]=MaskGen\n",
    "    return mask_list"
   ],
   "outputs": [],
   "metadata": {}
  },
  {
   "cell_type": "code",
   "execution_count": null,
   "source": [
    "def GetDensePoseMask(encoded_mask):\n",
    "    MaskGen = np.zeros([256,256])\n",
    "    current_mask = mask_util.decode(encoded_mask)\n",
    "    MaskGen[current_mask>0] = 1\n",
    "    return MaskGen"
   ],
   "outputs": [],
   "metadata": {}
  },
  {
   "cell_type": "code",
   "execution_count": null,
   "source": [
    "def get_poligons(mask):\n",
    "    c = cv2.findContours(mask.astype(np.uint8), cv2.RETR_TREE, cv2.CHAIN_APPROX_SIMPLE)\n",
    "    contours = [0]*2*len(c[0][0].tolist())\n",
    "    for i,x in enumerate(c[0][0].tolist()):\n",
    "        contours[2*i]=int(x[0][0])\n",
    "        contours[2*i+1]= int(x[0][1])\n",
    "    return contours"
   ],
   "outputs": [],
   "metadata": {}
  },
  {
   "cell_type": "code",
   "execution_count": null,
   "source": [
    "def CreateMaskBBox(mask, bbr, image_shape):\n",
    "    final_mask = np.zeros([image_shape[1],image_shape[0]])\n",
    "    x1 = int(bbr[0])\n",
    "    y1 = int(bbr[1])\n",
    "    x2 = int(bbr[0]+bbr[2])\n",
    "    y2 = int(bbr[1]+bbr[3])\n",
    "    x2 = min( [ x2, image_shape[0] ] )\n",
    "    y2 = min( [ y2, image_shape[1] ] )\n",
    "    # print(bbr, (x1,y1,x2,y2), (int(x2-x1),int(y2-y1)), mask.shape)\n",
    "    resized_mask = cv2.resize( mask, (int(x2-x1),int(y2-y1)) ,interpolation=cv2.INTER_NEAREST)\n",
    "    final_mask[y1:y2,x1:x2] = resized_mask\n",
    "    az = np.nonzero(final_mask)\n",
    "    bby1,bby2,bbx1,bbx2=np.min(az[0]), np.max(az[0]), np.min(az[1]), np.max(az[1])\n",
    "    contours = get_poligons(final_mask.astype(np.uint8))\n",
    "    encoded_final_mask = mask_util.encode(np.asfortranarray(final_mask.astype(np.uint8)))\n",
    "    mask_area = int(mask_util.area(encoded_final_mask))\n",
    "    # print((bbx1, bby1, bbx2-bbx1, bby2-bby1),encoded_final_mask)\n",
    "    encoded_final_mask['counts'] = encoded_final_mask['counts'].decode(\"utf-8\")\n",
    "    return final_mask, (bbx1, bby1, bbx2-bbx1, bby2-bby1), mask_area, encoded_final_mask, contours"
   ],
   "outputs": [],
   "metadata": {}
  },
  {
   "cell_type": "code",
   "execution_count": null,
   "source": [
    "new_person_ann = []\n",
    "for annotation in tqdm(person_data_df['annotations'][0]):\n",
    "    # print(annotation['image_id'], annotation['bbox'])\n",
    "    if annotation['iscrowd']==0 and annotation['image_id'] in new_person_images_list:\n",
    "        ann_segment = annotation['segmentation']\n",
    "        ann_bbox = [int(annotation['bbox'][0]),int(annotation['bbox'][1]),int(annotation['bbox'][2]),int(annotation['bbox'][3])]\n",
    "        ann_area = annotation['area']\n",
    "        ann_image_id = annotation['image_id']\n",
    "        ann_id = annotation['id']\n",
    "        ann_cat_id = 1 # only person cat so must be 1\n",
    "        new_data = {'segmentation': ann_segment,\n",
    "                    'area': ann_area,\n",
    "                    'image_id': ann_image_id,\n",
    "                    'id': ann_id,\n",
    "                    'category_id': ann_cat_id,\n",
    "                    'bbox': ann_bbox,\n",
    "                    'iscrowd': 0}\n",
    "        new_person_ann.append(new_data)\n",
    "        a = images_person_data_df[images_person_data_df['id']==ann_image_id]\n",
    "        image_size = [a['width'].values[0],a['height'].values[0]]\n",
    "\n",
    "        if 'dp_masks' in annotation:\n",
    "            for i, ann_mask in enumerate(annotation['dp_masks']):\n",
    "                if len(ann_mask) > 1:\n",
    "                    ann_mask_decoded = GetDensePoseMask(ann_mask)\n",
    "                    mask, bbox, ann_area, encoded_mask, contours = CreateMaskBBox(ann_mask_decoded, annotation['bbox'], image_size )\n",
    "                    ann_bbox = [int(bbox[0]),int(bbox[1]),int(bbox[2]),int(bbox[3])]\n",
    "                    ann_segment = encoded_mask\n",
    "                    ann_image_id = annotation['image_id']\n",
    "                    ann_id = -1\n",
    "                    # for reusing ids I'll prepare a first approach \n",
    "                    # with a cat id dictionary\n",
    "                    ann_cat_id = 23+PERSON_LABEL_MAP[i]\n",
    "                    if len(contours)>4:\n",
    "                        new_data = {'segmentation': [contours], # encoded_mask,\n",
    "                                    'area': ann_area,\n",
    "                                    'image_id': ann_image_id,\n",
    "                                    'id': ann_id,\n",
    "                                    'category_id': ann_cat_id,\n",
    "                                    'bbox': ann_bbox,\n",
    "                                    'iscrowd': 0}\n",
    "                        new_person_ann.append(new_data)"
   ],
   "outputs": [],
   "metadata": {}
  },
  {
   "cell_type": "code",
   "execution_count": null,
   "source": [
    "# check that the list of annotated image_ids has the len len as densepose image id's\n",
    "new_person_images_annotated_list = [a['image_id'] for a in new_person_ann]\n",
    "print( len(new_person_images_annotated_list), len(set(new_person_images_annotated_list)), len(set(new_person_images_list)))"
   ],
   "outputs": [],
   "metadata": {}
  },
  {
   "cell_type": "markdown",
   "source": [
    "# till here I have all human data and parts segmented and annotated\n",
    "# next step is to include the other classes"
   ],
   "metadata": {}
  },
  {
   "cell_type": "code",
   "execution_count": null,
   "source": [
    "new_data_ann = []\n",
    "new_data_image_list = []\n",
    "new_data_images = []\n",
    "for annotation in tqdm(data_df['annotations'][0]):\n",
    "    if annotation['category_id'] in custom_category_coco_category and annotation['category_id']>0:\n",
    "        ann_segment = annotation['segmentation']\n",
    "        ann_bbox = [int(annotation['bbox'][0]),int(annotation['bbox'][1]),int(annotation['bbox'][2]),int(annotation['bbox'][3])]\n",
    "        ann_area = annotation['area']\n",
    "        ann_image_id = annotation['image_id']\n",
    "        ann_id = annotation['id']\n",
    "        ann_iscrowd = annotation['iscrowd']\n",
    "        ann_cat_id = custom_category_coco_category.index(annotation['category_id'])\n",
    "        new_data = {'segmentation': ann_segment,\n",
    "                    'area': ann_area,\n",
    "                    'image_id': ann_image_id,\n",
    "                    'id': ann_id,\n",
    "                    'category_id': ann_cat_id,\n",
    "                    'bbox': ann_bbox,\n",
    "                    'iscrowd': ann_iscrowd}\n",
    "        new_data_ann.append(new_data)\n",
    "        new_data_image_list.append(ann_image_id)"
   ],
   "outputs": [],
   "metadata": {}
  },
  {
   "cell_type": "code",
   "execution_count": null,
   "source": [
    "new_data_images = [image for image in data_df['images'][0] if image['id'] in new_data_image_list]"
   ],
   "outputs": [],
   "metadata": {}
  },
  {
   "cell_type": "markdown",
   "source": [
    "# Saving humans parts data"
   ],
   "metadata": {}
  },
  {
   "cell_type": "code",
   "execution_count": null,
   "source": [
    "\n",
    "new_human_part_data = {\n",
    "    'images': new_person_images, \n",
    "    'annotations': new_person_ann, \n",
    "    'categories': custom_categories\n",
    "}"
   ],
   "outputs": [],
   "metadata": {}
  },
  {
   "cell_type": "code",
   "execution_count": null,
   "source": [
    "class MyEncoder(JSONEncoder):\n",
    "    def default(self, o):\n",
    "        return o.__dict__\n",
    "new_human_part_data_json = MyEncoder().encode(new_human_part_data)"
   ],
   "outputs": [],
   "metadata": {}
  },
  {
   "cell_type": "code",
   "execution_count": null,
   "source": [
    "with open(f'/home/ubuntu/dormakaba/coco/annotations/custom_ann_human_parts_valid2014_v{version}.json', 'w') as f:\n",
    "    json.dump(new_human_part_data_json, f)"
   ],
   "outputs": [],
   "metadata": {}
  },
  {
   "cell_type": "markdown",
   "source": [
    "# Saving non humans data\n"
   ],
   "metadata": {}
  },
  {
   "cell_type": "code",
   "execution_count": null,
   "source": [
    "\n",
    "new_non_human_data = {\n",
    "    'images': new_data_images, \n",
    "    'annotations': new_data_ann, \n",
    "    'categories': custom_categories\n",
    "}"
   ],
   "outputs": [],
   "metadata": {}
  },
  {
   "cell_type": "code",
   "execution_count": null,
   "source": [
    "class MyEncoder(JSONEncoder):\n",
    "    def default(self, o):\n",
    "        return o.__dict__\n",
    "new_non_human_data_json = MyEncoder().encode(new_non_human_data)"
   ],
   "outputs": [],
   "metadata": {}
  },
  {
   "cell_type": "code",
   "execution_count": null,
   "source": [
    "with open(f'/home/ubuntu/dormakaba/coco/annotations/custom_ann_non_human_valid2014_v{version}.json', 'w') as f:\n",
    "    json.dump(new_non_human_data_json, f)"
   ],
   "outputs": [],
   "metadata": {}
  },
  {
   "cell_type": "markdown",
   "source": [
    "# updating indices"
   ],
   "metadata": {}
  },
  {
   "cell_type": "code",
   "execution_count": null,
   "source": [
    "final_images = new_person_images + new_data_images\n",
    "final_annotations = new_person_ann + new_data_ann"
   ],
   "outputs": [],
   "metadata": {}
  },
  {
   "cell_type": "code",
   "execution_count": null,
   "source": [
    "nil = []\n",
    "for image in tqdm(final_images):\n",
    "    if image[\"id\"] not in all_images_list:\n",
    "        nil.append[image[\"id\"]]\n",
    "len(nil)"
   ],
   "outputs": [],
   "metadata": {}
  },
  {
   "cell_type": "code",
   "execution_count": null,
   "source": [
    "final_annotations[0].keys()"
   ],
   "outputs": [],
   "metadata": {}
  },
  {
   "cell_type": "code",
   "execution_count": null,
   "source": [
    "for i in tqdm(range(len(final_annotations))):\n",
    "    final_annotations[i]['id'] = i+1"
   ],
   "outputs": [],
   "metadata": {}
  },
  {
   "cell_type": "code",
   "execution_count": null,
   "source": [
    "nil = []\n",
    "for image in tqdm(final_images):\n",
    "    if image[\"id\"] not in all_images_list:\n",
    "        nil.append[image[\"id\"]]\n",
    "len(nil)"
   ],
   "outputs": [],
   "metadata": {}
  },
  {
   "cell_type": "markdown",
   "source": [
    "# saving all data"
   ],
   "metadata": {}
  },
  {
   "cell_type": "code",
   "execution_count": null,
   "source": [
    "# IN THE version_02\n",
    "new_person_data = {\n",
    "    'images': final_images, \n",
    "    'annotations': final_annotations, \n",
    "    'categories': custom_categories\n",
    "}"
   ],
   "outputs": [],
   "metadata": {}
  },
  {
   "cell_type": "code",
   "execution_count": null,
   "source": [
    "from json import JSONEncoder\n",
    "class MyEncoder(JSONEncoder):\n",
    "    def default(self, o):\n",
    "        return o.__dict__\n",
    "new_person_data_json = MyEncoder().encode(new_person_data)"
   ],
   "outputs": [],
   "metadata": {}
  },
  {
   "cell_type": "code",
   "execution_count": null,
   "source": [
    "with open(f'/home/ubuntu/dormakaba/coco/annotations/custom_ann_valid2014_v{version}.json', 'w') as f:\n",
    "    json.dump(new_person_data_json, f)"
   ],
   "outputs": [],
   "metadata": {}
  },
  {
   "cell_type": "code",
   "execution_count": null,
   "source": [],
   "outputs": [],
   "metadata": {}
  }
 ],
 "metadata": {
  "interpreter": {
   "hash": "47d517df254fbe59b5c04b69f23871c524fea7fc7dc51e349dcd158d9476f98d"
  },
  "kernelspec": {
   "name": "python3",
   "display_name": "Python 3.7.10 64-bit ('pytorch_latest_p37': conda)"
  },
  "language_info": {
   "codemirror_mode": {
    "name": "ipython",
    "version": 3
   },
   "file_extension": ".py",
   "mimetype": "text/x-python",
   "name": "python",
   "nbconvert_exporter": "python",
   "pygments_lexer": "ipython3",
   "version": "3.7.10"
  },
  "orig_nbformat": 2
 },
 "nbformat": 4,
 "nbformat_minor": 2
}