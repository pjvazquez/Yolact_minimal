{
 "cells": [
  {
   "cell_type": "markdown",
   "metadata": {},
   "source": [
    "# Getting data"
   ]
  },
  {
   "cell_type": "code",
   "execution_count": 1,
   "metadata": {},
   "outputs": [],
   "source": [
    "import cv2\n",
    "import json\n",
    "from json import JSONEncoder\n",
    "import pandas as pd\n",
    "import numpy as np\n",
    "import pycocotools.mask as mask_util\n",
    "\n",
    "from tqdm import tqdm"
   ]
  },
  {
   "cell_type": "code",
   "execution_count": 2,
   "metadata": {},
   "outputs": [],
   "source": [
    "with open('/home/ubuntu/dormakaba/coco/annotations/instances_val2014.json') as json_file:\n",
    "    data = json.load(json_file)"
   ]
  },
  {
   "cell_type": "code",
   "execution_count": 3,
   "metadata": {},
   "outputs": [],
   "source": [
    "with open('/home/ubuntu/dormakaba/coco/annotations/densepose_coco_2014_valminusminival.json') as json_file:\n",
    "    person_data = json.load(json_file)"
   ]
  },
  {
   "cell_type": "code",
   "execution_count": 4,
   "metadata": {},
   "outputs": [],
   "source": [
    "data_df = pd.json_normalize(data)"
   ]
  },
  {
   "cell_type": "code",
   "execution_count": 5,
   "metadata": {},
   "outputs": [],
   "source": [
    "person_data_df = pd.json_normalize(person_data)"
   ]
  },
  {
   "cell_type": "code",
   "execution_count": 6,
   "metadata": {},
   "outputs": [
    {
     "output_type": "execute_result",
     "data": {
      "text/plain": [
       "Index(['images', 'licenses', 'annotations', 'categories', 'info.description',\n",
       "       'info.url', 'info.version', 'info.year', 'info.contributor',\n",
       "       'info.date_created'],\n",
       "      dtype='object')"
      ]
     },
     "metadata": {},
     "execution_count": 6
    }
   ],
   "source": [
    "data_df.keys()"
   ]
  },
  {
   "cell_type": "code",
   "execution_count": 7,
   "metadata": {},
   "outputs": [
    {
     "output_type": "execute_result",
     "data": {
      "text/plain": [
       "Index(['images', 'annotations', 'categories'], dtype='object')"
      ]
     },
     "metadata": {},
     "execution_count": 7
    }
   ],
   "source": [
    "person_data_df.keys()"
   ]
  },
  {
   "cell_type": "code",
   "execution_count": 8,
   "metadata": {},
   "outputs": [
    {
     "output_type": "execute_result",
     "data": {
      "text/plain": [
       "dict_keys(['license', 'file_name', 'coco_url', 'height', 'width', 'date_captured', 'flickr_url', 'id'])"
      ]
     },
     "metadata": {},
     "execution_count": 8
    }
   ],
   "source": [
    "# esta es la lista de imágenes anotadas con personas\n",
    "# está ok\n",
    "person_data_df['images'][0][0].keys()"
   ]
  },
  {
   "cell_type": "code",
   "execution_count": 9,
   "metadata": {},
   "outputs": [
    {
     "output_type": "stream",
     "name": "stdout",
     "text": [
      "[{'supercategory': 'person', 'id': 1, 'keypoints': ['nose', 'left_eye', 'right_eye', 'left_ear', 'right_ear', 'left_shoulder', 'right_shoulder', 'left_elbow', 'right_elbow', 'left_wrist', 'right_wrist', 'left_hip', 'right_hip', 'left_knee', 'right_knee', 'left_ankle', 'right_ankle'], 'name': 'person', 'skeleton': [[16, 14], [14, 12], [17, 15], [15, 13], [12, 13], [6, 12], [7, 13], [6, 7], [6, 8], [7, 9], [8, 10], [9, 11], [2, 3], [1, 2], [1, 3], [2, 4], [3, 5], [4, 6], [5, 7]]}]\n"
     ]
    }
   ],
   "source": [
    "print(person_data_df['categories'][0])"
   ]
  },
  {
   "cell_type": "markdown",
   "metadata": {},
   "source": [
    "# Generating classes"
   ]
  },
  {
   "cell_type": "code",
   "execution_count": 10,
   "metadata": {},
   "outputs": [],
   "source": [
    "COCO_CLASSES = ['person', 'bicycle', 'car', 'motorcycle', 'airplane', 'bus',\n",
    "                'train', 'truck', 'boat', 'traffic light', 'fire hydrant',\n",
    "                'stop sign', 'parking meter', 'bench', 'bird', 'cat', 'dog',\n",
    "                'horse', 'sheep', 'cow', 'elephant', 'bear', 'zebra', 'giraffe',\n",
    "                'backpack', 'umbrella', 'handbag', 'tie', 'suitcase', 'frisbee',\n",
    "                'skis', 'snowboard', 'sports ball', 'kite', 'baseball bat',\n",
    "                'baseball glove', 'skateboard', 'surfboard', 'tennis racket',\n",
    "                'bottle', 'wine glass', 'cup', 'fork', 'knife', 'spoon', 'bowl',\n",
    "                'banana', 'apple', 'sandwich', 'orange', 'broccoli', 'carrot',\n",
    "                'hot dog', 'pizza', 'donut', 'cake', 'chair', 'couch',\n",
    "                'potted plant', 'bed', 'dining table', 'toilet', 'tv', 'laptop',\n",
    "                'mouse', 'remote', 'keyboard', 'cell phone', 'microwave', 'oven',\n",
    "                'toaster', 'sink', 'refrigerator', 'book', 'clock', 'vase',\n",
    "                'scissors', 'teddy bear', 'hair drier', 'toothbrush']\n",
    "CUSTOM_CLASSES = ['person', 'bicycle', 'cat', 'dog', 'backpack', 'umbrella', 'handbag', 'suitcase', \n",
    "                'sports ball', 'baseball bat', 'skateboard', 'tennis racket', 'bottle', 'wine glass', \n",
    "                'sandwich', 'chair', 'laptop', 'cell phone', 'book', 'clock', 'scissors', 'teddy bear',\n",
    "                'torso', 'hand1', 'hand2', 'foot1', 'foot2', 'upleg1', 'upleg2', 'lowleg1', 'lowleg2',\n",
    "                'uparm1', 'uparm2', 'lowarm1','lowarm2', 'head']\n",
    "FROM_COCO_CLASSES = ['person', 'bicycle', 'cat', 'dog', 'backpack', 'umbrella', 'handbag', 'suitcase', \n",
    "                'sports ball', 'baseball bat', 'skateboard', 'tennis racket', 'bottle', 'wine glass', \n",
    "                'sandwich', 'chair', 'laptop', 'cell phone', 'book', 'clock', 'scissors', 'teddy bear']\n",
    "NEW_CLASSES = ['torso', 'hand1', 'hand2', 'foot1', 'foot2', 'upleg1', 'upleg2', 'lowleg1', 'lowleg2',\n",
    "                'uparm1', 'uparm2', 'lowarm1','lowarm2', 'head']\n",
    "COCO_LABEL_MAP = {1: 1, 2: 2, 3: 3, 4: 4, 5: 5, 6: 6, 7: 7, 8: 8,\n",
    "                  9: 9, 10: 10, 11: 11, 13: 12, 14: 13, 15: 14, 16: 15, 17: 16,\n",
    "                  18: 17, 19: 18, 20: 19, 21: 20, 22: 21, 23: 22, 24: 23, 25: 24,\n",
    "                  27: 25, 28: 26, 31: 27, 32: 28, 33: 29, 34: 30, 35: 31, 36: 32,\n",
    "                  37: 33, 38: 34, 39: 35, 40: 36, 41: 37, 42: 38, 43: 39, 44: 40,\n",
    "                  46: 41, 47: 42, 48: 43, 49: 44, 50: 45, 51: 46, 52: 47, 53: 48,\n",
    "                  54: 49, 55: 50, 56: 51, 57: 52, 58: 53, 59: 54, 60: 55, 61: 56,\n",
    "                  62: 57, 63: 58, 64: 59, 65: 60, 67: 61, 70: 62, 72: 63, 73: 64,\n",
    "                  74: 65, 75: 66, 76: 67, 77: 68, 78: 69, 79: 70, 80: 71, 81: 72,\n",
    "                  82: 73, 84: 74, 85: 75, 86: 76, 87: 77, 88: 78, 89: 79, 90: 80}"
   ]
  },
  {
   "cell_type": "code",
   "execution_count": 11,
   "metadata": {},
   "outputs": [],
   "source": [
    "REVERSE_COCO_LABEL_MAP = {}\n",
    "for key, value in COCO_LABEL_MAP.items():\n",
    "    REVERSE_COCO_LABEL_MAP[value] = key"
   ]
  },
  {
   "cell_type": "code",
   "execution_count": 12,
   "metadata": {},
   "outputs": [
    {
     "output_type": "stream",
     "name": "stdout",
     "text": [
      "{'supercategory': 'person', 'id': 1, 'name': 'person'}\n[{'supercategory': 'person', 'id': 1, 'name': 'person'}, {'supercategory': 'vehicle', 'id': 2, 'name': 'bicycle'}, {'supercategory': 'animal', 'id': 3, 'name': 'cat'}, {'supercategory': 'animal', 'id': 4, 'name': 'dog'}, {'supercategory': 'accessory', 'id': 5, 'name': 'backpack'}, {'supercategory': 'accessory', 'id': 6, 'name': 'umbrella'}, {'supercategory': 'accessory', 'id': 7, 'name': 'handbag'}, {'supercategory': 'accessory', 'id': 8, 'name': 'suitcase'}, {'supercategory': 'sports', 'id': 9, 'name': 'sports ball'}, {'supercategory': 'sports', 'id': 10, 'name': 'baseball bat'}, {'supercategory': 'sports', 'id': 11, 'name': 'skateboard'}, {'supercategory': 'sports', 'id': 12, 'name': 'tennis racket'}, {'supercategory': 'kitchen', 'id': 13, 'name': 'bottle'}, {'supercategory': 'kitchen', 'id': 14, 'name': 'wine glass'}, {'supercategory': 'food', 'id': 15, 'name': 'sandwich'}, {'supercategory': 'furniture', 'id': 16, 'name': 'chair'}, {'supercategory': 'electronic', 'id': 17, 'name': 'laptop'}, {'supercategory': 'electronic', 'id': 18, 'name': 'cell phone'}, {'supercategory': 'indoor', 'id': 19, 'name': 'book'}, {'supercategory': 'indoor', 'id': 20, 'name': 'clock'}, {'supercategory': 'indoor', 'id': 21, 'name': 'scissors'}, {'supercategory': 'indoor', 'id': 22, 'name': 'teddy bear'}, {'supercategory': 'person', 'id': 23, 'name': 'torso'}, {'supercategory': 'person', 'id': 24, 'name': 'hand1'}, {'supercategory': 'person', 'id': 25, 'name': 'hand2'}, {'supercategory': 'person', 'id': 26, 'name': 'foot1'}, {'supercategory': 'person', 'id': 27, 'name': 'foot2'}, {'supercategory': 'person', 'id': 28, 'name': 'upleg1'}, {'supercategory': 'person', 'id': 29, 'name': 'upleg2'}, {'supercategory': 'person', 'id': 30, 'name': 'lowleg1'}, {'supercategory': 'person', 'id': 31, 'name': 'lowleg2'}, {'supercategory': 'person', 'id': 32, 'name': 'uparm1'}, {'supercategory': 'person', 'id': 33, 'name': 'uparm2'}, {'supercategory': 'person', 'id': 34, 'name': 'lowarm1'}, {'supercategory': 'person', 'id': 35, 'name': 'lowarm2'}, {'supercategory': 'person', 'id': 36, 'name': 'head'}]\n[0, 'person', 'bicycle', 'cat', 'dog', 'backpack', 'umbrella', 'handbag', 'suitcase', 'sports ball', 'baseball bat', 'skateboard', 'tennis racket', 'bottle', 'wine glass', 'sandwich', 'chair', 'laptop', 'cell phone', 'book', 'clock', 'scissors', 'teddy bear', 'torso', 'hand1', 'hand2', 'foot1', 'foot2', 'upleg1', 'upleg2', 'lowleg1', 'lowleg2', 'uparm1', 'uparm2', 'lowarm1', 'lowarm2', 'head']\n"
     ]
    }
   ],
   "source": [
    "print(data_df['categories'][0][0])\n",
    "\n",
    "custom_categories = []\n",
    "for cat_data in data_df['categories'][0]:\n",
    "    if cat_data['name'] in CUSTOM_CLASSES:\n",
    "        custom_categories.append(cat_data)\n",
    "\n",
    "for nc in NEW_CLASSES:\n",
    "    c = {'supercategory': 'person', 'id': 1, 'name': nc}\n",
    "    custom_categories.append(c)\n",
    "\n",
    "cc_id = 1\n",
    "cc_list = [0]*37\n",
    "for cc in custom_categories:\n",
    "    cc['id'] = cc_id\n",
    "    cc_list[cc_id] = cc['name']\n",
    "    cc_id += 1\n",
    "\n",
    "# this is the list of the new categories\n",
    "print(custom_categories)\n",
    "# the list of the names of the categories\n",
    "print(cc_list)"
   ]
  },
  {
   "cell_type": "code",
   "execution_count": 13,
   "metadata": {},
   "outputs": [
    {
     "output_type": "stream",
     "name": "stdout",
     "text": [
      "[0, 1, 2, 3, 4, 5, 6, 7, 8, 9, 10, 11, 12, 13, 14, 15, 16, 17, 18, 19, 20, 21, 22, 0, 0, 0, 0, 0, 0, 0, 0, 0, 0, 0, 0, 0, 0]\n"
     ]
    }
   ],
   "source": [
    "coco_category_id_list = [0]*len(cc_list)\n",
    "for cat in data_df['categories'][0]:\n",
    "    if cat['name'] in cc_list:\n",
    "        pos = cc_list.index(cat['name'])\n",
    "        coco_category_id_list[pos] = cat['id']\n",
    "\n",
    "# this is the list of the COCO ids of the new categories (when exists)\n",
    "print(coco_category_id_list)"
   ]
  },
  {
   "cell_type": "code",
   "execution_count": 14,
   "metadata": {},
   "outputs": [
    {
     "output_type": "stream",
     "name": "stdout",
     "text": [
      "[0, 1, 2, 17, 18, 27, 28, 31, 33, 37, 39, 41, 43, 44, 46, 54, 62, 73, 77, 84, 85, 87, 88, 0, 0, 0, 0, 0, 0, 0, 0, 0, 0, 0, 0, 0, 0]\n"
     ]
    }
   ],
   "source": [
    "# this variable has the coco category id in the position of the custom category\n",
    "custom_category_coco_category = [0]*len(cc_list)\n",
    "for i, cat_name in enumerate(COCO_CLASSES):\n",
    "    if cat_name in cc_list:\n",
    "        cc_pos = cc_list.index(cat_name)\n",
    "        coco_cat_id = REVERSE_COCO_LABEL_MAP[i+1]\n",
    "        custom_category_coco_category[cc_pos] = coco_cat_id\n",
    "        # print(i, cat_name, cc_pos, coco_cat_id)\n",
    "\n",
    "print(custom_category_coco_category)"
   ]
  },
  {
   "cell_type": "markdown",
   "metadata": {},
   "source": [
    "# looking at images"
   ]
  },
  {
   "cell_type": "code",
   "execution_count": 15,
   "metadata": {},
   "outputs": [
    {
     "output_type": "stream",
     "name": "stdout",
     "text": [
      "5984 dict_keys(['license', 'file_name', 'coco_url', 'height', 'width', 'date_captured', 'flickr_url', 'id'])\n"
     ]
    }
   ],
   "source": [
    "new_person_images = person_data_df['images'][0]\n",
    "print( len(new_person_images), new_person_images[0].keys())"
   ]
  },
  {
   "cell_type": "code",
   "execution_count": 16,
   "metadata": {},
   "outputs": [],
   "source": [
    "images_person_data_df = pd.DataFrame(person_data_df['images'][0])"
   ]
  },
  {
   "cell_type": "code",
   "execution_count": 17,
   "metadata": {},
   "outputs": [],
   "source": [
    "# a = images_person_data_df[images_person_data_df['id']==262145]\n",
    "# print(a['height'][0], a['width'][0])"
   ]
  },
  {
   "cell_type": "code",
   "execution_count": 18,
   "metadata": {},
   "outputs": [
    {
     "output_type": "execute_result",
     "data": {
      "text/plain": [
       "{'license': 1,\n",
       " 'file_name': 'COCO_val2014_000000109229.jpg',\n",
       " 'coco_url': 'http://mscoco.org/images/109229',\n",
       " 'height': 640,\n",
       " 'width': 514,\n",
       " 'date_captured': '2013-11-18 17:27:34',\n",
       " 'flickr_url': 'http://farm3.staticflickr.com/2342/1794334693_c3e27b61dd_z.jpg',\n",
       " 'id': 109229}"
      ]
     },
     "metadata": {},
     "execution_count": 18
    }
   ],
   "source": [
    "person_data_df['images'][0][0]"
   ]
  },
  {
   "cell_type": "code",
   "execution_count": 19,
   "metadata": {},
   "outputs": [
    {
     "output_type": "execute_result",
     "data": {
      "text/plain": [
       "5984"
      ]
     },
     "metadata": {},
     "execution_count": 19
    }
   ],
   "source": [
    "# list of image ids from human parts data\n",
    "new_person_images_list = [a['id'] for a in person_data_df['images'][0]]\n",
    "len(new_person_images_list)"
   ]
  },
  {
   "cell_type": "code",
   "execution_count": 20,
   "metadata": {},
   "outputs": [
    {
     "output_type": "execute_result",
     "data": {
      "text/plain": [
       "40504"
      ]
     },
     "metadata": {},
     "execution_count": 20
    }
   ],
   "source": [
    "all_images_list = [a['id'] for a in data_df['images'][0]]\n",
    "len(all_images_list)"
   ]
  },
  {
   "cell_type": "markdown",
   "metadata": {},
   "source": [
    "# looking at annotations"
   ]
  },
  {
   "cell_type": "code",
   "execution_count": 21,
   "metadata": {},
   "outputs": [
    {
     "output_type": "stream",
     "name": "stdout",
     "text": [
      "dict_keys(['segmentation', 'num_keypoints', 'dp_masks', 'area', 'dp_I', 'iscrowd', 'keypoints', 'dp_x', 'dp_U', 'image_id', 'dp_V', 'bbox', 'category_id', 'dp_y', 'id'])\n[{'counts': '[bh03m70O5I8I7B=D=K=C;E0000001N101O1N101N101O000010O010O1O01O010O010O001O010O1O010N1000O100O001O100O1O01O0100O010OO12O000000001O000000001O000O12NJ7D;ZNPJR1[6mNjI8l6Hf0O2O0O2O0000XVc0', 'size': [256, 256]}, {'counts': 'mQ11o72N000O1000001N0100000O100O1O0100000O100O10O10010O01O1O001OO1O2N1N3M2O10Wfe1', 'size': [256, 256]}, {'counts': 'Pkj1173]7:N0O3N1N2N010O02O0O2N101M2M5LQU1', 'size': [256, 256]}, {'counts': 'ZgQ16g77L3M1O001O001OO10000000O14L5K4L4LYhi0', 'size': [256, 256]}, {'counts': 'j_l01o72N2N1N1000000000000000000O1000000O12N3M3MQPn0', 'size': [256, 256]}, {'counts': 'U\\\\j0h1S64N21O101N1O2N2O001O001O00001O001O000010O100O100O101NN3ROn0I6J7Ikcm0', 'size': [256, 256]}, {'counts': 'P]Q1a0Y7d0\\\\O5K6M210O10O01O002O0O2N101N101N103L3MN3N2N2M3N200N2I7F:I7K5J6K4IXTf0', 'size': [256, 256]}, {'counts': 'm]j09f7b0^O<D4M5J4L5K5L4L1O0000O100000000000001O1O1N2O1fN\\\\J6e5GdJ2^5IlJOZ5IPK1kfn0', 'size': [256, 256]}, {'counts': 'o]Q1e0[7>A6K0O10000O100O11O001O001N110A>I:EVji0', 'size': [256, 256]}, {'counts': 'kaZ14l75K1N3N1N2O1O1O0O20O10O10O0100O0100O00100O1O010O01O000100O001O1O0N3M3L3N3O1N11O01O0010c]:', 'size': [256, 256]}, {'counts': 'SZ`03l75L3M5K000O10O0100O100O10000O10000O10O01000000O1O10O01O010O1O010OO200O1M3N2GenU1', 'size': [256, 256]}, {'counts': 'cjb12l72M4M201N110O000010O01O010O00000010O10O01O01O0100O0010O01O1O001O1O000O101N2N2OUU3', 'size': [256, 256]}, {'counts': 'Qb81n71O1N3M3N2O002O0O1O0010O000100O010O010O010O00010O00010O0001O3N3L3Nbm^1', 'size': [256, 256]}, {'counts': 'nhk02k75ELdH8X7:N3L2N3M200O3VIoNa6S1[IPOd6V1O2N2O0O1O2O001O0000001N10001OO1000001O0O101O00001N3M2O2N2M4M3QOSI;^7M3N2M5L20TWh0', 'size': [256, 256]}]\n"
     ]
    }
   ],
   "source": [
    "# person annotations\n",
    "# extraer segmentation: anotaciòn individual de cada persona detectada\n",
    "# extrater dp_masks: e insertar una anotación por cada uno de los 14 elementos de la persona que tienen anotaciones\n",
    "# si se puede, transformar el mapa de bits en \n",
    "print(person_data_df['annotations'][0][0].keys())\n",
    "print(person_data_df['annotations'][0][0]['dp_masks'])"
   ]
  },
  {
   "cell_type": "code",
   "execution_count": 22,
   "metadata": {},
   "outputs": [
    {
     "output_type": "stream",
     "name": "stdout",
     "text": [
      "{'segmentation': [[217.17, 355, 218.61, 349.24, 212.85, 324.79, 214.29, 313.29, 225.8, 296.03, 244.49, 296.03, 256, 304.66, 257.44, 339.18, 257.44, 350.68, 325.03, 382.32, 352.36, 406.77, 345.17, 418.28, 343.73, 422.59, 332.22, 422.59, 312.09, 409.65, 279.01, 396.7, 273.26, 389.51, 264.63, 445.6, 258.88, 534.77, 251.69, 563.54, 240.18, 580.79, 244.49, 587.98, 224.36, 587.98, 208.54, 587.98, 207.1, 587.98, 202.79, 582.23, 201.35, 562.1, 201.35, 541.96, 201.35, 501.69, 202.79, 390.95, 201.35, 382.32, 178.34, 393.83, 171.15, 393.83, 161.08, 390.95, 145.26, 383.76, 135.19, 375.13, 116.49, 369.38, 109.3, 369.38, 117.93, 362.19, 136.63, 359.31, 142.38, 356.43, 143.82, 356.43, 169.71, 370.82, 199.91, 359.31]], 'num_keypoints': 17, 'dp_masks': [{'counts': '[bh03m70O5I8I7B=D=K=C;E0000001N101O1N101N101O000010O010O1O01O010O010O001O010O1O010N1000O100O001O100O1O01O0100O010OO12O000000001O000000001O000O12NJ7D;ZNPJR1[6mNjI8l6Hf0O2O0O2O0000XVc0', 'size': [256, 256]}, {'counts': 'mQ11o72N000O1000001N0100000O100O1O0100000O100O10O10010O01O1O001OO1O2N1N3M2O10Wfe1', 'size': [256, 256]}, {'counts': 'Pkj1173]7:N0O3N1N2N010O02O0O2N101M2M5LQU1', 'size': [256, 256]}, {'counts': 'ZgQ16g77L3M1O001O001OO10000000O14L5K4L4LYhi0', 'size': [256, 256]}, {'counts': 'j_l01o72N2N1N1000000000000000000O1000000O12N3M3MQPn0', 'size': [256, 256]}, {'counts': 'U\\\\j0h1S64N21O101N1O2N2O001O001O00001O001O000010O100O100O101NN3ROn0I6J7Ikcm0', 'size': [256, 256]}, {'counts': 'P]Q1a0Y7d0\\\\O5K6M210O10O01O002O0O2N101N101N103L3MN3N2N2M3N200N2I7F:I7K5J6K4IXTf0', 'size': [256, 256]}, {'counts': 'm]j09f7b0^O<D4M5J4L5K5L4L1O0000O100000000000001O1O1N2O1fN\\\\J6e5GdJ2^5IlJOZ5IPK1kfn0', 'size': [256, 256]}, {'counts': 'o]Q1e0[7>A6K0O10000O100O11O001O001N110A>I:EVji0', 'size': [256, 256]}, {'counts': 'kaZ14l75K1N3N1N2O1O1O0O20O10O10O0100O0100O00100O1O010O01O000100O001O1O0N3M3L3N3O1N11O01O0010c]:', 'size': [256, 256]}, {'counts': 'SZ`03l75L3M5K000O10O0100O100O10000O10000O10O01000000O1O10O01O010O1O010OO200O1M3N2GenU1', 'size': [256, 256]}, {'counts': 'cjb12l72M4M201N110O000010O01O010O00000010O10O01O01O0100O0010O01O1O001O1O000O101N2N2OUU3', 'size': [256, 256]}, {'counts': 'Qb81n71O1N3M3N2O002O0O1O0010O000100O010O010O010O00010O00010O0001O3N3L3Nbm^1', 'size': [256, 256]}, {'counts': 'nhk02k75ELdH8X7:N3L2N3M200O3VIoNa6S1[IPOd6V1O2N2O0O1O2O001O0000001N10001OO1000001O0O101O00001N3M2O2N2M4M3QOSI;^7M3N2M5L20TWh0', 'size': [256, 256]}], 'area': 20752.355, 'dp_I': [2.0, 2.0, 2.0, 2.0, 2.0, 2.0, 2.0, 2.0, 2.0, 2.0, 2.0, 2.0, 2.0, 2.0, 23.0, 24.0, 23.0, 24.0, 23.0, 23.0, 24.0, 23.0, 23.0, 24.0, 23.0, 24.0, 2.0, 2.0, 2.0, 9.0, 9.0, 9.0, 9.0, 9.0, 9.0, 9.0, 9.0, 9.0, 2.0, 2.0, 10.0, 10.0, 10.0, 10.0, 10.0, 10.0, 10.0, 10.0, 10.0, 10.0, 17.0, 17.0, 15.0, 15.0, 17.0, 15.0, 15.0, 16.0, 16.0, 16.0, 16.0, 16.0, 16.0, 16.0, 16.0, 13.0, 13.0, 13.0, 13.0, 13.0, 13.0, 13.0, 13.0, 13.0, 13.0, 13.0, 13.0, 10.0, 14.0, 14.0, 14.0, 14.0, 14.0, 14.0, 14.0, 21.0, 21.0, 21.0, 21.0, 21.0, 21.0, 20.0, 20.0, 22.0, 20.0, 20.0, 20.0, 14.0, 5.0, 5.0, 5.0, 5.0, 6.0, 6.0, 6.0, 6.0, 6.0, 20.0, 3.0, 3.0, 20.0, 3.0, 21.0, 4.0, 4.0, 4.0, 4.0], 'iscrowd': 0, 'keypoints': [238, 334, 2, 243, 328, 2, 231, 328, 2, 253, 329, 2, 220, 332, 2, 264, 365, 2, 213, 366, 2, 299, 381, 2, 172, 381, 2, 332, 401, 2, 142, 364, 2, 253, 461, 2, 218, 459, 2, 248, 510, 2, 224, 512, 2, 239, 561, 2, 224, 580, 2], 'dp_x': [113.39676666259766, 160.12887573242188, 134.9632568359375, 146.29856872558594, 107.34227752685547, 125.92852783203125, 161.89727783203125, 140.03428649902344, 114.84563446044922, 159.24981689453125, 135.89480590820312, 115.90459442138672, 156.3788604736328, 135.69859313964844, 129.20986938476562, 141.76695251464844, 119.91279602050781, 145.945068359375, 132.18276977539062, 118.58522033691406, 150.34263610839844, 135.13938903808594, 123.2345962524414, 144.8899688720703, 129.6240692138672, 143.11936950683594, 110.12503051757812, 120.69116973876953, 131.2006072998047, 109.02838134765625, 119.87908172607422, 128.9969024658203, 111.89606475830078, 126.1850814819336, 111.3669204711914, 124.18157196044922, 110.1156997680664, 127.28569793701172, 158.64175415039062, 146.25582885742188, 157.57272338867188, 142.28578186035156, 154.78329467773438, 140.95565795898438, 153.563720703125, 139.72052001953125, 152.49819946289062, 139.5905303955078, 138.674072265625, 150.50914001464844, 175.84642028808594, 186.2951202392578, 178.11294555664062, 194.99929809570312, 203.94424438476562, 187.11773681640625, 197.6676483154297, 97.80564880371094, 88.40885925292969, 79.88483428955078, 97.25932312011719, 70.04550170898438, 91.60533142089844, 81.67549133300781, 71.43785095214844, 121.35330200195312, 110.62220001220703, 124.89067077636719, 111.00025939941406, 122.73576354980469, 111.63835906982422, 122.78900146484375, 112.56291961669922, 124.12914276123047, 115.0601577758789, 126.5003662109375, 117.51244354248047, 145.00326538085938, 137.42996215820312, 146.40928649902344, 137.53652954101562, 145.05816650390625, 137.43081665039062, 144.2652587890625, 140.3979034423828, 217.02532958984375, 208.3828582763672, 225.82334899902344, 216.28150939941406, 226.31419372558594, 235.33279418945312, 40.03012466430664, 50.737953186035156, 44.58686447143555, 59.656558990478516, 52.84809494018555, 62.42593765258789, 143.8323974609375, 137.5202178955078, 144.73167419433594, 138.5338134765625, 145.49977111816406, 129.12557983398438, 123.3823013305664, 117.57316589355469, 130.51222229003906, 123.55984497070312, 34.347721099853516, 25.500076293945312, 18.233633041381836, 31.77898406982422, 9.474644660949707, 239.779052734375, 246.09046936035156, 239.04971313476562, 245.9032440185547, 240.48013305664062], 'dp_U': [0.10396958887577057, 0.09521439671516418, 0.11500038206577301, 0.20658190548419952, 0.22284521162509918, 0.21311061084270477, 0.2732165455818176, 0.31575843691825867, 0.4118849039077759, 0.40298134088516235, 0.4522867202758789, 0.5832812190055847, 0.6059700846672058, 0.6420809626579285, 0.988430380821228, 0.21053878962993622, 0.6609972715377808, 0.38516607880592346, 0.9090552926063538, 0.6090379953384399, 0.369001567363739, 0.9767354726791382, 0.7014941573143005, 0.2376064956188202, 0.8498840928077698, 0.20954470336437225, 0.7706901431083679, 0.8120887875556946, 0.8607836961746216, 0.8855287432670593, 0.7501196265220642, 0.5914233922958374, 0.6236558556556702, 0.4590929448604584, 0.46843674778938293, 0.36264631152153015, 0.3458409011363983, 0.25592175126075745, 0.7663120031356812, 0.8243812322616577, 0.7959498763084412, 0.6739370822906494, 0.6242347955703735, 0.49445679783821106, 0.5108809471130371, 0.3941669166088104, 0.3986954987049103, 0.31092166900634766, 0.19706913828849792, 0.27294012904167175, 0.19830290973186493, 0.3768177628517151, 0.1165420189499855, 0.48112261295318604, 0.8541167378425598, 0.4233470559120178, 0.7115480899810791, 0.027470532804727554, 0.2726478576660156, 0.5073794722557068, 0.0229935385286808, 0.8288975954055786, 0.2795853614807129, 0.5554910898208618, 0.9002518057823181, 0.010771378874778748, 0.060072675347328186, 0.24544045329093933, 0.225733682513237, 0.387499064207077, 0.4042123258113861, 0.5871077179908752, 0.6346272826194763, 0.7249618172645569, 0.7726898789405823, 0.9008888602256775, 0.9676884412765503, 0.10286025702953339, 0.12076661735773087, 0.19296947121620178, 0.3066841661930084, 0.3811955749988556, 0.508297324180603, 0.6929869651794434, 0.8492205142974854, 0.09695430845022202, 0.10246169567108154, 0.2398361712694168, 0.271262526512146, 0.47538813948631287, 0.7383146286010742, 0.06384000182151794, 0.24605150520801544, 0.6582264304161072, 0.9003093242645264, 0.660971462726593, 0.7791639566421509, 0.977262020111084, 0.3512306809425354, 0.3749273717403412, 0.47106462717056274, 0.4882785677909851, 0.6202046871185303, 0.5954104661941528, 0.6964985132217407, 0.5324297547340393, 0.5243067145347595, 0.08216382563114166, 0.5689014792442322, 0.58026123046875, 0.10007049143314362, 0.5383374691009521, 0.9560258984565735, 0.6298524141311646, 0.7436730861663818, 0.7019110321998596, 0.8579039573669434], 'image_id': 109229, 'dp_V': [0.673243522644043, 0.33541035652160645, 0.5203165411949158, 0.35261934995651245, 0.7065007090568542, 0.5227487683296204, 0.1967514008283615, 0.4545399844646454, 0.683081865310669, 0.2600952088832855, 0.4436020851135254, 0.6609233021736145, 0.19042669236660004, 0.42805016040802, 0.9037810564041138, 0.8149980902671814, 0.7443781495094299, 0.7010350227355957, 0.7213871479034424, 0.6267474889755249, 0.5568214058876038, 0.5419858694076538, 0.475896418094635, 0.35682326555252075, 0.26045164465904236, 0.11865442246198654, 0.8247714042663574, 0.6689192056655884, 0.5314655900001526, 0.4054678678512573, 0.641764223575592, 0.8902504444122314, 0.43049710988998413, 0.7654825448989868, 0.3721975088119507, 0.7082868814468384, 0.3343633711338043, 0.6816092729568481, 0.20442044734954834, 0.38220998644828796, 0.5095045566558838, 0.9111863374710083, 0.4943292737007141, 0.8874513506889343, 0.3750697374343872, 0.7643341422080994, 0.3644683361053467, 0.6318759918212891, 0.5266515016555786, 0.31726202368736267, 0.9605333209037781, 0.8557084202766418, 0.6550031900405884, 0.8170424699783325, 0.6771722435951233, 0.5641355514526367, 0.5965211391448975, 0.7266939282417297, 0.6468043327331543, 0.5830928087234497, 0.3726004362106323, 0.6737321019172668, 0.2909644842147827, 0.3551488518714905, 0.4392108917236328, 0.4252019226551056, 0.8130914568901062, 0.31382837891578674, 0.7635629773139954, 0.38696086406707764, 0.7330319285392761, 0.4292769730091095, 0.6676951050758362, 0.40933758020401, 0.6847296357154846, 0.4471377730369568, 0.5918831825256348, 0.23277926445007324, 0.3129092752933502, 0.7537592053413391, 0.4610496759414673, 0.7349002957344055, 0.4449903666973114, 0.7066596150398254, 0.5431756973266602, 0.33825746178627014, 0.577465832233429, 0.2234586477279663, 0.48596686124801636, 0.366477906703949, 0.232573002576828, 0.5198234915733337, 0.6040653586387634, 0.230113685131073, 0.2969803512096405, 0.5134238004684448, 0.5859607458114624, 0.6186929941177368, 0.5062532424926758, 0.7005754113197327, 0.5379146337509155, 0.750704288482666, 0.5213170051574707, 0.6638704538345337, 0.7725024819374084, 0.503774881362915, 0.6913444995880127, 0.2846659719944, 0.300476610660553, 0.4212814271450043, 0.44209417700767517, 0.7661377191543579, 0.4883825480937958, 0.2372022569179535, 0.17207083106040955, 0.463548481464386, 0.6975933909416199], 'bbox': [109.3, 296.03, 243.06, 291.95], 'category_id': 1, 'dp_y': [58.59764099121094, 58.93833923339844, 60.540531158447266, 73.58451080322266, 77.5483627319336, 78.3914566040039, 81.59009552001953, 91.77135467529297, 97.12396240234375, 101.28472137451172, 108.95051574707031, 117.59032440185547, 119.7553939819336, 128.3593292236328, 8.81949520111084, 9.684825897216797, 16.46109390258789, 19.965497970581055, 20.893535614013672, 27.807777404785156, 30.053043365478516, 31.900571823120117, 37.0329475402832, 39.78467559814453, 46.71672821044922, 49.00772476196289, 131.9232635498047, 136.6204071044922, 141.8512725830078, 144.1929168701172, 147.86009216308594, 154.00473022460938, 156.88711547851562, 164.17552185058594, 167.9134979248047, 174.3022003173828, 179.67474365234375, 184.10903930664062, 132.8052978515625, 137.85147094726562, 143.78799438476562, 146.73388671875, 154.12088012695312, 156.41441345214844, 164.59881591796875, 165.8808135986328, 175.08847045898438, 175.39166259765625, 185.02342224121094, 185.83740234375, 60.94792938232422, 64.81233978271484, 69.47020721435547, 70.29354095458984, 74.77352142333984, 75.60379028320312, 80.25566864013672, 57.022308349609375, 62.17892837524414, 66.21749114990234, 66.33970642089844, 69.06053924560547, 73.23491668701172, 75.56178283691406, 77.26317596435547, 187.56898498535156, 190.08975219726562, 196.4235076904297, 200.52655029296875, 206.18511962890625, 211.72596740722656, 217.04295349121094, 222.94549560546875, 228.68870544433594, 234.2267303466797, 241.03903198242188, 244.71705627441406, 191.75157165527344, 194.50448608398438, 199.956298828125, 204.28640747070312, 209.63507080078125, 215.02639770507812, 219.5654296875, 226.61404418945312, 80.13024139404297, 80.97888946533203, 84.46676635742188, 86.84207153320312, 90.44960021972656, 90.90145874023438, 62.08325958251953, 64.4947509765625, 68.82061004638672, 68.82573699951172, 73.06726837158203, 76.66157531738281, 233.13075256347656, 235.02279663085938, 239.32830810546875, 242.8240966796875, 245.76710510253906, 249.10601806640625, 250.14511108398438, 252.38839721679688, 253.6482696533203, 254.1845245361328, 56.85160446166992, 57.57823181152344, 59.93309783935547, 60.95003890991211, 61.49998474121094, 95.95074462890625, 97.3560562133789, 102.50047302246094, 104.30279541015625, 109.16085052490234], 'id': 442795}\n"
     ]
    }
   ],
   "source": [
    "print(person_data_df['annotations'][0][0])"
   ]
  },
  {
   "cell_type": "markdown",
   "metadata": {},
   "source": [
    "# generating annotations"
   ]
  },
  {
   "cell_type": "code",
   "execution_count": 23,
   "metadata": {},
   "outputs": [],
   "source": [
    "def GetDensePoseMasks(Polys):\n",
    "    mask_list = [0]*15\n",
    "    for i in range(1,15):\n",
    "        MaskGen = np.zeros([256,256])\n",
    "        if(Polys[i-1]):\n",
    "            current_mask = mask_util.decode(Polys[i-1])\n",
    "            MaskGen[current_mask>0] = 1\n",
    "        mask_list[i-1]=MaskGen\n",
    "    return mask_list"
   ]
  },
  {
   "cell_type": "code",
   "execution_count": 24,
   "metadata": {},
   "outputs": [],
   "source": [
    "def GetDensePoseMask(encoded_mask):\n",
    "    MaskGen = np.zeros([256,256])\n",
    "    current_mask = mask_util.decode(encoded_mask)\n",
    "    MaskGen[current_mask>0] = 1\n",
    "    return MaskGen"
   ]
  },
  {
   "cell_type": "code",
   "execution_count": 25,
   "metadata": {},
   "outputs": [],
   "source": [
    "def get_poligons(mask):\n",
    "    c = cv2.findContours(mask.astype(np.uint8), cv2.RETR_TREE, cv2.CHAIN_APPROX_SIMPLE)\n",
    "    contours = [0]*2*len(c[0][0].tolist())\n",
    "    for i,x in enumerate(c[0][0].tolist()):\n",
    "        contours[2*i]=int(x[0][0])\n",
    "        contours[2*i+1]= int(x[0][1])\n",
    "    return contours"
   ]
  },
  {
   "cell_type": "code",
   "execution_count": 26,
   "metadata": {},
   "outputs": [],
   "source": [
    "def CreateMaskBBox(mask, bbr, image_shape):\n",
    "    final_mask = np.zeros([image_shape[1],image_shape[0]])\n",
    "    x1 = int(bbr[0])\n",
    "    y1 = int(bbr[1])\n",
    "    x2 = int(bbr[0]+bbr[2])\n",
    "    y2 = int(bbr[1]+bbr[3])\n",
    "    x2 = min( [ x2, image_shape[0] ] )\n",
    "    y2 = min( [ y2, image_shape[1] ] )\n",
    "    # print(bbr, (x1,y1,x2,y2), (int(x2-x1),int(y2-y1)), mask.shape)\n",
    "    resized_mask = cv2.resize( mask, (int(x2-x1),int(y2-y1)) ,interpolation=cv2.INTER_NEAREST)\n",
    "    final_mask[y1:y2,x1:x2] = resized_mask\n",
    "    az = np.nonzero(final_mask)\n",
    "    bby1,bby2,bbx1,bbx2=np.min(az[0]), np.max(az[0]), np.min(az[1]), np.max(az[1])\n",
    "    contours = get_poligons(final_mask.astype(np.uint8))\n",
    "    encoded_final_mask = mask_util.encode(np.asfortranarray(final_mask.astype(np.uint8)))\n",
    "    mask_area = int(mask_util.area(encoded_final_mask))\n",
    "    # print((bbx1, bby1, bbx2-bbx1, bby2-bby1),encoded_final_mask)\n",
    "    encoded_final_mask['counts'] = encoded_final_mask['counts'].decode(\"utf-8\")\n",
    "    return final_mask, (bbx1, bby1, bbx2-bbx1, bby2-bby1), mask_area, encoded_final_mask, contours"
   ]
  },
  {
   "cell_type": "code",
   "execution_count": 27,
   "metadata": {},
   "outputs": [
    {
     "output_type": "stream",
     "name": "stderr",
     "text": [
      "100%|██████████| 25053/25053 [05:14<00:00, 79.59it/s]\n"
     ]
    }
   ],
   "source": [
    "new_person_ann = []\n",
    "for annotation in tqdm(person_data_df['annotations'][0]):\n",
    "    # print(annotation['image_id'], annotation['bbox'])\n",
    "    if annotation['iscrowd']==0:\n",
    "        ann_segment = annotation['segmentation']\n",
    "        ann_bbox = [int(annotation['bbox'][0]),int(annotation['bbox'][1]),int(annotation['bbox'][2]),int(annotation['bbox'][3])]\n",
    "        ann_area = annotation['area']\n",
    "        ann_image_id = annotation['image_id']\n",
    "        ann_id = annotation['id']\n",
    "        ann_cat_id = 1 # only person cat so must be 1\n",
    "        new_data = {'segmentation': ann_segment,\n",
    "                    'area': ann_area,\n",
    "                    'image_id': ann_image_id,\n",
    "                    'id': ann_id,\n",
    "                    'category_id': ann_cat_id,\n",
    "                    'bbox': ann_bbox,\n",
    "                    'iscrowd': 0}\n",
    "        new_person_ann.append(new_data)\n",
    "        a = images_person_data_df[images_person_data_df['id']==ann_image_id]\n",
    "        image_size = [a['width'].values[0],a['height'].values[0]]\n",
    "\n",
    "        if 'dp_masks' in annotation:\n",
    "            for i, ann_mask in enumerate(annotation['dp_masks']):\n",
    "                if len(ann_mask) > 1:\n",
    "                    ann_mask_decoded = GetDensePoseMask(ann_mask)\n",
    "                    mask, bbox, ann_area, encoded_mask, contours = CreateMaskBBox(ann_mask_decoded, annotation['bbox'], image_size )\n",
    "                    ann_bbox = [int(bbox[0]),int(bbox[1]),int(bbox[2]),int(bbox[3])]\n",
    "                    ann_segment = encoded_mask\n",
    "                    ann_image_id = annotation['image_id']\n",
    "                    ann_id = -1\n",
    "                    ann_cat_id = 23+i\n",
    "                    if len(contours)>4:\n",
    "                        new_data = {'segmentation': [contours], # encoded_mask,\n",
    "                                    'area': ann_area,\n",
    "                                    'image_id': ann_image_id,\n",
    "                                    'id': ann_id,\n",
    "                                    'category_id': ann_cat_id,\n",
    "                                    'bbox': ann_bbox,\n",
    "                                    'iscrowd': 0}\n",
    "                        new_person_ann.append(new_data)"
   ]
  },
  {
   "cell_type": "code",
   "execution_count": 28,
   "metadata": {},
   "outputs": [],
   "source": [
    "x = new_person_ann[1]\n"
   ]
  },
  {
   "cell_type": "code",
   "execution_count": 29,
   "metadata": {},
   "outputs": [
    {
     "output_type": "execute_result",
     "data": {
      "text/plain": [
       "list"
      ]
     },
     "metadata": {},
     "execution_count": 29
    }
   ],
   "source": [
    "type(x['segmentation'])"
   ]
  },
  {
   "cell_type": "markdown",
   "metadata": {},
   "source": [
    "# till here I have all human data and parts segmented and annotated\n",
    "# next step is to include the other classes"
   ]
  },
  {
   "cell_type": "code",
   "execution_count": 30,
   "metadata": {},
   "outputs": [
    {
     "output_type": "stream",
     "name": "stderr",
     "text": [
      "100%|██████████| 291875/291875 [00:02<00:00, 144417.80it/s]\n"
     ]
    }
   ],
   "source": [
    "new_data_ann = []\n",
    "new_data_image_list = []\n",
    "new_data_images = []\n",
    "for annotation in tqdm(data_df['annotations'][0]):\n",
    "    if annotation['category_id'] in custom_category_coco_category and annotation['category_id']>0:\n",
    "        ann_segment = annotation['segmentation']\n",
    "        ann_bbox = [int(annotation['bbox'][0]),int(annotation['bbox'][1]),int(annotation['bbox'][2]),int(annotation['bbox'][3])]\n",
    "        ann_area = annotation['area']\n",
    "        ann_image_id = annotation['image_id']\n",
    "        ann_id = annotation['id']\n",
    "        ann_iscrowd = annotation['iscrowd']\n",
    "        ann_cat_id = custom_category_coco_category.index(annotation['category_id'])\n",
    "        new_data = {'segmentation': ann_segment,\n",
    "                    'area': ann_area,\n",
    "                    'image_id': ann_image_id,\n",
    "                    'id': ann_id,\n",
    "                    'category_id': ann_cat_id,\n",
    "                    'bbox': ann_bbox,\n",
    "                    'iscrowd': ann_iscrowd}\n",
    "        new_person_ann.append(new_data)\n",
    "        new_data_image_list.append(ann_image_id)"
   ]
  },
  {
   "cell_type": "code",
   "execution_count": 31,
   "metadata": {},
   "outputs": [],
   "source": [
    "new_data_images = [image for image in data_df['images'][0] if image['id'] in new_data_image_list]"
   ]
  },
  {
   "source": [
    "# Updating indices"
   ],
   "cell_type": "markdown",
   "metadata": {}
  },
  {
   "cell_type": "code",
   "execution_count": 32,
   "metadata": {},
   "outputs": [],
   "source": [
    "final_images = new_person_images + new_data_images\n",
    "final_annotations = new_person_ann + new_data_ann"
   ]
  },
  {
   "cell_type": "code",
   "execution_count": 33,
   "metadata": {},
   "outputs": [
    {
     "output_type": "stream",
     "name": "stderr",
     "text": [
      "100%|██████████| 34882/34882 [00:09<00:00, 3520.57it/s]\n"
     ]
    },
    {
     "output_type": "execute_result",
     "data": {
      "text/plain": [
       "0"
      ]
     },
     "metadata": {},
     "execution_count": 33
    }
   ],
   "source": [
    "nil = []\n",
    "for image in tqdm(final_images):\n",
    "    if image[\"id\"] not in all_images_list:\n",
    "        nil.append[image[\"id\"]]\n",
    "len(nil)"
   ]
  },
  {
   "cell_type": "code",
   "execution_count": 34,
   "metadata": {},
   "outputs": [
    {
     "output_type": "execute_result",
     "data": {
      "text/plain": [
       "dict_keys(['segmentation', 'area', 'image_id', 'id', 'category_id', 'bbox', 'iscrowd'])"
      ]
     },
     "metadata": {},
     "execution_count": 34
    }
   ],
   "source": [
    "final_annotations[0].keys()"
   ]
  },
  {
   "cell_type": "code",
   "execution_count": 35,
   "metadata": {},
   "outputs": [
    {
     "output_type": "stream",
     "name": "stderr",
     "text": [
      "100%|██████████| 250523/250523 [00:00<00:00, 2012509.83it/s]\n"
     ]
    }
   ],
   "source": [
    "for i in tqdm(range(len(final_annotations))):\n",
    "    final_annotations[i]['id'] = i+1\n"
   ]
  },
  {
   "cell_type": "code",
   "execution_count": 36,
   "metadata": {},
   "outputs": [
    {
     "output_type": "stream",
     "name": "stderr",
     "text": [
      "100%|██████████| 34882/34882 [00:09<00:00, 3520.47it/s]\n"
     ]
    },
    {
     "output_type": "execute_result",
     "data": {
      "text/plain": [
       "0"
      ]
     },
     "metadata": {},
     "execution_count": 36
    }
   ],
   "source": [
    "nil = []\n",
    "for image in tqdm(final_images):\n",
    "    if image[\"id\"] not in all_images_list:\n",
    "        nil.append[image[\"id\"]]\n",
    "len(nil)"
   ]
  },
  {
   "cell_type": "markdown",
   "metadata": {},
   "source": [
    "# Saving humans parts data"
   ]
  },
  {
   "cell_type": "code",
   "execution_count": 37,
   "metadata": {},
   "outputs": [],
   "source": [
    "\n",
    "new_human_part_data = {\n",
    "    'images': new_person_images, \n",
    "    'annotations': new_person_ann, \n",
    "    'categories': custom_categories\n",
    "}"
   ]
  },
  {
   "cell_type": "code",
   "execution_count": 38,
   "metadata": {},
   "outputs": [],
   "source": [
    "class MyEncoder(JSONEncoder):\n",
    "    def default(self, o):\n",
    "        return o.__dict__\n",
    "new_human_part_data_json = MyEncoder().encode(new_human_part_data)"
   ]
  },
  {
   "cell_type": "code",
   "execution_count": 39,
   "metadata": {},
   "outputs": [],
   "source": [
    "with open('/home/ubuntu/dormakaba/coco/annotations/custom_ann_human_parts_valid2014_v10.json', 'w') as f:\n",
    "    json.dump(new_human_part_data_json, f)"
   ]
  },
  {
   "source": [
    "# Saving non humans data\n"
   ],
   "cell_type": "markdown",
   "metadata": {}
  },
  {
   "cell_type": "code",
   "execution_count": 40,
   "metadata": {},
   "outputs": [],
   "source": [
    "\n",
    "new_non_human_data = {\n",
    "    'images': new_data_images, \n",
    "    'annotations': new_data_ann, \n",
    "    'categories': custom_categories\n",
    "}"
   ]
  },
  {
   "cell_type": "code",
   "execution_count": 41,
   "metadata": {},
   "outputs": [],
   "source": [
    "class MyEncoder(JSONEncoder):\n",
    "    def default(self, o):\n",
    "        return o.__dict__\n",
    "new_non_human_data_json = MyEncoder().encode(new_non_human_data)"
   ]
  },
  {
   "cell_type": "code",
   "execution_count": 42,
   "metadata": {},
   "outputs": [],
   "source": [
    "with open('/home/ubuntu/dormakaba/coco/annotations/custom_ann_non_human_valid2014_v10.json', 'w') as f:\n",
    "    json.dump(new_non_human_data_json, f)"
   ]
  },
  {
   "source": [
    "# saving all data"
   ],
   "cell_type": "markdown",
   "metadata": {}
  },
  {
   "cell_type": "code",
   "execution_count": 43,
   "metadata": {},
   "outputs": [],
   "source": [
    "# IN THE version_02\n",
    "new_person_data = {\n",
    "    'images': final_images, \n",
    "    'annotations': final_annotations, \n",
    "    'categories': custom_categories\n",
    "}"
   ]
  },
  {
   "cell_type": "code",
   "execution_count": 44,
   "metadata": {},
   "outputs": [],
   "source": [
    "from json import JSONEncoder\n",
    "class MyEncoder(JSONEncoder):\n",
    "    def default(self, o):\n",
    "        return o.__dict__\n",
    "new_person_data_json = MyEncoder().encode(new_person_data)"
   ]
  },
  {
   "cell_type": "code",
   "execution_count": 45,
   "metadata": {},
   "outputs": [],
   "source": [
    "with open('/home/ubuntu/dormakaba/coco/annotations/custom_ann_valid2014_v10.json', 'w') as f:\n",
    "    json.dump(new_person_data_json, f)"
   ]
  },
  {
   "cell_type": "code",
   "execution_count": null,
   "metadata": {},
   "outputs": [],
   "source": []
  }
 ],
 "metadata": {
  "interpreter": {
   "hash": "47d517df254fbe59b5c04b69f23871c524fea7fc7dc51e349dcd158d9476f98d"
  },
  "kernelspec": {
   "name": "python3",
   "display_name": "Python 3.7.10 64-bit ('pytorch_latest_p37': conda)"
  },
  "language_info": {
   "codemirror_mode": {
    "name": "ipython",
    "version": 3
   },
   "file_extension": ".py",
   "mimetype": "text/x-python",
   "name": "python",
   "nbconvert_exporter": "python",
   "pygments_lexer": "ipython3",
   "version": "3.7.10"
  },
  "orig_nbformat": 2
 },
 "nbformat": 4,
 "nbformat_minor": 2
}