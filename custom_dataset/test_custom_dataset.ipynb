{
 "metadata": {
  "language_info": {
   "codemirror_mode": {
    "name": "ipython",
    "version": 3
   },
   "file_extension": ".py",
   "mimetype": "text/x-python",
   "name": "python",
   "nbconvert_exporter": "python",
   "pygments_lexer": "ipython3",
   "version": "3.7.0"
  },
  "orig_nbformat": 2,
  "kernelspec": {
   "name": "python370jvsc74a57bd043ea5ee8a92c56579f8ec6e3a48a2211d5f361fc5e73dc7dcd23cc6e60d8935d",
   "display_name": "Python 3.7.0 64-bit ('yolact-pytorch': conda)"
  }
 },
 "nbformat": 4,
 "nbformat_minor": 2,
 "cells": [
  {
   "cell_type": "code",
   "execution_count": null,
   "metadata": {},
   "outputs": [],
   "source": [
    "from pycocotools.coco import COCO\n",
    "import os\n",
    "import cv2\n",
    "import matplotlib.pyplot as plt\n",
    "import numpy as np\n",
    "import pycocotools.mask as mask_util\n",
    "from random import randint\n",
    "from collections import defaultdict"
   ]
  },
  {
   "cell_type": "code",
   "execution_count": null,
   "metadata": {},
   "outputs": [],
   "source": [
    "coco_folder = '/mnt/DATASSD/DataSandbox/coco'\n",
    "dp_coco = COCO( coco_folder + '/annotations/custom_ann_train2014_v06.json')\n"
   ]
  },
  {
   "cell_type": "code",
   "execution_count": null,
   "metadata": {},
   "outputs": [],
   "source": [
    "# Get img id's for the dataset.\n",
    "im_ids = dp_coco.getImgIds()\n",
    "# Select a random image id.\n",
    "Selected_im = im_ids[randint(0, len(im_ids))] # Choose im no 57 to replicate \n",
    "# print(Selected_im)\n",
    "# Selected_im = 262145\n",
    "# Load the image\n",
    "im = dp_coco.loadImgs(Selected_im)[0]  \n",
    "# Load Anns for the selected image.\n",
    "ann_ids = dp_coco.getAnnIds( imgIds=im['id'] )\n",
    "anns = dp_coco.loadAnns(ann_ids)\n",
    "# Now read and b\n",
    "im_name = os.path.join( coco_folder + '/train2014', im['file_name'] )"
   ]
  },
  {
   "cell_type": "code",
   "execution_count": null,
   "metadata": {},
   "outputs": [],
   "source": [
    "print(im_name)\n",
    "I=cv2.imread(im_name)\n",
    "plt.imshow(I[:,:,::-1]); plt.axis('off'); plt.show()"
   ]
  },
  {
   "cell_type": "code",
   "execution_count": null,
   "metadata": {},
   "outputs": [],
   "source": [
    "ids = dp_coco.getAnnIds(imgIds=[Selected_im])\n",
    "print(ids)\n",
    "target = dp_coco.loadAnns(ids)\n",
    "print(len(target))\n",
    "file_name = dp_coco.loadImgs(Selected_im)[0]['file_name']\n",
    "print(file_name)\n",
    "mask = dp_coco.annToMask(target[0])\n",
    "print(mask.shape, mask.max())\n"
   ]
  },
  {
   "cell_type": "code",
   "execution_count": null,
   "metadata": {},
   "outputs": [],
   "source": [
    "def GetDensePoseMask(Polys):\n",
    "    MaskGen = np.zeros([256,256])\n",
    "    for i in range(1,15):\n",
    "        if(Polys[i-1]):\n",
    "            current_mask = mask_util.decode(Polys[i-1])\n",
    "            MaskGen[current_mask>0] = i\n",
    "    return MaskGen"
   ]
  },
  {
   "cell_type": "code",
   "execution_count": null,
   "metadata": {},
   "outputs": [],
   "source": [
    "points0 = anns[0]['segmentation'][0]\n",
    "pointsU = anns[0]['dp_U']\n",
    "pointsV = anns[0]['dp_V']\n",
    "pointsx = anns[0]['dp_x']\n",
    "pointsy = anns[0]['dp_y']"
   ]
  },
  {
   "cell_type": "code",
   "execution_count": null,
   "metadata": {},
   "outputs": [],
   "source": [
    "for i in range(0,len(points0),2):\n",
    "    x = int(points0[i])\n",
    "    y = int(points0[i+1])\n",
    "    I = cv2.circle(I, (x,y), 2,(255,255,0),2)\n",
    "    \n",
    "I_vis=I.copy()/2 # Dim the image.\n",
    "I_vis2=I.copy()\n",
    "\n",
    "for ann in anns:  \n",
    "    bbr =  np.array(ann['bbox']).astype(int) # the box.\n",
    "    if( 'dp_masks' in ann.keys()): # If we have densepose annotation for this ann, \n",
    "        Mask = GetDensePoseMask(ann['dp_masks'])\n",
    "        mascaras = ann['dp_masks']\n",
    "        ################\n",
    "        x1,y1,x2,y2 = bbr[0],bbr[1],bbr[0]+bbr[2],bbr[1]+bbr[3]\n",
    "        print(x1,y1,x2,y2)\n",
    "        I_vis2 = cv2.rectangle(I_vis2, (x1,y1), (x2,y2),(255,0,0),2)\n",
    "        x2 = min( [ x2,I.shape[1] ] );  y2 = min( [ y2,I.shape[0] ] )\n",
    "        ################ \n",
    "        print(int(x2-x1),int(y2-y1))\n",
    "        MaskIm = cv2.resize( Mask, (int(x2-x1),int(y2-y1)) ,interpolation=cv2.INTER_NEAREST)\n",
    "\n",
    "        MaskBool = np.tile((MaskIm==0)[:,:,np.newaxis],[1,1,3])\n",
    "        #  Replace the visualized mask image with I_vis.\n",
    "        Mask_vis = cv2.applyColorMap( (MaskIm*15).astype(np.uint8) , cv2.COLORMAP_PARULA)[:,:,:]\n",
    "        Mask_vis[MaskBool]=I_vis[y1:y2,x1:x2,:][MaskBool]\n",
    "        I_vis[y1:y2,x1:x2,:] = I_vis[y1:y2,x1:x2,:]*0.3 + Mask_vis*0.7\n",
    "\n",
    "\n",
    "\n",
    "'''for i in range(0,len(points1),2):\n",
    "    x = int(points1[i])\n",
    "    y = int(points1[i+1])\n",
    "    I = cv2.circle(I, (x,y), 2,(255,0,255),2)'''\n",
    "\n",
    "print(I_vis.shape)\n",
    "fig = plt.figure(figsize=[15,30])\n",
    "plt.subplot(4,2,1)\n",
    "plt.imshow(I[:,:,::-1])\n",
    "\n",
    "plt.subplot(4,2,2)\n",
    "plt.imshow(I_vis)\n",
    "\n",
    "plt.subplot(4,2,3)\n",
    "plt.imshow(MaskIm)\n",
    "\n",
    "plt.subplot(4,2,4)\n",
    "plt.imshow(Mask_vis)\n",
    "\n",
    "plt.subplot(4,2,5)\n",
    "plt.imshow(I2[:,:,::-1])\n",
    "\n",
    "plt.subplot(4,2,6)\n",
    "plt.imshow(mask)\n",
    "\n",
    "plt.subplot(4,2,7)\n",
    "plt.imshow(Mask)\n",
    "\n",
    "plt.subplot(4,2,8)\n",
    "plt.imshow(I_vis2)\n",
    "\n",
    "plt.show()"
   ]
  }
 ]
}