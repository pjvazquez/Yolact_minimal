{
 "metadata": {
  "language_info": {
   "codemirror_mode": {
    "name": "ipython",
    "version": 3
   },
   "file_extension": ".py",
   "mimetype": "text/x-python",
   "name": "python",
   "nbconvert_exporter": "python",
   "pygments_lexer": "ipython3",
   "version": "3.7.10"
  },
  "orig_nbformat": 2,
  "kernelspec": {
   "name": "python3",
   "display_name": "Python 3.7.10 64-bit ('pytorch_latest_p37': conda)"
  },
  "interpreter": {
   "hash": "47d517df254fbe59b5c04b69f23871c524fea7fc7dc51e349dcd158d9476f98d"
  }
 },
 "nbformat": 4,
 "nbformat_minor": 2,
 "cells": [
  {
   "cell_type": "code",
   "execution_count": null,
   "source": [
    "from pycocotools.coco import COCO\n",
    "import os\n",
    "import cv2\n",
    "import matplotlib.pyplot as plt\n",
    "import numpy as np\n",
    "import pycocotools.mask as mask_util\n",
    "from random import randint\n",
    "from collections import defaultdict"
   ],
   "outputs": [],
   "metadata": {}
  },
  {
   "cell_type": "code",
   "execution_count": null,
   "source": [
    "coco_folder = '/home/ubuntu/dormakaba/coco'\n",
    "dp_coco = COCO( coco_folder + '/annotations/custom_ann_train2014_v14.json')\n"
   ],
   "outputs": [],
   "metadata": {}
  },
  {
   "cell_type": "code",
   "execution_count": null,
   "source": [
    "# Get img id's for the dataset.\n",
    "im_ids = dp_coco.getImgIds()\n",
    "# Select a random image id.\n",
    "Selected_im = im_ids[randint(0, len(im_ids))] # Choose im no 57 to replicate \n",
    "# print(Selected_im)\n",
    "# Selected_im = 262145\n",
    "# Load the image\n",
    "im = dp_coco.loadImgs(Selected_im)[0]  \n",
    "# Load Anns for the selected image.\n",
    "ann_ids = dp_coco.getAnnIds( imgIds=im['id'] )\n",
    "anns = dp_coco.loadAnns(ann_ids)\n",
    "# Now read and b\n",
    "im_name = os.path.join( coco_folder + '/images/train2014', im['file_name'] )"
   ],
   "outputs": [],
   "metadata": {}
  },
  {
   "cell_type": "code",
   "execution_count": null,
   "source": [
    "img_to_anns = list(dp_coco.imgToAnns.keys())\n",
    "all_img_ids = list(dp_coco.imgs.keys())\n",
    "all_ann_ids = dp_coco.getAnnIds()\n",
    "print(len(img_to_anns), len(all_img_ids), len(all_ann_ids))"
   ],
   "outputs": [],
   "metadata": {}
  },
  {
   "cell_type": "code",
   "execution_count": null,
   "source": [],
   "outputs": [],
   "metadata": {}
  },
  {
   "cell_type": "code",
   "execution_count": null,
   "source": [
    "ann_not_in_list = []\n",
    "count = 0\n",
    "for img_id in all_img_ids:\n",
    "    try:\n",
    "        filename = dp_coco.loadImgs(img_id)\n",
    "    except:\n",
    "        ann_not_in_list.append(img_id)\n"
   ],
   "outputs": [],
   "metadata": {}
  },
  {
   "cell_type": "code",
   "execution_count": null,
   "source": [
    "print( len(ann_not_in_list))"
   ],
   "outputs": [],
   "metadata": {}
  },
  {
   "cell_type": "code",
   "execution_count": null,
   "source": [],
   "outputs": [],
   "metadata": {}
  },
  {
   "cell_type": "code",
   "execution_count": null,
   "source": [
    "not_in_list = []\n",
    "count = 0\n",
    "for img_id in ids:\n",
    "    if img_id in dp_coco.imgs:\n",
    "        count += 1\n",
    "    else:\n",
    "        not_in_list.append(img_id)"
   ],
   "outputs": [],
   "metadata": {}
  },
  {
   "cell_type": "code",
   "execution_count": null,
   "source": [
    "print( Selected_im, im, ann_ids, im_name)\n",
    "I=cv2.imread(im_name)\n",
    "if I is not None:\n",
    "    plt.imshow(I[:,:,::-1]); plt.axis('off'); plt.show()\n",
    "else:\n",
    "    print(\"No image to load\")"
   ],
   "outputs": [],
   "metadata": {}
  },
  {
   "cell_type": "code",
   "execution_count": null,
   "source": [
    "ids = dp_coco.getAnnIds(imgIds=[Selected_im])\n",
    "print(ids)\n",
    "target = dp_coco.loadAnns(ids)\n",
    "print(len(target))\n",
    "file_name = dp_coco.loadImgs(Selected_im)[0]['file_name']\n",
    "print(file_name)\n",
    "mask = dp_coco.annToMask(target[0])\n",
    "print(mask.shape, mask.max())\n"
   ],
   "outputs": [],
   "metadata": {}
  },
  {
   "cell_type": "code",
   "execution_count": null,
   "source": [
    "def GetDensePoseMask(Polys):\n",
    "    MaskGen = np.zeros([256,256])\n",
    "    for i in range(1,15):\n",
    "        if(Polys[i-1]):\n",
    "            current_mask = mask_util.decode(Polys[i-1])\n",
    "            MaskGen[current_mask>0] = i\n",
    "    return MaskGen"
   ],
   "outputs": [],
   "metadata": {}
  },
  {
   "cell_type": "code",
   "execution_count": null,
   "source": [
    "points0 = anns[0]['segmentation'][0]"
   ],
   "outputs": [],
   "metadata": {}
  },
  {
   "cell_type": "code",
   "execution_count": null,
   "source": [
    "print(anns[0].keys())"
   ],
   "outputs": [],
   "metadata": {}
  },
  {
   "cell_type": "code",
   "execution_count": null,
   "source": [
    "I2 = I.copy()\n",
    "I3 = I.copy()\n",
    "I4 = np.zeros((I.shape[0], I.shape[1]))\n",
    "\n",
    "fog = plt.figure(figsize=[30,30])\n",
    "i = 0\n",
    "for ann in anns:\n",
    "    for i in range(0,len(ann['segmentation'][0]),2):\n",
    "        x = int(ann['segmentation'][0][i])\n",
    "        y = int(ann['segmentation'][0][i+1])\n",
    "        I2 = cv2.circle(I2, (x,y), 2,(255,255,0),2)\n",
    "    bbr =  np.array(ann['bbox']).astype(int) # the box.\n",
    "    # print(ann['category_id'], bbr)\n",
    "    # x1,y1,x2,y2 = bbr[0],bbr[1],bbr[0]+bbr[2],bbr[1]+bbr[3]\n",
    "    x1,y1,x2,y2 = bbr[0],bbr[1],bbr[0]+bbr[2],bbr[1]+bbr[3]\n",
    "    I3 = cv2.rectangle(I3, (x1,y1), (x2,y2),(255,0,0),2)\n",
    "    print(ann)\n",
    "    if len(ann['segmentation'][0]) > 4:\n",
    "        Mask = dp_coco.annToMask(ann)\n",
    "        I4 += Mask\n",
    "\n",
    "plt.subplot(3,1,1)\n",
    "plt.imshow(I2[:,:,::-1])\n",
    "\n",
    "plt.subplot(3,1,2)\n",
    "plt.imshow(I3[:,:,::-1])\n",
    "\n",
    "plt.subplot(3,1,3)\n",
    "plt.imshow(I4)"
   ],
   "outputs": [],
   "metadata": {}
  },
  {
   "cell_type": "code",
   "execution_count": null,
   "source": [],
   "outputs": [],
   "metadata": {}
  }
 ]
}