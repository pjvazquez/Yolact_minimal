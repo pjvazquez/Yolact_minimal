{
 "cells": [
  {
   "cell_type": "markdown",
   "source": [
    "# Create an initial dataset with elements from COCO dataset \n",
    "# and elements from densepose dataset condensing left-right in only one class\n",
    "## all body parts included\n",
    "\n",
    "## corresponds with version 14\n"
   ],
   "metadata": {}
  },
  {
   "cell_type": "markdown",
   "source": [
    "# Getting data"
   ],
   "metadata": {}
  },
  {
   "cell_type": "code",
   "execution_count": 1,
   "source": [
    "import cv2\n",
    "import json\n",
    "from json import JSONEncoder\n",
    "import pandas as pd\n",
    "import numpy as np\n",
    "import pycocotools.mask as mask_util\n",
    "\n",
    "from tqdm import tqdm"
   ],
   "outputs": [],
   "metadata": {}
  },
  {
   "cell_type": "code",
   "execution_count": 2,
   "source": [
    "version = 14"
   ],
   "outputs": [],
   "metadata": {}
  },
  {
   "cell_type": "code",
   "execution_count": 3,
   "source": [
    "with open('/home/ubuntu/dormakaba/coco/annotations/instances_train2014.json') as json_file:\n",
    "    data = json.load(json_file)"
   ],
   "outputs": [],
   "metadata": {}
  },
  {
   "cell_type": "code",
   "execution_count": 4,
   "source": [
    "with open('/home/ubuntu/dormakaba/coco/annotations/densepose_coco_2014_train.json') as json_file:\n",
    "    person_data = json.load(json_file)"
   ],
   "outputs": [],
   "metadata": {}
  },
  {
   "cell_type": "code",
   "execution_count": 5,
   "source": [
    "data_df = pd.json_normalize(data)"
   ],
   "outputs": [],
   "metadata": {}
  },
  {
   "cell_type": "code",
   "execution_count": 6,
   "source": [
    "person_data_df = pd.json_normalize(person_data)"
   ],
   "outputs": [],
   "metadata": {}
  },
  {
   "cell_type": "code",
   "execution_count": 7,
   "source": [
    "data_df.keys()"
   ],
   "outputs": [
    {
     "output_type": "execute_result",
     "data": {
      "text/plain": [
       "Index(['images', 'licenses', 'annotations', 'categories', 'info.description',\n",
       "       'info.url', 'info.version', 'info.year', 'info.contributor',\n",
       "       'info.date_created'],\n",
       "      dtype='object')"
      ]
     },
     "metadata": {},
     "execution_count": 7
    }
   ],
   "metadata": {}
  },
  {
   "cell_type": "code",
   "execution_count": 8,
   "source": [
    "person_data_df.keys()"
   ],
   "outputs": [
    {
     "output_type": "execute_result",
     "data": {
      "text/plain": [
       "Index(['images', 'annotations', 'categories'], dtype='object')"
      ]
     },
     "metadata": {},
     "execution_count": 8
    }
   ],
   "metadata": {}
  },
  {
   "cell_type": "code",
   "execution_count": 9,
   "source": [
    "# esta es la lista de imágenes anotadas con personas\n",
    "# está ok\n",
    "person_data_df['images'][0][0].keys()"
   ],
   "outputs": [
    {
     "output_type": "execute_result",
     "data": {
      "text/plain": [
       "dict_keys(['license', 'file_name', 'coco_url', 'height', 'width', 'date_captured', 'flickr_url', 'id'])"
      ]
     },
     "metadata": {},
     "execution_count": 9
    }
   ],
   "metadata": {}
  },
  {
   "cell_type": "code",
   "execution_count": 10,
   "source": [
    "print(person_data_df['categories'][0])"
   ],
   "outputs": [
    {
     "output_type": "stream",
     "name": "stdout",
     "text": [
      "[{'supercategory': 'person', 'id': 1, 'name': 'person', 'keypoints': ['nose', 'left_eye', 'right_eye', 'left_ear', 'right_ear', 'left_shoulder', 'right_shoulder', 'left_elbow', 'right_elbow', 'left_wrist', 'right_wrist', 'left_hip', 'right_hip', 'left_knee', 'right_knee', 'left_ankle', 'right_ankle'], 'skeleton': [[16, 14], [14, 12], [17, 15], [15, 13], [12, 13], [6, 12], [7, 13], [6, 7], [6, 8], [7, 9], [8, 10], [9, 11], [2, 3], [1, 2], [1, 3], [2, 4], [3, 5], [4, 6], [5, 7]]}]\n"
     ]
    }
   ],
   "metadata": {}
  },
  {
   "cell_type": "markdown",
   "source": [
    "# Generating classes"
   ],
   "metadata": {}
  },
  {
   "cell_type": "code",
   "execution_count": 11,
   "source": [
    "COCO_CLASSES = ['person', 'bicycle', 'car', 'motorcycle', 'airplane', 'bus',\n",
    "                'train', 'truck', 'boat', 'traffic light', 'fire hydrant',\n",
    "                'stop sign', 'parking meter', 'bench', 'bird', 'cat', 'dog',\n",
    "                'horse', 'sheep', 'cow', 'elephant', 'bear', 'zebra', 'giraffe',\n",
    "                'backpack', 'umbrella', 'handbag', 'tie', 'suitcase', 'frisbee',\n",
    "                'skis', 'snowboard', 'sports ball', 'kite', 'baseball bat',\n",
    "                'baseball glove', 'skateboard', 'surfboard', 'tennis racket',\n",
    "                'bottle', 'wine glass', 'cup', 'fork', 'knife', 'spoon', 'bowl',\n",
    "                'banana', 'apple', 'sandwich', 'orange', 'broccoli', 'carrot',\n",
    "                'hot dog', 'pizza', 'donut', 'cake', 'chair', 'couch',\n",
    "                'potted plant', 'bed', 'dining table', 'toilet', 'tv', 'laptop',\n",
    "                'mouse', 'remote', 'keyboard', 'cell phone', 'microwave', 'oven',\n",
    "                'toaster', 'sink', 'refrigerator', 'book', 'clock', 'vase',\n",
    "                'scissors', 'teddy bear', 'hair drier', 'toothbrush']\n",
    "# THE NEW CUSTOM CLASSES CONDENSE THE LEFT-RIGHT IN ONLY ONE CAT\n",
    "CUSTOM_CLASSES = ['person', 'bicycle', 'cat', 'dog', 'backpack', 'umbrella', 'handbag', 'suitcase', \n",
    "                'sports ball', 'baseball bat', 'skateboard', 'tennis racket', 'bottle', 'wine glass', \n",
    "                'sandwich', 'chair', 'laptop', 'cell phone', 'book', 'clock', 'scissors', 'teddy bear',\n",
    "                'torso', 'hand', 'foot', 'upleg', 'lowleg', 'uparm', 'lowarm', 'head']\n",
    "\n",
    "#                'torso', 'hand1', 'hand2', 'foot1', 'foot2', 'upleg1', 'upleg2', 'lowleg1', 'lowleg2',\n",
    "#                'uparm1', 'uparm2', 'lowarm1','lowarm2', 'head']\n",
    "\n",
    "# ORIGINAL ELEMENTS IN DENSE POSE\n",
    "# ['nose', 'left_eye', 'right_eye', 'left_ear', 'right_ear', \n",
    "# 'left_shoulder', 'right_shoulder', 'left_elbow', 'right_elbow', \n",
    "# 'left_wrist', 'right_wrist', 'left_hip', 'right_hip', \n",
    "# 'left_knee', 'right_knee', 'left_ankle', 'right_ankle']\n",
    "\n",
    "\n",
    "FROM_COCO_CLASSES = ['person', 'bicycle', 'cat', 'dog', 'backpack', 'umbrella', 'handbag', 'suitcase', \n",
    "                'sports ball', 'baseball bat', 'skateboard', 'tennis racket', 'bottle', 'wine glass', \n",
    "                'sandwich', 'chair', 'laptop', 'cell phone', 'book', 'clock', 'scissors', 'teddy bear']\n",
    "\n",
    "#DENSEPOSE_CLASSES = ['torso', 'hand1', 'hand2', \n",
    "#                    'foot1', 'foot2', 'upleg1', 'upleg2', \n",
    "#                    'lowleg1', 'lowleg2','uparm1', 'uparm2', \n",
    "#                    'lowarm1','lowarm2', 'head']\n",
    "\n",
    "DENSEPOSE_CLASSES = ['torso', 'hand',  \n",
    "                        'foot', 'upleg', \n",
    "                        'lowleg', 'uparm', \n",
    "                        'lowarm', 'head']\n",
    "COCO_LABEL_MAP = {1: 1, 2: 2, 3: 3, 4: 4, 5: 5, 6: 6, 7: 7, 8: 8,\n",
    "                  9: 9, 10: 10, 11: 11, 13: 12, 14: 13, 15: 14, 16: 15, 17: 16,\n",
    "                  18: 17, 19: 18, 20: 19, 21: 20, 22: 21, 23: 22, 24: 23, 25: 24,\n",
    "                  27: 25, 28: 26, 31: 27, 32: 28, 33: 29, 34: 30, 35: 31, 36: 32,\n",
    "                  37: 33, 38: 34, 39: 35, 40: 36, 41: 37, 42: 38, 43: 39, 44: 40,\n",
    "                  46: 41, 47: 42, 48: 43, 49: 44, 50: 45, 51: 46, 52: 47, 53: 48,\n",
    "                  54: 49, 55: 50, 56: 51, 57: 52, 58: 53, 59: 54, 60: 55, 61: 56,\n",
    "                  62: 57, 63: 58, 64: 59, 65: 60, 67: 61, 70: 62, 72: 63, 73: 64,\n",
    "                  74: 65, 75: 66, 76: 67, 77: 68, 78: 69, 79: 70, 80: 71, 81: 72,\n",
    "                  82: 73, 84: 74, 85: 75, 86: 76, 87: 77, 88: 78, 89: 79, 90: 80}\n",
    "# this map relates body part position to unique identifier (avoiding left-right problem)\n",
    "PERSON_LABEL_MAP = {0:0, 1: 1, 2: 1, \n",
    "                    3: 2, 4: 2, 5: 3, 6: 3, \n",
    "                    7: 4, 8: 4, 9: 5, 10: 5, \n",
    "                    11: 6, 12: 6, 13: 7}"
   ],
   "outputs": [],
   "metadata": {}
  },
  {
   "cell_type": "code",
   "execution_count": 12,
   "source": [
    "REVERSE_COCO_LABEL_MAP = {}\n",
    "for key, value in COCO_LABEL_MAP.items():\n",
    "    REVERSE_COCO_LABEL_MAP[value] = key"
   ],
   "outputs": [],
   "metadata": {}
  },
  {
   "cell_type": "code",
   "execution_count": 17,
   "source": [
    "print(data_df['categories'][0][0])\n",
    "\n",
    "custom_categories = []\n",
    "for cat_data in data_df['categories'][0]:\n",
    "    if cat_data['name'] in CUSTOM_CLASSES:\n",
    "        custom_categories.append(cat_data)\n",
    "\n",
    "for nc in DENSEPOSE_CLASSES:\n",
    "    c = {'supercategory': 'person', 'id': 1, 'name': nc}\n",
    "    custom_categories.append(c)\n",
    "\n",
    "# this is the list of the new categories\n",
    "print(custom_categories)\n",
    "print()\n",
    "print(len(CUSTOM_CLASSES), \"-\", len(custom_categories))\n",
    "cc_id = 1\n",
    "cc_list = [0]*(len(CUSTOM_CLASSES)+1)\n",
    "for cc in custom_categories:\n",
    "    cc['id'] = cc_id\n",
    "    cc_list[cc_id] = cc['name']\n",
    "    cc_id += 1\n",
    "\n",
    "# the list of the names of the categories\n",
    "print(cc_list)"
   ],
   "outputs": [
    {
     "output_type": "stream",
     "name": "stdout",
     "text": [
      "{'supercategory': 'person', 'id': 1, 'name': 'person'}\n",
      "[{'supercategory': 'person', 'id': 1, 'name': 'person'}, {'supercategory': 'vehicle', 'id': 2, 'name': 'bicycle'}, {'supercategory': 'animal', 'id': 3, 'name': 'cat'}, {'supercategory': 'animal', 'id': 4, 'name': 'dog'}, {'supercategory': 'accessory', 'id': 5, 'name': 'backpack'}, {'supercategory': 'accessory', 'id': 6, 'name': 'umbrella'}, {'supercategory': 'accessory', 'id': 7, 'name': 'handbag'}, {'supercategory': 'accessory', 'id': 8, 'name': 'suitcase'}, {'supercategory': 'sports', 'id': 9, 'name': 'sports ball'}, {'supercategory': 'sports', 'id': 10, 'name': 'baseball bat'}, {'supercategory': 'sports', 'id': 11, 'name': 'skateboard'}, {'supercategory': 'sports', 'id': 12, 'name': 'tennis racket'}, {'supercategory': 'kitchen', 'id': 13, 'name': 'bottle'}, {'supercategory': 'kitchen', 'id': 14, 'name': 'wine glass'}, {'supercategory': 'food', 'id': 15, 'name': 'sandwich'}, {'supercategory': 'furniture', 'id': 16, 'name': 'chair'}, {'supercategory': 'electronic', 'id': 17, 'name': 'laptop'}, {'supercategory': 'electronic', 'id': 18, 'name': 'cell phone'}, {'supercategory': 'indoor', 'id': 19, 'name': 'book'}, {'supercategory': 'indoor', 'id': 20, 'name': 'clock'}, {'supercategory': 'indoor', 'id': 21, 'name': 'scissors'}, {'supercategory': 'indoor', 'id': 22, 'name': 'teddy bear'}, {'supercategory': 'person', 'id': 1, 'name': 'torso'}, {'supercategory': 'person', 'id': 1, 'name': 'hand'}, {'supercategory': 'person', 'id': 1, 'name': 'foot'}, {'supercategory': 'person', 'id': 1, 'name': 'upleg'}, {'supercategory': 'person', 'id': 1, 'name': 'lowleg'}, {'supercategory': 'person', 'id': 1, 'name': 'uparm'}, {'supercategory': 'person', 'id': 1, 'name': 'lowarm'}, {'supercategory': 'person', 'id': 1, 'name': 'head'}]\n",
      "\n",
      "30 - 30\n",
      "[0, 'person', 'bicycle', 'cat', 'dog', 'backpack', 'umbrella', 'handbag', 'suitcase', 'sports ball', 'baseball bat', 'skateboard', 'tennis racket', 'bottle', 'wine glass', 'sandwich', 'chair', 'laptop', 'cell phone', 'book', 'clock', 'scissors', 'teddy bear', 'torso', 'hand', 'foot', 'upleg', 'lowleg', 'uparm', 'lowarm', 'head']\n"
     ]
    }
   ],
   "metadata": {}
  },
  {
   "cell_type": "code",
   "execution_count": 18,
   "source": [
    "coco_category_id_list = [0]*len(cc_list)\n",
    "for cat in data_df['categories'][0]:\n",
    "    if cat['name'] in cc_list:\n",
    "        pos = cc_list.index(cat['name'])\n",
    "        coco_category_id_list[pos] = cat['id']\n",
    "\n",
    "# this is the list of the ids of the new categories when exists in COCO\n",
    "# the ones that not exist in COCO comes from DENSEPOSE\n",
    "print(coco_category_id_list)"
   ],
   "outputs": [
    {
     "output_type": "stream",
     "name": "stdout",
     "text": [
      "[0, 1, 2, 3, 4, 5, 6, 7, 8, 9, 10, 11, 12, 13, 14, 15, 16, 17, 18, 19, 20, 21, 22, 0, 0, 0, 0, 0, 0, 0, 0]\n"
     ]
    }
   ],
   "metadata": {}
  },
  {
   "cell_type": "code",
   "execution_count": 19,
   "source": [
    "# this variable has the coco category id in the position of the custom category\n",
    "custom_category_coco_category = [0]*len(cc_list)\n",
    "for i, cat_name in enumerate(COCO_CLASSES):\n",
    "    if cat_name in cc_list:\n",
    "        cc_pos = cc_list.index(cat_name)\n",
    "        coco_cat_id = REVERSE_COCO_LABEL_MAP[i+1]\n",
    "        custom_category_coco_category[cc_pos] = coco_cat_id\n",
    "        # print(i, cat_name, cc_pos, coco_cat_id)\n",
    "\n",
    "print(custom_category_coco_category)"
   ],
   "outputs": [
    {
     "output_type": "stream",
     "name": "stdout",
     "text": [
      "[0, 1, 2, 17, 18, 27, 28, 31, 33, 37, 39, 41, 43, 44, 46, 54, 62, 73, 77, 84, 85, 87, 88, 0, 0, 0, 0, 0, 0, 0, 0]\n"
     ]
    }
   ],
   "metadata": {}
  },
  {
   "cell_type": "markdown",
   "source": [
    "# looking at images\n",
    "## Those are the images I'll use in the dataset that come from \n",
    "## the DENSEPOSE dataset"
   ],
   "metadata": {}
  },
  {
   "cell_type": "code",
   "execution_count": 20,
   "source": [
    "new_person_images = person_data_df['images'][0]\n",
    "print( len(new_person_images), new_person_images[0].keys())"
   ],
   "outputs": [
    {
     "output_type": "stream",
     "name": "stdout",
     "text": [
      "26437 dict_keys(['license', 'file_name', 'coco_url', 'height', 'width', 'date_captured', 'flickr_url', 'id'])\n"
     ]
    }
   ],
   "metadata": {}
  },
  {
   "cell_type": "code",
   "execution_count": 21,
   "source": [
    "images_person_data_df = pd.DataFrame(person_data_df['images'][0])"
   ],
   "outputs": [],
   "metadata": {}
  },
  {
   "cell_type": "code",
   "execution_count": 22,
   "source": [
    "a = images_person_data_df[images_person_data_df['id']==262145]\n",
    "print(a['height'][0], a['width'][0])"
   ],
   "outputs": [
    {
     "output_type": "stream",
     "name": "stdout",
     "text": [
      "427 640\n"
     ]
    }
   ],
   "metadata": {}
  },
  {
   "cell_type": "code",
   "execution_count": 23,
   "source": [
    "# list of all image ids from DENSEPOSE\n",
    "new_person_images_list = [a['id'] for a in person_data_df['images'][0]]\n",
    "len(new_person_images_list)"
   ],
   "outputs": [
    {
     "output_type": "execute_result",
     "data": {
      "text/plain": [
       "26437"
      ]
     },
     "metadata": {},
     "execution_count": 23
    }
   ],
   "metadata": {}
  },
  {
   "cell_type": "code",
   "execution_count": 24,
   "source": [
    "# this is the list of all the images id in coco dataset\n",
    "all_images_list = [a['id'] for a in data_df['images'][0]]\n",
    "len(all_images_list)"
   ],
   "outputs": [
    {
     "output_type": "execute_result",
     "data": {
      "text/plain": [
       "82783"
      ]
     },
     "metadata": {},
     "execution_count": 24
    }
   ],
   "metadata": {}
  },
  {
   "cell_type": "markdown",
   "source": [
    "# looking at annotations"
   ],
   "metadata": {}
  },
  {
   "cell_type": "code",
   "execution_count": 25,
   "source": [
    "# person annotations\n",
    "# extraer segmentation: anotaciòn individual de cada persona detectada\n",
    "# extrater dp_masks: e insertar una anotación por cada uno de los 14 elementos de la persona que tienen anotaciones\n",
    "# si se puede, transformar el mapa de bits en \n",
    "print(person_data_df['annotations'][0][0].keys())\n",
    "print(person_data_df['annotations'][0][0]['dp_masks'])"
   ],
   "outputs": [
    {
     "output_type": "stream",
     "name": "stdout",
     "text": [
      "dict_keys(['segmentation', 'num_keypoints', 'dp_masks', 'area', 'dp_I', 'iscrowd', 'keypoints', 'dp_x', 'dp_U', 'image_id', 'dp_V', 'bbox', 'category_id', 'dp_y', 'id'])\n",
      "[{'counts': '\\\\Qa03k7200M210N110N1N2100000O1000O0010O2O0O10001O0O1N200O2O001O0O1O?B0O:G0O;F017H5K011N001O010O2N001O010O002N001O1O011N001O010OO1000001O000O2O00000000001O00001O001N1000001O0O1000001N101O00001N101O002N1O002N002N002M102N1N103M001O002M2O003M001N102N2N002N001O002M3N002N002M101O002N2M102N001O002N2N002M102N001OUU9', 'size': [256, 256]}, {'counts': 'lk5110l70TH0j7400O2O0NNZHNf72ZHNe77O01003M0O010O10O100000O10000O01000000O10000O10O1001O001N101M3N101M20[\\\\_1', 'size': [256, 256]}, {'counts': 'i33m70L5O0O2O0O100O1OL`HIa77_HI_79_HIa77_HI`77`HK_75aHK_7:1N20OO200000000000O1000O10O0101N2N101O001N102M`Tf1', 'size': [256, 256]}, [], {'counts': 'e_Y12m73N0O2O002N0O10000000000000000000000000000000M2L50_P`0', 'size': [256, 256]}, {'counts': 'im[14l70N110L400M3N200M300M300M3N200M300L400N2M4O0M@c00ON30NN40ON0120ON30NO30NN3O20M120O010NO2010OO201N100M3O100N20P\\\\6', 'size': [256, 256]}, {'counts': '[SP16_14b4;_J9]5GcJ9]5X1M0O5L004K3N0000000000000000000O100000000O1000000O2O0000000O10001O000000000000000O1000O0N300N200L40ON3N200M30ON300M3N200M300L40OO2M300M30O0100N200O0N300O100N200N2O10ON300O100N10101L301N101M3M201M201N101E:0m\\\\5', 'size': [256, 256]}, {'counts': ']oX17i70D<J600K410M300K410E;L400O100N20000000000000BoImNQ6S1oImNQ6k0f0I700I700E;0TR?', 'size': [256, 256]}, {'counts': 'jfo03m70I8J6O0I8O0J7O0J8N2N001O002N001O002N2N001O011N001OL400L400J600K5L400N201M200M3N200M300O100M300IZRd0', 'size': [256, 256]}, {'counts': 'fZ>4l70E;00E;F:00J600O1000O11O0O100O100O1O10000000000O1O1001O0000001O00000O101F901A>00BQWW1', 'size': [256, 256]}, [], {'counts': 'Z[71o7001O1O0O2O001O0O3M100O100O0100O0100O010O100O01000M300L31000000O10000O100O10O11O0000000O100O1O100O1000000O1O100O100O1000000O1O100O10VmW1', 'size': [256, 256]}, {'counts': '_[>2n70O2O0O2O1O0O2O0O100O1O0100000O010O00010O1000O10O00100O010O0100000O12M103L104L00g\\\\W1', 'size': [256, 256]}, {'counts': '`P52n70L6aHJP77jHNV72jHNU7?00O100O100O102N0O2O002N0O2O000O10001O0O101O001O00000O2O00000000O100O100O1O100N200N200O10001N100O101O00001O001N101O1N102M101N102N002M2M201N102N000O2N10[gV1', 'size': [256, 256]}]\n"
     ]
    }
   ],
   "metadata": {}
  },
  {
   "cell_type": "code",
   "execution_count": 26,
   "source": [
    "print(person_data_df['annotations'][0][0])"
   ],
   "outputs": [
    {
     "output_type": "stream",
     "name": "stdout",
     "text": [
      "{'segmentation': [[453, 292.1, 457, 253.1, 439, 245.1, 438, 215.1, 439, 198.1, 420, 223.1, 414, 233.1, 401, 227.1, 400, 226.1, 398, 229.1, 391, 231.1, 387, 213.1, 399, 203.1, 404, 200.1, 413, 194.1, 418, 186.1, 408, 181.1, 415, 154.1, 418, 142.1, 419, 127.1, 422, 125.1, 419, 120.1, 412, 122.1, 407, 112.1, 402, 105.1, 389, 113.1, 390, 105.1, 395, 100.1, 395, 97.1, 398, 83.1, 407, 72.1, 417, 71.1, 424, 72.1, 428, 73.1, 436, 80.1, 441, 90.1, 446, 96.1, 456, 101.1, 472, 110.1, 480, 113.1, 493, 123.1, 499, 136.1, 504, 147.1, 509, 167.1, 515, 182.1, 531, 205.1, 532, 218.1, 525, 229.1, 514, 246.1, 499, 283.1, 499, 307.1, 499, 323.1, 499, 343.1, 505, 367.1, 505, 380.1, 505, 381.1, 486, 387.1, 482, 392.1, 479, 393.1, 469, 363.1, 453, 343.1, 451, 339.1, 454, 321.1, 453, 312.1, 460, 313.1, 458, 298.1, 452, 293.1]], 'num_keypoints': 15, 'dp_masks': [{'counts': '\\\\Qa03k7200M210N110N1N2100000O1000O0010O2O0O10001O0O1N200O2O001O0O1O?B0O:G0O;F017H5K011N001O010O2N001O010O002N001O1O011N001O010OO1000001O000O2O00000000001O00001O001N1000001O0O1000001N101O00001N101O002N1O002N002N002M102N1N103M001O002M2O003M001N102N2N002N001O002M3N002N002M101O002N2M102N001O002N2N002M102N001OUU9', 'size': [256, 256]}, {'counts': 'lk5110l70TH0j7400O2O0NNZHNf72ZHNe77O01003M0O010O10O100000O10000O01000000O10000O10O1001O001N101M3N101M20[\\\\_1', 'size': [256, 256]}, {'counts': 'i33m70L5O0O2O0O100O1OL`HIa77_HI_79_HIa77_HI`77`HK_75aHK_7:1N20OO200000000000O1000O10O0101N2N101O001N102M`Tf1', 'size': [256, 256]}, [], {'counts': 'e_Y12m73N0O2O002N0O10000000000000000000000000000000M2L50_P`0', 'size': [256, 256]}, {'counts': 'im[14l70N110L400M3N200M300M300M3N200M300L400N2M4O0M@c00ON30NN40ON0120ON30NO30NN3O20M120O010NO2010OO201N100M3O100N20P\\\\6', 'size': [256, 256]}, {'counts': '[SP16_14b4;_J9]5GcJ9]5X1M0O5L004K3N0000000000000000000O100000000O1000000O2O0000000O10001O000000000000000O1000O0N300N200L40ON3N200M30ON300M3N200M300L40OO2M300M30O0100N200O0N300O100N200N2O10ON300O100N10101L301N101M3M201M201N101E:0m\\\\5', 'size': [256, 256]}, {'counts': ']oX17i70D<J600K410M300K410E;L400O100N20000000000000BoImNQ6S1oImNQ6k0f0I700I700E;0TR?', 'size': [256, 256]}, {'counts': 'jfo03m70I8J6O0I8O0J7O0J8N2N001O002N001O002N2N001O011N001OL400L400J600K5L400N201M200M3N200M300O100M300IZRd0', 'size': [256, 256]}, {'counts': 'fZ>4l70E;00E;F:00J600O1000O11O0O100O100O1O10000000000O1O1001O0000001O00000O101F901A>00BQWW1', 'size': [256, 256]}, [], {'counts': 'Z[71o7001O1O0O2O001O0O3M100O100O0100O0100O010O100O01000M300L31000000O10000O100O10O11O0000000O100O1O100O1000000O1O100O100O1000000O1O100O10VmW1', 'size': [256, 256]}, {'counts': '_[>2n70O2O0O2O1O0O2O0O100O1O0100000O010O00010O1000O10O00100O010O0100000O12M103L104L00g\\\\W1', 'size': [256, 256]}, {'counts': '`P52n70L6aHJP77jHNV72jHNU7?00O100O100O102N0O2O002N0O2O000O10001O0O101O001O00000O2O00000000O100O100O1O100N200N200O10001N100O101O00001O001N101O1N102M101N102N002M2M201N102N000O2N10[gV1', 'size': [256, 256]}], 'area': 21258, 'dp_I': [1.0, 1.0, 1.0, 1.0, 1.0, 1.0, 1.0, 2.0, 1.0, 1.0, 2.0, 1.0, 1.0, 2.0, 24.0, 24.0, 24.0, 24.0, 24.0, 24.0, 24.0, 24.0, 24.0, 24.0, 24.0, 24.0, 24.0, 24.0, 7.0, 7.0, 7.0, 7.0, 7.0, 7.0, 7.0, 9.0, 1.0, 1.0, 2.0, 8.0, 10.0, 10.0, 8.0, 10.0, 10.0, 8.0, 10.0, 8.0, 10.0, 8.0, 17.0, 17.0, 17.0, 17.0, 17.0, 17.0, 17.0, 17.0, 17.0, 17.0, 17.0, 21.0, 13.0, 13.0, 13.0, 13.0, 13.0, 13.0, 13.0, 13.0, 11.0, 13.0, 10.0, 12.0, 14.0, 12.0, 14.0, 12.0, 14.0, 12.0, 14.0, 12.0, 14.0, 14.0, 21.0, 21.0, 21.0, 21.0, 21.0, 21.0, 21.0, 21.0, 20.0, 20.0, 20.0, 20.0, 20.0, 20.0, 6.0, 6.0, 6.0, 6.0, 6.0, 3.0, 3.0, 3.0, 3.0, 3.0, 3.0, 4.0, 4.0, 4.0, 4.0, 4.0, 4.0], 'iscrowd': 0, 'keypoints': [407, 115, 1, 407, 105, 2, 0, 0, 0, 425, 95, 2, 0, 0, 0, 435, 124, 2, 457, 105, 2, 428, 187, 2, 447, 182, 2, 404, 210, 2, 419, 213, 2, 488, 222, 2, 515, 213, 2, 471, 293, 2, 487, 297, 2, 462, 372, 1, 486, 374, 2], 'dp_x': [111.5760498046875, 140.59548950195312, 88.38611602783203, 158.2552947998047, 115.38705444335938, 140.92547607421875, 172.6801300048828, 115.71037292480469, 183.8076171875, 149.18008422851562, 120.6231689453125, 196.7709503173828, 164.02395629882812, 134.32180786132812, 64.5458755493164, 46.724369049072266, 77.15164184570312, 32.21230697631836, 52.95413589477539, 67.25080871582031, 33.050376892089844, 87.5832290649414, 49.61521911621094, 77.81704711914062, 31.799861907958984, 62.45124435424805, 42.439605712890625, 54.14159393310547, 219.4923553466797, 210.85491943359375, 203.37953186035156, 198.5994110107422, 194.32286071777344, 189.5088653564453, 187.13658142089844, 185.8370361328125, 214.15895080566406, 181.10533142089844, 146.47915649414062, 211.83815002441406, 177.25453186035156, 144.3924102783203, 199.31747436523438, 170.66110229492188, 144.83860778808594, 180.55224609375, 145.70240783691406, 172.3448486328125, 141.46939086914062, 157.65899658203125, 87.35091400146484, 72.78260040283203, 88.93101501464844, 71.13123321533203, 87.25609588623047, 69.8150405883789, 86.60945892333984, 69.17989349365234, 85.21100616455078, 67.95042419433594, 83.97472381591797, 65.75786590576172, 183.85504150390625, 182.17401123046875, 180.99432373046875, 178.43093872070312, 178.2622528076172, 170.95863342285156, 180.86807250976562, 171.43788146972656, 180.3823699951172, 168.86575317382812, 144.04090881347656, 163.4275665283203, 143.07244873046875, 162.6227569580078, 139.92333984375, 158.15179443359375, 136.32968139648438, 153.267333984375, 135.05577087402344, 150.7586212158203, 145.03981018066406, 148.38365173339844, 71.36695098876953, 86.16627502441406, 61.22429275512695, 75.84166717529297, 51.103759765625, 64.59684753417969, 51.51070022583008, 38.840843200683594, 87.83291625976562, 78.37515258789062, 90.03551483154297, 79.78938293457031, 69.83355712890625, 63.51275634765625, 185.44496154785156, 176.7206268310547, 169.04324340820312, 183.05271911621094, 173.74090576171875, 53.849117279052734, 41.75295639038086, 56.012142181396484, 32.203887939453125, 45.75273132324219, 34.0209846496582, 27.40822410583496, 16.41045379638672, 30.757139205932617, 8.695992469787598, 20.475650787353516, 8.169807434082031], 'dp_U': [0.1581381857395172, 0.34230467677116394, 0.18912158906459808, 0.48821353912353516, 0.3884721100330353, 0.5135913491249084, 0.6443536877632141, 0.38792282342910767, 0.7409800291061401, 0.6505376100540161, 0.520325779914856, 0.8216454982757568, 0.8167153596878052, 0.6329784393310547, 0.8746959567070007, 0.7455276250839233, 0.9248602390289307, 0.5307193994522095, 0.5957505702972412, 0.5772902369499207, 0.42637890577316284, 0.9215373992919922, 0.4085750877857208, 0.557478129863739, 0.23966775834560394, 0.36956870555877686, 0.2535756826400757, 0.13388468325138092, 0.33851897716522217, 0.4326576590538025, 0.49585190415382385, 0.5520332455635071, 0.6304510235786438, 0.7085527181625366, 0.7812169194221497, 0.09183210134506226, 0.9279903769493103, 0.9287686944007874, 0.7573585510253906, 0.11356967687606812, 0.92024827003479, 0.8299093842506409, 0.28700605034828186, 0.75279301404953, 0.6569482088088989, 0.4226320683956146, 0.5276551842689514, 0.5945624709129333, 0.39777621626853943, 0.8695116639137268, 0.06964663416147232, 0.18622958660125732, 0.2207595258951187, 0.35709473490715027, 0.36292386054992676, 0.5079752802848816, 0.5260767936706543, 0.6477560997009277, 0.6901158690452576, 0.8074332475662231, 0.8204708099365234, 0.0556868351995945, 0.05974288657307625, 0.19443081319332123, 0.3120681643486023, 0.43140751123428345, 0.5478249788284302, 0.6082472801208496, 0.6847281455993652, 0.7598679661750793, 0.1376686841249466, 0.9295018315315247, 0.13133512437343597, 0.9445589184761047, 0.16949176788330078, 0.7630615234375, 0.3395075500011444, 0.6026873588562012, 0.5121622085571289, 0.4318861663341522, 0.6470393538475037, 0.2936002016067505, 0.7786632776260376, 0.9409124255180359, 0.21560901403427124, 0.16927339136600494, 0.39818519353866577, 0.3544045686721802, 0.5688581466674805, 0.4773864150047302, 0.641610324382782, 0.8311001062393188, 0.8021774291992188, 0.625206470489502, 0.6972959041595459, 0.5318204164505005, 0.4284036159515381, 0.27827775478363037, 0.7861599922180176, 0.7340675592422485, 0.6325574517250061, 0.712203323841095, 0.6250669956207275, 0.6883633136749268, 0.7496581077575684, 0.6079471707344055, 0.25784364342689514, 0.6282087564468384, 0.7382251620292664, 0.6516999006271362, 0.6727080941200256, 0.5526376366615295, 0.7019383311271667, 0.5480226874351501, 0.6156435608863831], 'image_id': 262145, 'dp_V': [0.435714453458786, 0.4540521800518036, 0.18669910728931427, 0.4730636179447174, 0.1817651242017746, 0.2397734522819519, 0.5154634714126587, 0.0778612270951271, 0.47144177556037903, 0.24830983579158783, 0.10124488919973373, 0.42400211095809937, 0.17712591588497162, 0.16078531742095947, 0.7430467009544373, 0.8068962097167969, 0.5839595198631287, 0.8275789022445679, 0.6089735627174377, 0.4219698905944824, 0.7108063101768494, 0.27599748969078064, 0.4922265112400055, 0.17351959645748138, 0.4757252335548401, 0.31542858481407166, 0.34038570523262024, 0.2190510332584381, 0.284136563539505, 0.18819834291934967, 0.24188412725925446, 0.3010953962802887, 0.2897706627845764, 0.3234020173549652, 0.3240533769130707, 0.7283157706260681, 0.32366207242012024, 0.11646141856908798, 0.1395215094089508, 0.698147177696228, 0.09631854295730591, 0.3345729112625122, 0.6794231534004211, 0.10249005258083344, 0.33502835035324097, 0.6944578886032104, 0.19180409610271454, 0.7063501477241516, 0.17014046013355255, 0.660202145576477, 0.4905553162097931, 0.6760637760162354, 0.4298979938030243, 0.6051788330078125, 0.33344659209251404, 0.6024321913719177, 0.304057776927948, 0.4545254111289978, 0.24095730483531952, 0.42929837107658386, 0.22992774844169617, 0.505514919757843, 0.10040315985679626, 0.09234366565942764, 0.10799026489257812, 0.17639049887657166, 0.19133812189102173, 0.35492274165153503, 0.1694529801607132, 0.369148850440979, 0.24146153032779694, 0.3719113767147064, 0.18182919919490814, 0.8576633930206299, 0.7511200308799744, 0.8856542110443115, 0.7903587222099304, 0.935828447341919, 0.7384026646614075, 0.8597866296768188, 0.7211704850196838, 0.7972701191902161, 0.7776200771331787, 0.7320044636726379, 0.641746997833252, 0.4209004044532776, 0.6608603000640869, 0.4275743067264557, 0.4784872233867645, 0.3132534921169281, 0.31148022413253784, 0.30090242624282837, 0.3639029562473297, 0.36897680163383484, 0.6103492975234985, 0.5535940527915955, 0.27160295844078064, 0.40101170539855957, 0.3286058008670807, 0.46157601475715637, 0.5251432061195374, 0.24991905689239502, 0.3960190713405609, 0.15772105753421783, 0.4226440191268921, 0.3048115074634552, 0.6505873799324036, 0.5413646101951599, 0.8349341750144958, 0.19350852072238922, 0.3841789960861206, 0.28090330958366394, 0.6460604071617126, 0.5135382413864136, 0.8778793215751648], 'bbox': [387, 71.1, 145, 322], 'category_id': 1, 'dp_y': [28.909210205078125, 36.55131530761719, 36.783695220947266, 48.302513122558594, 49.214847564697266, 60.31871795654297, 62.91701126098633, 67.61942291259766, 76.40342712402344, 76.62415313720703, 84.08012390136719, 88.83182525634766, 92.05416870117188, 97.28132629394531, 6.887820243835449, 7.758489608764648, 12.378670692443848, 13.159947395324707, 15.277416229248047, 19.964256286621094, 20.220537185668945, 20.284868240356445, 24.30759620666504, 26.47214126586914, 28.3717041015625, 29.94404411315918, 33.47541809082031, 37.36276626586914, 131.643798828125, 139.17393493652344, 146.8321533203125, 154.6294708251953, 162.16929626464844, 169.56320190429688, 176.72129821777344, 183.9130401611328, 101.44630432128906, 105.18871307373047, 110.8502197265625, 116.28874969482422, 119.52222442626953, 125.48912811279297, 131.7722930908203, 134.32630920410156, 141.18894958496094, 148.46072387695312, 154.85458374023438, 164.68812561035156, 169.036376953125, 180.37696838378906, 45.588768005371094, 49.0302734375, 53.33025360107422, 56.44441604614258, 61.177650451660156, 64.0594711303711, 69.0973129272461, 71.62738037109375, 77.1959457397461, 79.06790161132812, 85.4889144897461, 86.12149047851562, 191.22286987304688, 197.965087890625, 204.69712829589844, 211.28915405273438, 217.55638122558594, 222.9026641845703, 226.37686157226562, 231.09103393554688, 236.93728637695312, 239.00830078125, 190.00265502929688, 191.6421356201172, 197.13681030273438, 198.41720581054688, 204.24436950683594, 204.8842010498047, 211.41250610351562, 211.76991271972656, 218.84889221191406, 219.04078674316406, 225.9837188720703, 233.1320343017578, 91.54401397705078, 92.83362579345703, 94.70879364013672, 97.85394287109375, 100.72178649902344, 101.68196868896484, 105.78349304199219, 107.72846984863281, 100.16338348388672, 104.2774887084961, 105.09274291992188, 108.75057220458984, 109.46098327636719, 113.06881713867188, 243.55999755859375, 243.78909301757812, 245.17449951171875, 248.11851501464844, 248.7158203125, 115.09693145751953, 117.0737075805664, 120.05931854248047, 120.77220916748047, 123.07715606689453, 125.72364807128906, 109.85590362548828, 112.39854431152344, 114.20746612548828, 116.95733642578125, 117.73690032958984, 122.15008544921875], 'id': 1218400}\n"
     ]
    }
   ],
   "metadata": {}
  },
  {
   "cell_type": "markdown",
   "source": [
    "# generating annotations"
   ],
   "metadata": {}
  },
  {
   "cell_type": "code",
   "execution_count": 27,
   "source": [
    "def GetDensePoseMasks(Polys):\n",
    "    mask_list = [0]*15\n",
    "    for i in range(1,15):\n",
    "        MaskGen = np.zeros([256,256])\n",
    "        if(Polys[i-1]):\n",
    "            current_mask = mask_util.decode(Polys[i-1])\n",
    "            MaskGen[current_mask>0] = 1\n",
    "        mask_list[i-1]=MaskGen\n",
    "    return mask_list"
   ],
   "outputs": [],
   "metadata": {}
  },
  {
   "cell_type": "code",
   "execution_count": 28,
   "source": [
    "def GetDensePoseMask(encoded_mask):\n",
    "    MaskGen = np.zeros([256,256])\n",
    "    current_mask = mask_util.decode(encoded_mask)\n",
    "    MaskGen[current_mask>0] = 1\n",
    "    return MaskGen"
   ],
   "outputs": [],
   "metadata": {}
  },
  {
   "cell_type": "code",
   "execution_count": 29,
   "source": [
    "def get_poligons(mask):\n",
    "    c = cv2.findContours(mask.astype(np.uint8), cv2.RETR_TREE, cv2.CHAIN_APPROX_SIMPLE)\n",
    "    contours = [0]*2*len(c[0][0].tolist())\n",
    "    for i,x in enumerate(c[0][0].tolist()):\n",
    "        contours[2*i]=int(x[0][0])\n",
    "        contours[2*i+1]= int(x[0][1])\n",
    "    return contours"
   ],
   "outputs": [],
   "metadata": {}
  },
  {
   "cell_type": "code",
   "execution_count": 30,
   "source": [
    "def CreateMaskBBox(mask, bbr, image_shape):\n",
    "    final_mask = np.zeros([image_shape[1],image_shape[0]])\n",
    "    x1 = int(bbr[0])\n",
    "    y1 = int(bbr[1])\n",
    "    x2 = int(bbr[0]+bbr[2])\n",
    "    y2 = int(bbr[1]+bbr[3])\n",
    "    x2 = min( [ x2, image_shape[0] ] )\n",
    "    y2 = min( [ y2, image_shape[1] ] )\n",
    "    # print(bbr, (x1,y1,x2,y2), (int(x2-x1),int(y2-y1)), mask.shape)\n",
    "    resized_mask = cv2.resize( mask, (int(x2-x1),int(y2-y1)) ,interpolation=cv2.INTER_NEAREST)\n",
    "    final_mask[y1:y2,x1:x2] = resized_mask\n",
    "    az = np.nonzero(final_mask)\n",
    "    bby1,bby2,bbx1,bbx2=np.min(az[0]), np.max(az[0]), np.min(az[1]), np.max(az[1])\n",
    "    contours = get_poligons(final_mask.astype(np.uint8))\n",
    "    encoded_final_mask = mask_util.encode(np.asfortranarray(final_mask.astype(np.uint8)))\n",
    "    mask_area = int(mask_util.area(encoded_final_mask))\n",
    "    # print((bbx1, bby1, bbx2-bbx1, bby2-bby1),encoded_final_mask)\n",
    "    encoded_final_mask['counts'] = encoded_final_mask['counts'].decode(\"utf-8\")\n",
    "    return final_mask, (bbx1, bby1, bbx2-bbx1, bby2-bby1), mask_area, encoded_final_mask, contours"
   ],
   "outputs": [],
   "metadata": {}
  },
  {
   "cell_type": "code",
   "execution_count": 31,
   "source": [
    "new_person_ann = []\n",
    "for annotation in tqdm(person_data_df['annotations'][0]):\n",
    "    # print(annotation['image_id'], annotation['bbox'])\n",
    "    if annotation['iscrowd']==0 and annotation['image_id'] in new_person_images_list:\n",
    "        ann_segment = annotation['segmentation']\n",
    "        ann_bbox = [int(annotation['bbox'][0]),int(annotation['bbox'][1]),int(annotation['bbox'][2]),int(annotation['bbox'][3])]\n",
    "        ann_area = annotation['area']\n",
    "        ann_image_id = annotation['image_id']\n",
    "        ann_id = annotation['id']\n",
    "        ann_cat_id = 1 # only person cat so must be 1\n",
    "        new_data = {'segmentation': ann_segment,\n",
    "                    'area': ann_area,\n",
    "                    'image_id': ann_image_id,\n",
    "                    'id': ann_id,\n",
    "                    'category_id': ann_cat_id,\n",
    "                    'bbox': ann_bbox,\n",
    "                    'iscrowd': 0}\n",
    "        new_person_ann.append(new_data)\n",
    "        a = images_person_data_df[images_person_data_df['id']==ann_image_id]\n",
    "        image_size = [a['width'].values[0],a['height'].values[0]]\n",
    "\n",
    "        if 'dp_masks' in annotation:\n",
    "            for i, ann_mask in enumerate(annotation['dp_masks']):\n",
    "                if len(ann_mask) > 1:\n",
    "                    ann_mask_decoded = GetDensePoseMask(ann_mask)\n",
    "                    mask, bbox, ann_area, encoded_mask, contours = CreateMaskBBox(ann_mask_decoded, annotation['bbox'], image_size )\n",
    "                    ann_bbox = [int(bbox[0]),int(bbox[1]),int(bbox[2]),int(bbox[3])]\n",
    "                    ann_segment = encoded_mask\n",
    "                    ann_image_id = annotation['image_id']\n",
    "                    ann_id = -1\n",
    "                    # for reusing ids I'll prepare a first approach \n",
    "                    # with a cat id dictionary\n",
    "                    ann_cat_id = 23+PERSON_LABEL_MAP[i]\n",
    "                    if len(contours)>4:\n",
    "                        new_data = {'segmentation': [contours], # encoded_mask,\n",
    "                                    'area': ann_area,\n",
    "                                    'image_id': ann_image_id,\n",
    "                                    'id': ann_id,\n",
    "                                    'category_id': ann_cat_id,\n",
    "                                    'bbox': ann_bbox,\n",
    "                                    'iscrowd': 0}\n",
    "                        new_person_ann.append(new_data)"
   ],
   "outputs": [
    {
     "output_type": "stream",
     "name": "stderr",
     "text": [
      "100%|██████████| 100403/100403 [33:20<00:00, 50.19it/s]\n"
     ]
    }
   ],
   "metadata": {}
  },
  {
   "cell_type": "code",
   "execution_count": 32,
   "source": [
    "# check that the list of annotated image_ids has the len len as densepose image id's\n",
    "new_person_images_annotated_list = [a['image_id'] for a in new_person_ann]\n",
    "print( len(new_person_images_annotated_list), len(set(new_person_images_annotated_list)), len(set(new_person_images_list)))"
   ],
   "outputs": [
    {
     "output_type": "stream",
     "name": "stdout",
     "text": [
      "474298 26437 26437\n"
     ]
    }
   ],
   "metadata": {}
  },
  {
   "cell_type": "markdown",
   "source": [
    "# till here I have all human data and parts segmented and annotated\n",
    "# next step is to include the other classes"
   ],
   "metadata": {}
  },
  {
   "cell_type": "code",
   "execution_count": 33,
   "source": [
    "new_data_ann = []\n",
    "new_data_image_list = []\n",
    "new_data_images = []\n",
    "for annotation in tqdm(data_df['annotations'][0]):\n",
    "    if annotation['category_id'] in custom_category_coco_category and annotation['category_id']>1:\n",
    "        ann_segment = annotation['segmentation']\n",
    "        ann_bbox = [int(annotation['bbox'][0]),int(annotation['bbox'][1]),int(annotation['bbox'][2]),int(annotation['bbox'][3])]\n",
    "        ann_area = annotation['area']\n",
    "        ann_image_id = annotation['image_id']\n",
    "        ann_id = annotation['id']\n",
    "        ann_iscrowd = annotation['iscrowd']\n",
    "        ann_cat_id = custom_category_coco_category.index(annotation['category_id'])\n",
    "        new_data = {'segmentation': ann_segment,\n",
    "                    'area': ann_area,\n",
    "                    'image_id': ann_image_id,\n",
    "                    'id': ann_id,\n",
    "                    'category_id': ann_cat_id,\n",
    "                    'bbox': ann_bbox,\n",
    "                    'iscrowd': ann_iscrowd}\n",
    "        # new_person_ann.append(new_data)\n",
    "        new_data_image_list.append(ann_image_id)"
   ],
   "outputs": [
    {
     "output_type": "stream",
     "name": "stderr",
     "text": [
      "100%|██████████| 604907/604907 [00:01<00:00, 493578.61it/s]\n"
     ]
    }
   ],
   "metadata": {}
  },
  {
   "cell_type": "code",
   "execution_count": 34,
   "source": [
    "new_data_images = [annotation for annotation in data_df['images'][0] if annotation['id'] in new_data_image_list]"
   ],
   "outputs": [],
   "metadata": {}
  },
  {
   "cell_type": "markdown",
   "source": [
    "# Saving human parts data"
   ],
   "metadata": {}
  },
  {
   "cell_type": "code",
   "execution_count": 35,
   "source": [
    "\n",
    "new_human_part_data = {\n",
    "    'images': new_person_images, \n",
    "    'annotations': new_person_ann, \n",
    "    'categories': custom_categories\n",
    "}"
   ],
   "outputs": [],
   "metadata": {}
  },
  {
   "cell_type": "code",
   "execution_count": 36,
   "source": [
    "class MyEncoder(JSONEncoder):\n",
    "    def default(self, o):\n",
    "        return o.__dict__\n",
    "new_human_part_data_json = MyEncoder().encode(new_human_part_data)"
   ],
   "outputs": [],
   "metadata": {}
  },
  {
   "cell_type": "code",
   "execution_count": 37,
   "source": [
    "with open(f'/home/ubuntu/dormakaba/coco/annotations/custom_ann_human_parts_train2014_v{version}.json', 'w') as f:\n",
    "    json.dump(new_human_part_data_json, f)"
   ],
   "outputs": [],
   "metadata": {}
  },
  {
   "cell_type": "markdown",
   "source": [
    "# Saving non human data"
   ],
   "metadata": {}
  },
  {
   "cell_type": "code",
   "execution_count": 38,
   "source": [
    "\n",
    "new_non_human_data = {\n",
    "    'images': new_data_images, \n",
    "    'annotations': new_data_ann, \n",
    "    'categories': custom_categories\n",
    "}"
   ],
   "outputs": [],
   "metadata": {}
  },
  {
   "cell_type": "code",
   "execution_count": 39,
   "source": [
    "print(len(new_data_images))"
   ],
   "outputs": [
    {
     "output_type": "stream",
     "name": "stdout",
     "text": [
      "59196\n"
     ]
    }
   ],
   "metadata": {}
  },
  {
   "cell_type": "code",
   "execution_count": 40,
   "source": [
    "class MyEncoder(JSONEncoder):\n",
    "    def default(self, o):\n",
    "        return o.__dict__\n",
    "new_non_human_data_json = MyEncoder().encode(new_non_human_data)"
   ],
   "outputs": [],
   "metadata": {}
  },
  {
   "cell_type": "code",
   "execution_count": 41,
   "source": [
    "with open(f'/home/ubuntu/dormakaba/coco/annotations/custom_ann_non_human_train2014_v{version}.json', 'w') as f:\n",
    "    json.dump(new_non_human_data_json, f)"
   ],
   "outputs": [],
   "metadata": {}
  },
  {
   "cell_type": "markdown",
   "source": [
    "# updating indices"
   ],
   "metadata": {}
  },
  {
   "cell_type": "code",
   "execution_count": 42,
   "source": [
    "final_images = new_person_images + new_data_images\n",
    "final_annotations = new_person_ann + new_data_ann"
   ],
   "outputs": [],
   "metadata": {}
  },
  {
   "cell_type": "code",
   "execution_count": 43,
   "source": [
    "nil = []\n",
    "for image in tqdm(final_images):\n",
    "    if image[\"id\"] not in all_images_list:\n",
    "        nil.append[image[\"id\"]]\n",
    "len(nil)"
   ],
   "outputs": [
    {
     "output_type": "stream",
     "name": "stderr",
     "text": [
      "100%|██████████| 85633/85633 [00:51<00:00, 1666.59it/s]\n"
     ]
    },
    {
     "output_type": "execute_result",
     "data": {
      "text/plain": [
       "0"
      ]
     },
     "metadata": {},
     "execution_count": 43
    }
   ],
   "metadata": {}
  },
  {
   "cell_type": "code",
   "execution_count": 44,
   "source": [
    "final_annotations[0].keys()"
   ],
   "outputs": [
    {
     "output_type": "execute_result",
     "data": {
      "text/plain": [
       "dict_keys(['segmentation', 'area', 'image_id', 'id', 'category_id', 'bbox', 'iscrowd'])"
      ]
     },
     "metadata": {},
     "execution_count": 44
    }
   ],
   "metadata": {}
  },
  {
   "cell_type": "code",
   "execution_count": 45,
   "source": [
    "for i in tqdm(range(len(final_annotations))):\n",
    "    final_annotations[i]['id'] = i+1"
   ],
   "outputs": [
    {
     "output_type": "stream",
     "name": "stderr",
     "text": [
      "100%|██████████| 474298/474298 [00:00<00:00, 1135902.95it/s]\n"
     ]
    }
   ],
   "metadata": {}
  },
  {
   "cell_type": "code",
   "execution_count": 46,
   "source": [
    "nil = []\n",
    "for image in tqdm(final_images):\n",
    "    if image[\"id\"] not in all_images_list:\n",
    "        nil.append[image[\"id\"]]\n",
    "len(nil)"
   ],
   "outputs": [
    {
     "output_type": "stream",
     "name": "stderr",
     "text": [
      "100%|██████████| 85633/85633 [00:51<00:00, 1669.84it/s]\n"
     ]
    },
    {
     "output_type": "execute_result",
     "data": {
      "text/plain": [
       "0"
      ]
     },
     "metadata": {},
     "execution_count": 46
    }
   ],
   "metadata": {}
  },
  {
   "cell_type": "markdown",
   "source": [
    "# saving all data"
   ],
   "metadata": {}
  },
  {
   "cell_type": "code",
   "execution_count": 47,
   "source": [
    "# IN THE version_02\n",
    "new_person_data = {\n",
    "    'images': final_images, \n",
    "    'annotations': final_annotations, \n",
    "    'categories': custom_categories\n",
    "}"
   ],
   "outputs": [],
   "metadata": {}
  },
  {
   "cell_type": "code",
   "execution_count": 48,
   "source": [
    "class MyEncoder(JSONEncoder):\n",
    "    def default(self, o):\n",
    "        return o.__dict__\n",
    "new_person_data_json = MyEncoder().encode(new_person_data)"
   ],
   "outputs": [],
   "metadata": {}
  },
  {
   "cell_type": "code",
   "execution_count": 49,
   "source": [
    "with open(f'/home/ubuntu/dormakaba/coco/annotations/custom_ann_train2014_v{version}.json', 'w') as f:\n",
    "    json.dump(new_person_data_json, f)"
   ],
   "outputs": [],
   "metadata": {}
  },
  {
   "cell_type": "code",
   "execution_count": null,
   "source": [],
   "outputs": [],
   "metadata": {}
  }
 ],
 "metadata": {
  "interpreter": {
   "hash": "47d517df254fbe59b5c04b69f23871c524fea7fc7dc51e349dcd158d9476f98d"
  },
  "kernelspec": {
   "name": "python3",
   "display_name": "Python 3.7.10 64-bit ('pytorch_latest_p37': conda)"
  },
  "language_info": {
   "codemirror_mode": {
    "name": "ipython",
    "version": 3
   },
   "file_extension": ".py",
   "mimetype": "text/x-python",
   "name": "python",
   "nbconvert_exporter": "python",
   "pygments_lexer": "ipython3",
   "version": "3.7.10"
  },
  "orig_nbformat": 2
 },
 "nbformat": 4,
 "nbformat_minor": 2
}