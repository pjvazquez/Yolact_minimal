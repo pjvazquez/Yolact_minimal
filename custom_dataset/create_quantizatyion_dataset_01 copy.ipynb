{
 "metadata": {
  "language_info": {
   "codemirror_mode": {
    "name": "ipython",
    "version": 3
   },
   "file_extension": ".py",
   "mimetype": "text/x-python",
   "name": "python",
   "nbconvert_exporter": "python",
   "pygments_lexer": "ipython3",
   "version": "3.7.0"
  },
  "orig_nbformat": 2,
  "kernelspec": {
   "name": "python3",
   "display_name": "Python 3.7.0 64-bit ('yolact-pytorch': conda)"
  },
  "interpreter": {
   "hash": "43ea5ee8a92c56579f8ec6e3a48a2211d5f361fc5e73dc7dcd23cc6e60d8935d"
  }
 },
 "nbformat": 4,
 "nbformat_minor": 2,
 "cells": [
  {
   "cell_type": "code",
   "execution_count": 1,
   "source": [
    "from pycocotools.coco import COCO\n",
    "import os\n",
    "import cv2\n",
    "import matplotlib.pyplot as plt\n",
    "import numpy as np\n",
    "import pycocotools.mask as mask_util\n",
    "from random import randint\n",
    "from collections import defaultdict"
   ],
   "outputs": [],
   "metadata": {}
  },
  {
   "cell_type": "code",
   "execution_count": 2,
   "source": [
    "CUSTOM_CLASSES = ['person', 'bicycle', 'cat', 'dog', 'backpack', 'umbrella', 'handbag', 'suitcase', \n",
    "                'sports ball', 'baseball bat', 'skateboard', 'tennis racket', 'bottle', 'wine glass', \n",
    "                'sandwich', 'chair', 'laptop', 'cell phone', 'book', 'clock', 'scissors', 'teddy bear',\n",
    "                'torso', 'hand', 'foot', 'upleg', 'lowleg', 'uparm', 'lowarm', 'head']\n"
   ],
   "outputs": [],
   "metadata": {}
  },
  {
   "cell_type": "code",
   "execution_count": 3,
   "source": [
    "coco_folder = '/mnt/DATASSD/DataSandbox/coco'\n",
    "# dp_coco = COCO( coco_folder + '/annotations/custom_ann_train2014_v14.json')\n",
    "# dp_coco = COCO( coco_folder + '/annotations/custom_ann_train2014_v15.json')\n"
   ],
   "outputs": [],
   "metadata": {}
  },
  {
   "cell_type": "code",
   "execution_count": 6,
   "source": [
    "import json\n",
    "import ast\n",
    "filename = coco_folder + '/annotations/custom_ann_valid2014_v15.json'\n",
    "# filename = coco_folder + '/annotations/instances_val2014.json'\n",
    "with open(filename) as json_file:\n",
    "    data_str = json.load(json_file)\n",
    "data = ast.literal_eval(data_str)"
   ],
   "outputs": [],
   "metadata": {}
  },
  {
   "cell_type": "code",
   "execution_count": 7,
   "source": [
    "print(data.keys())\n",
    "print(data['images'][0])\n",
    "print(data['annotations'][0])\n",
    "print(data['categories'][0])\n"
   ],
   "outputs": [
    {
     "output_type": "stream",
     "name": "stdout",
     "text": [
      "dict_keys(['images', 'annotations', 'categories'])\n",
      "{'license': 1, 'file_name': 'COCO_val2014_000000109229.jpg', 'coco_url': 'http://mscoco.org/images/109229', 'height': 640, 'width': 514, 'date_captured': '2013-11-18 17:27:34', 'flickr_url': 'http://farm3.staticflickr.com/2342/1794334693_c3e27b61dd_z.jpg', 'id': 109229}\n",
      "{'segmentation': [[217.17, 355, 218.61, 349.24, 212.85, 324.79, 214.29, 313.29, 225.8, 296.03, 244.49, 296.03, 256, 304.66, 257.44, 339.18, 257.44, 350.68, 325.03, 382.32, 352.36, 406.77, 345.17, 418.28, 343.73, 422.59, 332.22, 422.59, 312.09, 409.65, 279.01, 396.7, 273.26, 389.51, 264.63, 445.6, 258.88, 534.77, 251.69, 563.54, 240.18, 580.79, 244.49, 587.98, 224.36, 587.98, 208.54, 587.98, 207.1, 587.98, 202.79, 582.23, 201.35, 562.1, 201.35, 541.96, 201.35, 501.69, 202.79, 390.95, 201.35, 382.32, 178.34, 393.83, 171.15, 393.83, 161.08, 390.95, 145.26, 383.76, 135.19, 375.13, 116.49, 369.38, 109.3, 369.38, 117.93, 362.19, 136.63, 359.31, 142.38, 356.43, 143.82, 356.43, 169.71, 370.82, 199.91, 359.31]], 'area': 20752.355, 'image_id': 109229, 'id': 1, 'category_id': 1, 'bbox': [109, 296, 243, 291], 'iscrowd': 0}\n",
      "{'supercategory': 'person', 'id': 1, 'name': 'person'}\n"
     ]
    }
   ],
   "metadata": {}
  },
  {
   "cell_type": "code",
   "execution_count": 12,
   "source": [
    "import pandas as pd\n",
    "import copy\n",
    "data_2 = copy.deepcopy(data)\n",
    "\n",
    "data_df = pd.json_normalize(data)\n",
    "data_df.head(3)"
   ],
   "outputs": [
    {
     "output_type": "execute_result",
     "data": {
      "text/html": [
       "<div>\n",
       "<style scoped>\n",
       "    .dataframe tbody tr th:only-of-type {\n",
       "        vertical-align: middle;\n",
       "    }\n",
       "\n",
       "    .dataframe tbody tr th {\n",
       "        vertical-align: top;\n",
       "    }\n",
       "\n",
       "    .dataframe thead th {\n",
       "        text-align: right;\n",
       "    }\n",
       "</style>\n",
       "<table border=\"1\" class=\"dataframe\">\n",
       "  <thead>\n",
       "    <tr style=\"text-align: right;\">\n",
       "      <th></th>\n",
       "      <th>images</th>\n",
       "      <th>annotations</th>\n",
       "      <th>categories</th>\n",
       "    </tr>\n",
       "  </thead>\n",
       "  <tbody>\n",
       "    <tr>\n",
       "      <th>0</th>\n",
       "      <td>[{'license': 1, 'file_name': 'COCO_val2014_000...</td>\n",
       "      <td>[{'segmentation': [[217.17, 355, 218.61, 349.2...</td>\n",
       "      <td>[{'supercategory': 'person', 'id': 1, 'name': ...</td>\n",
       "    </tr>\n",
       "  </tbody>\n",
       "</table>\n",
       "</div>"
      ],
      "text/plain": [
       "                                              images  \\\n",
       "0  [{'license': 1, 'file_name': 'COCO_val2014_000...   \n",
       "\n",
       "                                         annotations  \\\n",
       "0  [{'segmentation': [[217.17, 355, 218.61, 349.2...   \n",
       "\n",
       "                                          categories  \n",
       "0  [{'supercategory': 'person', 'id': 1, 'name': ...  "
      ]
     },
     "metadata": {},
     "execution_count": 12
    }
   ],
   "metadata": {}
  },
  {
   "cell_type": "code",
   "execution_count": 16,
   "source": [
    "data[0]"
   ],
   "outputs": [
    {
     "output_type": "error",
     "ename": "KeyError",
     "evalue": "0",
     "traceback": [
      "\u001b[0;31m---------------------------------------------------------------------------\u001b[0m",
      "\u001b[0;31mKeyError\u001b[0m                                  Traceback (most recent call last)",
      "\u001b[0;32m<ipython-input-16-80a4aab09c73>\u001b[0m in \u001b[0;36m<module>\u001b[0;34m\u001b[0m\n\u001b[0;32m----> 1\u001b[0;31m \u001b[0mdata\u001b[0m\u001b[0;34m[\u001b[0m\u001b[0;36m0\u001b[0m\u001b[0;34m]\u001b[0m\u001b[0;34m\u001b[0m\u001b[0m\n\u001b[0m",
      "\u001b[0;31mKeyError\u001b[0m: 0"
     ]
    }
   ],
   "metadata": {}
  },
  {
   "cell_type": "code",
   "execution_count": 18,
   "source": [
    "len(data_df.iloc[0]['images'])"
   ],
   "outputs": [
    {
     "output_type": "execute_result",
     "data": {
      "text/plain": [
       "34882"
      ]
     },
     "metadata": {},
     "execution_count": 18
    }
   ],
   "metadata": {}
  },
  {
   "cell_type": "markdown",
   "source": [],
   "metadata": {}
  },
  {
   "cell_type": "code",
   "execution_count": 11,
   "source": [
    "a1 = [{**x, **x.pop('key')} for x in data_2]\n",
    "a1[0]"
   ],
   "outputs": [
    {
     "output_type": "error",
     "ename": "NameError",
     "evalue": "name 'data_2' is not defined",
     "traceback": [
      "\u001b[0;31m---------------------------------------------------------------------------\u001b[0m",
      "\u001b[0;31mNameError\u001b[0m                                 Traceback (most recent call last)",
      "\u001b[0;32m<ipython-input-11-136b2e3c3bbf>\u001b[0m in \u001b[0;36m<module>\u001b[0;34m\u001b[0m\n\u001b[0;32m----> 1\u001b[0;31m \u001b[0ma1\u001b[0m \u001b[0;34m=\u001b[0m \u001b[0;34m[\u001b[0m\u001b[0;34m{\u001b[0m\u001b[0;34m**\u001b[0m\u001b[0mx\u001b[0m\u001b[0;34m,\u001b[0m \u001b[0;34m**\u001b[0m\u001b[0mx\u001b[0m\u001b[0;34m.\u001b[0m\u001b[0mpop\u001b[0m\u001b[0;34m(\u001b[0m\u001b[0;34m'key'\u001b[0m\u001b[0;34m)\u001b[0m\u001b[0;34m}\u001b[0m \u001b[0;32mfor\u001b[0m \u001b[0mx\u001b[0m \u001b[0;32min\u001b[0m \u001b[0mdata_2\u001b[0m\u001b[0;34m]\u001b[0m\u001b[0;34m\u001b[0m\u001b[0m\n\u001b[0m\u001b[1;32m      2\u001b[0m \u001b[0ma1\u001b[0m\u001b[0;34m[\u001b[0m\u001b[0;36m0\u001b[0m\u001b[0;34m]\u001b[0m\u001b[0;34m\u001b[0m\u001b[0m\n",
      "\u001b[0;31mNameError\u001b[0m: name 'data_2' is not defined"
     ]
    }
   ],
   "metadata": {}
  },
  {
   "cell_type": "code",
   "execution_count": 10,
   "source": [
    "data_df.head(10)"
   ],
   "outputs": [
    {
     "output_type": "execute_result",
     "data": {
      "text/html": [
       "<div>\n",
       "<style scoped>\n",
       "    .dataframe tbody tr th:only-of-type {\n",
       "        vertical-align: middle;\n",
       "    }\n",
       "\n",
       "    .dataframe tbody tr th {\n",
       "        vertical-align: top;\n",
       "    }\n",
       "\n",
       "    .dataframe thead th {\n",
       "        text-align: right;\n",
       "    }\n",
       "</style>\n",
       "<table border=\"1\" class=\"dataframe\">\n",
       "  <thead>\n",
       "    <tr style=\"text-align: right;\">\n",
       "      <th></th>\n",
       "      <th>images</th>\n",
       "      <th>annotations</th>\n",
       "      <th>categories</th>\n",
       "    </tr>\n",
       "  </thead>\n",
       "  <tbody>\n",
       "    <tr>\n",
       "      <th>0</th>\n",
       "      <td>[{'license': 1, 'file_name': 'COCO_val2014_000...</td>\n",
       "      <td>[{'segmentation': [[217.17, 355, 218.61, 349.2...</td>\n",
       "      <td>[{'supercategory': 'person', 'id': 1, 'name': ...</td>\n",
       "    </tr>\n",
       "  </tbody>\n",
       "</table>\n",
       "</div>"
      ],
      "text/plain": [
       "                                              images  \\\n",
       "0  [{'license': 1, 'file_name': 'COCO_val2014_000...   \n",
       "\n",
       "                                         annotations  \\\n",
       "0  [{'segmentation': [[217.17, 355, 218.61, 349.2...   \n",
       "\n",
       "                                          categories  \n",
       "0  [{'supercategory': 'person', 'id': 1, 'name': ...  "
      ]
     },
     "metadata": {},
     "execution_count": 10
    }
   ],
   "metadata": {}
  },
  {
   "cell_type": "code",
   "execution_count": null,
   "source": [
    "catIds = dp_coco.getCatIds()\n",
    "print(catIds)"
   ],
   "outputs": [],
   "metadata": {}
  },
  {
   "cell_type": "code",
   "execution_count": null,
   "source": [
    "annIds = dp_coco.getAnnIds()"
   ],
   "outputs": [],
   "metadata": {}
  },
  {
   "cell_type": "code",
   "execution_count": null,
   "source": [
    "for catId in range(80): #catIds:\n",
    "    n_im_ids = dp_coco.getImgIds(catIds=catId)\n",
    "    print(catId,  len(n_im_ids)) # CUSTOM_CLASSES[catId]"
   ],
   "outputs": [],
   "metadata": {}
  },
  {
   "cell_type": "code",
   "execution_count": null,
   "source": [
    "n_im_ids = dp_coco.getImgIds(catIds=catId)\n",
    "print(len(n_im_ids))\n",
    "# Select a random image id.\n",
    "Selected_im = person_im_ids[randint(0, len(person_im_ids))]\n",
    "im = dp_coco.loadImgs(Selected_im)[0]  \n",
    "ann_ids = dp_coco.getAnnIds( imgIds=im['id'] )\n",
    "anns = dp_coco.loadAnns(ann_ids)\n",
    "im_name = os.path.join( coco_folder + '/val2014', im['file_name'] )"
   ],
   "outputs": [],
   "metadata": {}
  },
  {
   "cell_type": "code",
   "execution_count": null,
   "source": [
    "print( Selected_im, im, ann_ids, im_name)\n",
    "I=cv2.imread(im_name)\n",
    "if I is not None:\n",
    "    plt.imshow(I[:,:,::-1]); plt.axis('off'); plt.show()\n",
    "else:\n",
    "    print(\"No image to load\")"
   ],
   "outputs": [],
   "metadata": {}
  },
  {
   "cell_type": "code",
   "execution_count": null,
   "source": [
    "bike_im_ids = dp_coco.getImgIds(catIds=5)\n",
    "print(len(bike_im_ids))\n",
    "# Select a random image id.\n",
    "Selected_im = bike_im_ids[randint(0, len(bike_im_ids))]\n",
    "im = dp_coco.loadImgs(Selected_im)[0]  \n",
    "ann_ids = dp_coco.getAnnIds( imgIds=im['id'] )\n",
    "anns = dp_coco.loadAnns(ann_ids)\n",
    "im_name = os.path.join( coco_folder + '/val2014', im['file_name'] )"
   ],
   "outputs": [],
   "metadata": {}
  },
  {
   "cell_type": "code",
   "execution_count": null,
   "source": [
    "print( Selected_im, im, ann_ids, im_name)\n",
    "I=cv2.imread(im_name)\n",
    "if I is not None:\n",
    "    plt.imshow(I[:,:,::-1]); plt.axis('off'); plt.show()\n",
    "else:\n",
    "    print(\"No image to load\")"
   ],
   "outputs": [],
   "metadata": {}
  }
 ]
}