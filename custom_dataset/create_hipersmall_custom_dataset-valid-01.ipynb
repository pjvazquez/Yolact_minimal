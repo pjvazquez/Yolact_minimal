{
 "cells": [
  {
   "cell_type": "markdown",
   "metadata": {},
   "source": [
    "# Create an initial dataset with elements from COCO dataset \n",
    "# and elements from densepose dataset condensing left-right in only one class\n",
    "## all body parts included\n",
    "\n",
    "## corresponds with version 14\n"
   ]
  },
  {
   "cell_type": "markdown",
   "metadata": {},
   "source": [
    "# Getting data and looking into the structure"
   ]
  },
  {
   "cell_type": "code",
   "execution_count": 1,
   "metadata": {},
   "outputs": [],
   "source": [
    "import cv2\n",
    "import json\n",
    "from json import JSONEncoder\n",
    "import pandas as pd\n",
    "import numpy as np\n",
    "import pycocotools.mask as mask_util\n",
    "\n",
    "from tqdm import tqdm"
   ]
  },
  {
   "cell_type": "code",
   "execution_count": 2,
   "metadata": {},
   "outputs": [],
   "source": [
    "# version number of the json files\n",
    "version = 1\n",
    "# datapath = '/home/ubuntu/dormakaba/coco'\n",
    "datapath = '/mnt/DATASSD/DataSandbox/coco'"
   ]
  },
  {
   "cell_type": "code",
   "execution_count": 3,
   "metadata": {},
   "outputs": [],
   "source": [
    "with open(f'{datapath}/annotations/instances_val2014.json') as json_file:\n",
    "    data = json.load(json_file)"
   ]
  },
  {
   "cell_type": "code",
   "execution_count": 4,
   "metadata": {},
   "outputs": [],
   "source": [
    "with open(f'{datapath}/annotations/densepose_coco_2014_valminusminival.json') as json_file:\n",
    "    person_data = json.load(json_file)"
   ]
  },
  {
   "cell_type": "code",
   "execution_count": 5,
   "metadata": {},
   "outputs": [
    {
     "data": {
      "text/plain": [
       "Index(['images', 'licenses', 'annotations', 'categories', 'info.description',\n",
       "       'info.url', 'info.version', 'info.year', 'info.contributor',\n",
       "       'info.date_created'],\n",
       "      dtype='object')"
      ]
     },
     "execution_count": 5,
     "metadata": {},
     "output_type": "execute_result"
    }
   ],
   "source": [
    "data_df = pd.json_normalize(data)\n",
    "data_df.keys()"
   ]
  },
  {
   "cell_type": "code",
   "execution_count": 6,
   "metadata": {},
   "outputs": [
    {
     "data": {
      "text/plain": [
       "Index(['images', 'annotations', 'categories'], dtype='object')"
      ]
     },
     "execution_count": 6,
     "metadata": {},
     "output_type": "execute_result"
    }
   ],
   "source": [
    "person_data_df = pd.json_normalize(person_data)\n",
    "person_data_df.keys()"
   ]
  },
  {
   "cell_type": "code",
   "execution_count": 7,
   "metadata": {},
   "outputs": [
    {
     "data": {
      "text/plain": [
       "{'supercategory': 'person',\n",
       " 'id': 1,\n",
       " 'keypoints': ['nose',\n",
       "  'left_eye',\n",
       "  'right_eye',\n",
       "  'left_ear',\n",
       "  'right_ear',\n",
       "  'left_shoulder',\n",
       "  'right_shoulder',\n",
       "  'left_elbow',\n",
       "  'right_elbow',\n",
       "  'left_wrist',\n",
       "  'right_wrist',\n",
       "  'left_hip',\n",
       "  'right_hip',\n",
       "  'left_knee',\n",
       "  'right_knee',\n",
       "  'left_ankle',\n",
       "  'right_ankle'],\n",
       " 'name': 'person',\n",
       " 'skeleton': [[16, 14],\n",
       "  [14, 12],\n",
       "  [17, 15],\n",
       "  [15, 13],\n",
       "  [12, 13],\n",
       "  [6, 12],\n",
       "  [7, 13],\n",
       "  [6, 7],\n",
       "  [6, 8],\n",
       "  [7, 9],\n",
       "  [8, 10],\n",
       "  [9, 11],\n",
       "  [2, 3],\n",
       "  [1, 2],\n",
       "  [1, 3],\n",
       "  [2, 4],\n",
       "  [3, 5],\n",
       "  [4, 6],\n",
       "  [5, 7]]}"
      ]
     },
     "execution_count": 7,
     "metadata": {},
     "output_type": "execute_result"
    }
   ],
   "source": [
    "person_data_df['categories'].iloc[0][0]"
   ]
  },
  {
   "cell_type": "code",
   "execution_count": 8,
   "metadata": {},
   "outputs": [
    {
     "data": {
      "text/plain": [
       "[{'supercategory': 'person', 'id': 1, 'name': 'person'},\n",
       " {'supercategory': 'vehicle', 'id': 2, 'name': 'bicycle'},\n",
       " {'supercategory': 'vehicle', 'id': 3, 'name': 'car'},\n",
       " {'supercategory': 'vehicle', 'id': 4, 'name': 'motorcycle'},\n",
       " {'supercategory': 'vehicle', 'id': 5, 'name': 'airplane'},\n",
       " {'supercategory': 'vehicle', 'id': 6, 'name': 'bus'},\n",
       " {'supercategory': 'vehicle', 'id': 7, 'name': 'train'},\n",
       " {'supercategory': 'vehicle', 'id': 8, 'name': 'truck'},\n",
       " {'supercategory': 'vehicle', 'id': 9, 'name': 'boat'},\n",
       " {'supercategory': 'outdoor', 'id': 10, 'name': 'traffic light'},\n",
       " {'supercategory': 'outdoor', 'id': 11, 'name': 'fire hydrant'},\n",
       " {'supercategory': 'outdoor', 'id': 13, 'name': 'stop sign'},\n",
       " {'supercategory': 'outdoor', 'id': 14, 'name': 'parking meter'},\n",
       " {'supercategory': 'outdoor', 'id': 15, 'name': 'bench'},\n",
       " {'supercategory': 'animal', 'id': 16, 'name': 'bird'},\n",
       " {'supercategory': 'animal', 'id': 17, 'name': 'cat'},\n",
       " {'supercategory': 'animal', 'id': 18, 'name': 'dog'},\n",
       " {'supercategory': 'animal', 'id': 19, 'name': 'horse'},\n",
       " {'supercategory': 'animal', 'id': 20, 'name': 'sheep'},\n",
       " {'supercategory': 'animal', 'id': 21, 'name': 'cow'},\n",
       " {'supercategory': 'animal', 'id': 22, 'name': 'elephant'},\n",
       " {'supercategory': 'animal', 'id': 23, 'name': 'bear'},\n",
       " {'supercategory': 'animal', 'id': 24, 'name': 'zebra'},\n",
       " {'supercategory': 'animal', 'id': 25, 'name': 'giraffe'},\n",
       " {'supercategory': 'accessory', 'id': 27, 'name': 'backpack'},\n",
       " {'supercategory': 'accessory', 'id': 28, 'name': 'umbrella'},\n",
       " {'supercategory': 'accessory', 'id': 31, 'name': 'handbag'},\n",
       " {'supercategory': 'accessory', 'id': 32, 'name': 'tie'},\n",
       " {'supercategory': 'accessory', 'id': 33, 'name': 'suitcase'},\n",
       " {'supercategory': 'sports', 'id': 34, 'name': 'frisbee'},\n",
       " {'supercategory': 'sports', 'id': 35, 'name': 'skis'},\n",
       " {'supercategory': 'sports', 'id': 36, 'name': 'snowboard'},\n",
       " {'supercategory': 'sports', 'id': 37, 'name': 'sports ball'},\n",
       " {'supercategory': 'sports', 'id': 38, 'name': 'kite'},\n",
       " {'supercategory': 'sports', 'id': 39, 'name': 'baseball bat'},\n",
       " {'supercategory': 'sports', 'id': 40, 'name': 'baseball glove'},\n",
       " {'supercategory': 'sports', 'id': 41, 'name': 'skateboard'},\n",
       " {'supercategory': 'sports', 'id': 42, 'name': 'surfboard'},\n",
       " {'supercategory': 'sports', 'id': 43, 'name': 'tennis racket'},\n",
       " {'supercategory': 'kitchen', 'id': 44, 'name': 'bottle'},\n",
       " {'supercategory': 'kitchen', 'id': 46, 'name': 'wine glass'},\n",
       " {'supercategory': 'kitchen', 'id': 47, 'name': 'cup'},\n",
       " {'supercategory': 'kitchen', 'id': 48, 'name': 'fork'},\n",
       " {'supercategory': 'kitchen', 'id': 49, 'name': 'knife'},\n",
       " {'supercategory': 'kitchen', 'id': 50, 'name': 'spoon'},\n",
       " {'supercategory': 'kitchen', 'id': 51, 'name': 'bowl'},\n",
       " {'supercategory': 'food', 'id': 52, 'name': 'banana'},\n",
       " {'supercategory': 'food', 'id': 53, 'name': 'apple'},\n",
       " {'supercategory': 'food', 'id': 54, 'name': 'sandwich'},\n",
       " {'supercategory': 'food', 'id': 55, 'name': 'orange'},\n",
       " {'supercategory': 'food', 'id': 56, 'name': 'broccoli'},\n",
       " {'supercategory': 'food', 'id': 57, 'name': 'carrot'},\n",
       " {'supercategory': 'food', 'id': 58, 'name': 'hot dog'},\n",
       " {'supercategory': 'food', 'id': 59, 'name': 'pizza'},\n",
       " {'supercategory': 'food', 'id': 60, 'name': 'donut'},\n",
       " {'supercategory': 'food', 'id': 61, 'name': 'cake'},\n",
       " {'supercategory': 'furniture', 'id': 62, 'name': 'chair'},\n",
       " {'supercategory': 'furniture', 'id': 63, 'name': 'couch'},\n",
       " {'supercategory': 'furniture', 'id': 64, 'name': 'potted plant'},\n",
       " {'supercategory': 'furniture', 'id': 65, 'name': 'bed'},\n",
       " {'supercategory': 'furniture', 'id': 67, 'name': 'dining table'},\n",
       " {'supercategory': 'furniture', 'id': 70, 'name': 'toilet'},\n",
       " {'supercategory': 'electronic', 'id': 72, 'name': 'tv'},\n",
       " {'supercategory': 'electronic', 'id': 73, 'name': 'laptop'},\n",
       " {'supercategory': 'electronic', 'id': 74, 'name': 'mouse'},\n",
       " {'supercategory': 'electronic', 'id': 75, 'name': 'remote'},\n",
       " {'supercategory': 'electronic', 'id': 76, 'name': 'keyboard'},\n",
       " {'supercategory': 'electronic', 'id': 77, 'name': 'cell phone'},\n",
       " {'supercategory': 'appliance', 'id': 78, 'name': 'microwave'},\n",
       " {'supercategory': 'appliance', 'id': 79, 'name': 'oven'},\n",
       " {'supercategory': 'appliance', 'id': 80, 'name': 'toaster'},\n",
       " {'supercategory': 'appliance', 'id': 81, 'name': 'sink'},\n",
       " {'supercategory': 'appliance', 'id': 82, 'name': 'refrigerator'},\n",
       " {'supercategory': 'indoor', 'id': 84, 'name': 'book'},\n",
       " {'supercategory': 'indoor', 'id': 85, 'name': 'clock'},\n",
       " {'supercategory': 'indoor', 'id': 86, 'name': 'vase'},\n",
       " {'supercategory': 'indoor', 'id': 87, 'name': 'scissors'},\n",
       " {'supercategory': 'indoor', 'id': 88, 'name': 'teddy bear'},\n",
       " {'supercategory': 'indoor', 'id': 89, 'name': 'hair drier'},\n",
       " {'supercategory': 'indoor', 'id': 90, 'name': 'toothbrush'}]"
      ]
     },
     "execution_count": 8,
     "metadata": {},
     "output_type": "execute_result"
    }
   ],
   "source": [
    "data_df['categories'][0]"
   ]
  },
  {
   "cell_type": "code",
   "execution_count": 9,
   "metadata": {},
   "outputs": [
    {
     "data": {
      "text/plain": [
       "{'segmentation': [[217.17,\n",
       "   355,\n",
       "   218.61,\n",
       "   349.24,\n",
       "   212.85,\n",
       "   324.79,\n",
       "   214.29,\n",
       "   313.29,\n",
       "   225.8,\n",
       "   296.03,\n",
       "   244.49,\n",
       "   296.03,\n",
       "   256,\n",
       "   304.66,\n",
       "   257.44,\n",
       "   339.18,\n",
       "   257.44,\n",
       "   350.68,\n",
       "   325.03,\n",
       "   382.32,\n",
       "   352.36,\n",
       "   406.77,\n",
       "   345.17,\n",
       "   418.28,\n",
       "   343.73,\n",
       "   422.59,\n",
       "   332.22,\n",
       "   422.59,\n",
       "   312.09,\n",
       "   409.65,\n",
       "   279.01,\n",
       "   396.7,\n",
       "   273.26,\n",
       "   389.51,\n",
       "   264.63,\n",
       "   445.6,\n",
       "   258.88,\n",
       "   534.77,\n",
       "   251.69,\n",
       "   563.54,\n",
       "   240.18,\n",
       "   580.79,\n",
       "   244.49,\n",
       "   587.98,\n",
       "   224.36,\n",
       "   587.98,\n",
       "   208.54,\n",
       "   587.98,\n",
       "   207.1,\n",
       "   587.98,\n",
       "   202.79,\n",
       "   582.23,\n",
       "   201.35,\n",
       "   562.1,\n",
       "   201.35,\n",
       "   541.96,\n",
       "   201.35,\n",
       "   501.69,\n",
       "   202.79,\n",
       "   390.95,\n",
       "   201.35,\n",
       "   382.32,\n",
       "   178.34,\n",
       "   393.83,\n",
       "   171.15,\n",
       "   393.83,\n",
       "   161.08,\n",
       "   390.95,\n",
       "   145.26,\n",
       "   383.76,\n",
       "   135.19,\n",
       "   375.13,\n",
       "   116.49,\n",
       "   369.38,\n",
       "   109.3,\n",
       "   369.38,\n",
       "   117.93,\n",
       "   362.19,\n",
       "   136.63,\n",
       "   359.31,\n",
       "   142.38,\n",
       "   356.43,\n",
       "   143.82,\n",
       "   356.43,\n",
       "   169.71,\n",
       "   370.82,\n",
       "   199.91,\n",
       "   359.31]],\n",
       " 'num_keypoints': 17,\n",
       " 'dp_masks': [{'counts': '[bh03m70O5I8I7B=D=K=C;E0000001N101O1N101N101O000010O010O1O01O010O010O001O010O1O010N1000O100O001O100O1O01O0100O010OO12O000000001O000000001O000O12NJ7D;ZNPJR1[6mNjI8l6Hf0O2O0O2O0000XVc0',\n",
       "   'size': [256, 256]},\n",
       "  {'counts': 'mQ11o72N000O1000001N0100000O100O1O0100000O100O10O10010O01O1O001OO1O2N1N3M2O10Wfe1',\n",
       "   'size': [256, 256]},\n",
       "  {'counts': 'Pkj1173]7:N0O3N1N2N010O02O0O2N101M2M5LQU1', 'size': [256, 256]},\n",
       "  {'counts': 'ZgQ16g77L3M1O001O001OO10000000O14L5K4L4LYhi0',\n",
       "   'size': [256, 256]},\n",
       "  {'counts': 'j_l01o72N2N1N1000000000000000000O1000000O12N3M3MQPn0',\n",
       "   'size': [256, 256]},\n",
       "  {'counts': 'U\\\\j0h1S64N21O101N1O2N2O001O001O00001O001O000010O100O100O101NN3ROn0I6J7Ikcm0',\n",
       "   'size': [256, 256]},\n",
       "  {'counts': 'P]Q1a0Y7d0\\\\O5K6M210O10O01O002O0O2N101N101N103L3MN3N2N2M3N200N2I7F:I7K5J6K4IXTf0',\n",
       "   'size': [256, 256]},\n",
       "  {'counts': 'm]j09f7b0^O<D4M5J4L5K5L4L1O0000O100000000000001O1O1N2O1fN\\\\J6e5GdJ2^5IlJOZ5IPK1kfn0',\n",
       "   'size': [256, 256]},\n",
       "  {'counts': 'o]Q1e0[7>A6K0O10000O100O11O001O001N110A>I:EVji0',\n",
       "   'size': [256, 256]},\n",
       "  {'counts': 'kaZ14l75K1N3N1N2O1O1O0O20O10O10O0100O0100O00100O1O010O01O000100O001O1O0N3M3L3N3O1N11O01O0010c]:',\n",
       "   'size': [256, 256]},\n",
       "  {'counts': 'SZ`03l75L3M5K000O10O0100O100O10000O10000O10O01000000O1O10O01O010O1O010OO200O1M3N2GenU1',\n",
       "   'size': [256, 256]},\n",
       "  {'counts': 'cjb12l72M4M201N110O000010O01O010O00000010O10O01O01O0100O0010O01O1O001O1O000O101N2N2OUU3',\n",
       "   'size': [256, 256]},\n",
       "  {'counts': 'Qb81n71O1N3M3N2O002O0O1O0010O000100O010O010O010O00010O00010O0001O3N3L3Nbm^1',\n",
       "   'size': [256, 256]},\n",
       "  {'counts': 'nhk02k75ELdH8X7:N3L2N3M200O3VIoNa6S1[IPOd6V1O2N2O0O1O2O001O0000001N10001OO1000001O0O101O00001N3M2O2N2M4M3QOSI;^7M3N2M5L20TWh0',\n",
       "   'size': [256, 256]}],\n",
       " 'area': 20752.355,\n",
       " 'dp_I': [2.0,\n",
       "  2.0,\n",
       "  2.0,\n",
       "  2.0,\n",
       "  2.0,\n",
       "  2.0,\n",
       "  2.0,\n",
       "  2.0,\n",
       "  2.0,\n",
       "  2.0,\n",
       "  2.0,\n",
       "  2.0,\n",
       "  2.0,\n",
       "  2.0,\n",
       "  23.0,\n",
       "  24.0,\n",
       "  23.0,\n",
       "  24.0,\n",
       "  23.0,\n",
       "  23.0,\n",
       "  24.0,\n",
       "  23.0,\n",
       "  23.0,\n",
       "  24.0,\n",
       "  23.0,\n",
       "  24.0,\n",
       "  2.0,\n",
       "  2.0,\n",
       "  2.0,\n",
       "  9.0,\n",
       "  9.0,\n",
       "  9.0,\n",
       "  9.0,\n",
       "  9.0,\n",
       "  9.0,\n",
       "  9.0,\n",
       "  9.0,\n",
       "  9.0,\n",
       "  2.0,\n",
       "  2.0,\n",
       "  10.0,\n",
       "  10.0,\n",
       "  10.0,\n",
       "  10.0,\n",
       "  10.0,\n",
       "  10.0,\n",
       "  10.0,\n",
       "  10.0,\n",
       "  10.0,\n",
       "  10.0,\n",
       "  17.0,\n",
       "  17.0,\n",
       "  15.0,\n",
       "  15.0,\n",
       "  17.0,\n",
       "  15.0,\n",
       "  15.0,\n",
       "  16.0,\n",
       "  16.0,\n",
       "  16.0,\n",
       "  16.0,\n",
       "  16.0,\n",
       "  16.0,\n",
       "  16.0,\n",
       "  16.0,\n",
       "  13.0,\n",
       "  13.0,\n",
       "  13.0,\n",
       "  13.0,\n",
       "  13.0,\n",
       "  13.0,\n",
       "  13.0,\n",
       "  13.0,\n",
       "  13.0,\n",
       "  13.0,\n",
       "  13.0,\n",
       "  13.0,\n",
       "  10.0,\n",
       "  14.0,\n",
       "  14.0,\n",
       "  14.0,\n",
       "  14.0,\n",
       "  14.0,\n",
       "  14.0,\n",
       "  14.0,\n",
       "  21.0,\n",
       "  21.0,\n",
       "  21.0,\n",
       "  21.0,\n",
       "  21.0,\n",
       "  21.0,\n",
       "  20.0,\n",
       "  20.0,\n",
       "  22.0,\n",
       "  20.0,\n",
       "  20.0,\n",
       "  20.0,\n",
       "  14.0,\n",
       "  5.0,\n",
       "  5.0,\n",
       "  5.0,\n",
       "  5.0,\n",
       "  6.0,\n",
       "  6.0,\n",
       "  6.0,\n",
       "  6.0,\n",
       "  6.0,\n",
       "  20.0,\n",
       "  3.0,\n",
       "  3.0,\n",
       "  20.0,\n",
       "  3.0,\n",
       "  21.0,\n",
       "  4.0,\n",
       "  4.0,\n",
       "  4.0,\n",
       "  4.0],\n",
       " 'iscrowd': 0,\n",
       " 'keypoints': [238,\n",
       "  334,\n",
       "  2,\n",
       "  243,\n",
       "  328,\n",
       "  2,\n",
       "  231,\n",
       "  328,\n",
       "  2,\n",
       "  253,\n",
       "  329,\n",
       "  2,\n",
       "  220,\n",
       "  332,\n",
       "  2,\n",
       "  264,\n",
       "  365,\n",
       "  2,\n",
       "  213,\n",
       "  366,\n",
       "  2,\n",
       "  299,\n",
       "  381,\n",
       "  2,\n",
       "  172,\n",
       "  381,\n",
       "  2,\n",
       "  332,\n",
       "  401,\n",
       "  2,\n",
       "  142,\n",
       "  364,\n",
       "  2,\n",
       "  253,\n",
       "  461,\n",
       "  2,\n",
       "  218,\n",
       "  459,\n",
       "  2,\n",
       "  248,\n",
       "  510,\n",
       "  2,\n",
       "  224,\n",
       "  512,\n",
       "  2,\n",
       "  239,\n",
       "  561,\n",
       "  2,\n",
       "  224,\n",
       "  580,\n",
       "  2],\n",
       " 'dp_x': [113.39676666259766,\n",
       "  160.12887573242188,\n",
       "  134.9632568359375,\n",
       "  146.29856872558594,\n",
       "  107.34227752685547,\n",
       "  125.92852783203125,\n",
       "  161.89727783203125,\n",
       "  140.03428649902344,\n",
       "  114.84563446044922,\n",
       "  159.24981689453125,\n",
       "  135.89480590820312,\n",
       "  115.90459442138672,\n",
       "  156.3788604736328,\n",
       "  135.69859313964844,\n",
       "  129.20986938476562,\n",
       "  141.76695251464844,\n",
       "  119.91279602050781,\n",
       "  145.945068359375,\n",
       "  132.18276977539062,\n",
       "  118.58522033691406,\n",
       "  150.34263610839844,\n",
       "  135.13938903808594,\n",
       "  123.2345962524414,\n",
       "  144.8899688720703,\n",
       "  129.6240692138672,\n",
       "  143.11936950683594,\n",
       "  110.12503051757812,\n",
       "  120.69116973876953,\n",
       "  131.2006072998047,\n",
       "  109.02838134765625,\n",
       "  119.87908172607422,\n",
       "  128.9969024658203,\n",
       "  111.89606475830078,\n",
       "  126.1850814819336,\n",
       "  111.3669204711914,\n",
       "  124.18157196044922,\n",
       "  110.1156997680664,\n",
       "  127.28569793701172,\n",
       "  158.64175415039062,\n",
       "  146.25582885742188,\n",
       "  157.57272338867188,\n",
       "  142.28578186035156,\n",
       "  154.78329467773438,\n",
       "  140.95565795898438,\n",
       "  153.563720703125,\n",
       "  139.72052001953125,\n",
       "  152.49819946289062,\n",
       "  139.5905303955078,\n",
       "  138.674072265625,\n",
       "  150.50914001464844,\n",
       "  175.84642028808594,\n",
       "  186.2951202392578,\n",
       "  178.11294555664062,\n",
       "  194.99929809570312,\n",
       "  203.94424438476562,\n",
       "  187.11773681640625,\n",
       "  197.6676483154297,\n",
       "  97.80564880371094,\n",
       "  88.40885925292969,\n",
       "  79.88483428955078,\n",
       "  97.25932312011719,\n",
       "  70.04550170898438,\n",
       "  91.60533142089844,\n",
       "  81.67549133300781,\n",
       "  71.43785095214844,\n",
       "  121.35330200195312,\n",
       "  110.62220001220703,\n",
       "  124.89067077636719,\n",
       "  111.00025939941406,\n",
       "  122.73576354980469,\n",
       "  111.63835906982422,\n",
       "  122.78900146484375,\n",
       "  112.56291961669922,\n",
       "  124.12914276123047,\n",
       "  115.0601577758789,\n",
       "  126.5003662109375,\n",
       "  117.51244354248047,\n",
       "  145.00326538085938,\n",
       "  137.42996215820312,\n",
       "  146.40928649902344,\n",
       "  137.53652954101562,\n",
       "  145.05816650390625,\n",
       "  137.43081665039062,\n",
       "  144.2652587890625,\n",
       "  140.3979034423828,\n",
       "  217.02532958984375,\n",
       "  208.3828582763672,\n",
       "  225.82334899902344,\n",
       "  216.28150939941406,\n",
       "  226.31419372558594,\n",
       "  235.33279418945312,\n",
       "  40.03012466430664,\n",
       "  50.737953186035156,\n",
       "  44.58686447143555,\n",
       "  59.656558990478516,\n",
       "  52.84809494018555,\n",
       "  62.42593765258789,\n",
       "  143.8323974609375,\n",
       "  137.5202178955078,\n",
       "  144.73167419433594,\n",
       "  138.5338134765625,\n",
       "  145.49977111816406,\n",
       "  129.12557983398438,\n",
       "  123.3823013305664,\n",
       "  117.57316589355469,\n",
       "  130.51222229003906,\n",
       "  123.55984497070312,\n",
       "  34.347721099853516,\n",
       "  25.500076293945312,\n",
       "  18.233633041381836,\n",
       "  31.77898406982422,\n",
       "  9.474644660949707,\n",
       "  239.779052734375,\n",
       "  246.09046936035156,\n",
       "  239.04971313476562,\n",
       "  245.9032440185547,\n",
       "  240.48013305664062],\n",
       " 'dp_U': [0.10396958887577057,\n",
       "  0.09521439671516418,\n",
       "  0.11500038206577301,\n",
       "  0.20658190548419952,\n",
       "  0.22284521162509918,\n",
       "  0.21311061084270477,\n",
       "  0.2732165455818176,\n",
       "  0.31575843691825867,\n",
       "  0.4118849039077759,\n",
       "  0.40298134088516235,\n",
       "  0.4522867202758789,\n",
       "  0.5832812190055847,\n",
       "  0.6059700846672058,\n",
       "  0.6420809626579285,\n",
       "  0.988430380821228,\n",
       "  0.21053878962993622,\n",
       "  0.6609972715377808,\n",
       "  0.38516607880592346,\n",
       "  0.9090552926063538,\n",
       "  0.6090379953384399,\n",
       "  0.369001567363739,\n",
       "  0.9767354726791382,\n",
       "  0.7014941573143005,\n",
       "  0.2376064956188202,\n",
       "  0.8498840928077698,\n",
       "  0.20954470336437225,\n",
       "  0.7706901431083679,\n",
       "  0.8120887875556946,\n",
       "  0.8607836961746216,\n",
       "  0.8855287432670593,\n",
       "  0.7501196265220642,\n",
       "  0.5914233922958374,\n",
       "  0.6236558556556702,\n",
       "  0.4590929448604584,\n",
       "  0.46843674778938293,\n",
       "  0.36264631152153015,\n",
       "  0.3458409011363983,\n",
       "  0.25592175126075745,\n",
       "  0.7663120031356812,\n",
       "  0.8243812322616577,\n",
       "  0.7959498763084412,\n",
       "  0.6739370822906494,\n",
       "  0.6242347955703735,\n",
       "  0.49445679783821106,\n",
       "  0.5108809471130371,\n",
       "  0.3941669166088104,\n",
       "  0.3986954987049103,\n",
       "  0.31092166900634766,\n",
       "  0.19706913828849792,\n",
       "  0.27294012904167175,\n",
       "  0.19830290973186493,\n",
       "  0.3768177628517151,\n",
       "  0.1165420189499855,\n",
       "  0.48112261295318604,\n",
       "  0.8541167378425598,\n",
       "  0.4233470559120178,\n",
       "  0.7115480899810791,\n",
       "  0.027470532804727554,\n",
       "  0.2726478576660156,\n",
       "  0.5073794722557068,\n",
       "  0.0229935385286808,\n",
       "  0.8288975954055786,\n",
       "  0.2795853614807129,\n",
       "  0.5554910898208618,\n",
       "  0.9002518057823181,\n",
       "  0.010771378874778748,\n",
       "  0.060072675347328186,\n",
       "  0.24544045329093933,\n",
       "  0.225733682513237,\n",
       "  0.387499064207077,\n",
       "  0.4042123258113861,\n",
       "  0.5871077179908752,\n",
       "  0.6346272826194763,\n",
       "  0.7249618172645569,\n",
       "  0.7726898789405823,\n",
       "  0.9008888602256775,\n",
       "  0.9676884412765503,\n",
       "  0.10286025702953339,\n",
       "  0.12076661735773087,\n",
       "  0.19296947121620178,\n",
       "  0.3066841661930084,\n",
       "  0.3811955749988556,\n",
       "  0.508297324180603,\n",
       "  0.6929869651794434,\n",
       "  0.8492205142974854,\n",
       "  0.09695430845022202,\n",
       "  0.10246169567108154,\n",
       "  0.2398361712694168,\n",
       "  0.271262526512146,\n",
       "  0.47538813948631287,\n",
       "  0.7383146286010742,\n",
       "  0.06384000182151794,\n",
       "  0.24605150520801544,\n",
       "  0.6582264304161072,\n",
       "  0.9003093242645264,\n",
       "  0.660971462726593,\n",
       "  0.7791639566421509,\n",
       "  0.977262020111084,\n",
       "  0.3512306809425354,\n",
       "  0.3749273717403412,\n",
       "  0.47106462717056274,\n",
       "  0.4882785677909851,\n",
       "  0.6202046871185303,\n",
       "  0.5954104661941528,\n",
       "  0.6964985132217407,\n",
       "  0.5324297547340393,\n",
       "  0.5243067145347595,\n",
       "  0.08216382563114166,\n",
       "  0.5689014792442322,\n",
       "  0.58026123046875,\n",
       "  0.10007049143314362,\n",
       "  0.5383374691009521,\n",
       "  0.9560258984565735,\n",
       "  0.6298524141311646,\n",
       "  0.7436730861663818,\n",
       "  0.7019110321998596,\n",
       "  0.8579039573669434],\n",
       " 'image_id': 109229,\n",
       " 'dp_V': [0.673243522644043,\n",
       "  0.33541035652160645,\n",
       "  0.5203165411949158,\n",
       "  0.35261934995651245,\n",
       "  0.7065007090568542,\n",
       "  0.5227487683296204,\n",
       "  0.1967514008283615,\n",
       "  0.4545399844646454,\n",
       "  0.683081865310669,\n",
       "  0.2600952088832855,\n",
       "  0.4436020851135254,\n",
       "  0.6609233021736145,\n",
       "  0.19042669236660004,\n",
       "  0.42805016040802,\n",
       "  0.9037810564041138,\n",
       "  0.8149980902671814,\n",
       "  0.7443781495094299,\n",
       "  0.7010350227355957,\n",
       "  0.7213871479034424,\n",
       "  0.6267474889755249,\n",
       "  0.5568214058876038,\n",
       "  0.5419858694076538,\n",
       "  0.475896418094635,\n",
       "  0.35682326555252075,\n",
       "  0.26045164465904236,\n",
       "  0.11865442246198654,\n",
       "  0.8247714042663574,\n",
       "  0.6689192056655884,\n",
       "  0.5314655900001526,\n",
       "  0.4054678678512573,\n",
       "  0.641764223575592,\n",
       "  0.8902504444122314,\n",
       "  0.43049710988998413,\n",
       "  0.7654825448989868,\n",
       "  0.3721975088119507,\n",
       "  0.7082868814468384,\n",
       "  0.3343633711338043,\n",
       "  0.6816092729568481,\n",
       "  0.20442044734954834,\n",
       "  0.38220998644828796,\n",
       "  0.5095045566558838,\n",
       "  0.9111863374710083,\n",
       "  0.4943292737007141,\n",
       "  0.8874513506889343,\n",
       "  0.3750697374343872,\n",
       "  0.7643341422080994,\n",
       "  0.3644683361053467,\n",
       "  0.6318759918212891,\n",
       "  0.5266515016555786,\n",
       "  0.31726202368736267,\n",
       "  0.9605333209037781,\n",
       "  0.8557084202766418,\n",
       "  0.6550031900405884,\n",
       "  0.8170424699783325,\n",
       "  0.6771722435951233,\n",
       "  0.5641355514526367,\n",
       "  0.5965211391448975,\n",
       "  0.7266939282417297,\n",
       "  0.6468043327331543,\n",
       "  0.5830928087234497,\n",
       "  0.3726004362106323,\n",
       "  0.6737321019172668,\n",
       "  0.2909644842147827,\n",
       "  0.3551488518714905,\n",
       "  0.4392108917236328,\n",
       "  0.4252019226551056,\n",
       "  0.8130914568901062,\n",
       "  0.31382837891578674,\n",
       "  0.7635629773139954,\n",
       "  0.38696086406707764,\n",
       "  0.7330319285392761,\n",
       "  0.4292769730091095,\n",
       "  0.6676951050758362,\n",
       "  0.40933758020401,\n",
       "  0.6847296357154846,\n",
       "  0.4471377730369568,\n",
       "  0.5918831825256348,\n",
       "  0.23277926445007324,\n",
       "  0.3129092752933502,\n",
       "  0.7537592053413391,\n",
       "  0.4610496759414673,\n",
       "  0.7349002957344055,\n",
       "  0.4449903666973114,\n",
       "  0.7066596150398254,\n",
       "  0.5431756973266602,\n",
       "  0.33825746178627014,\n",
       "  0.577465832233429,\n",
       "  0.2234586477279663,\n",
       "  0.48596686124801636,\n",
       "  0.366477906703949,\n",
       "  0.232573002576828,\n",
       "  0.5198234915733337,\n",
       "  0.6040653586387634,\n",
       "  0.230113685131073,\n",
       "  0.2969803512096405,\n",
       "  0.5134238004684448,\n",
       "  0.5859607458114624,\n",
       "  0.6186929941177368,\n",
       "  0.5062532424926758,\n",
       "  0.7005754113197327,\n",
       "  0.5379146337509155,\n",
       "  0.750704288482666,\n",
       "  0.5213170051574707,\n",
       "  0.6638704538345337,\n",
       "  0.7725024819374084,\n",
       "  0.503774881362915,\n",
       "  0.6913444995880127,\n",
       "  0.2846659719944,\n",
       "  0.300476610660553,\n",
       "  0.4212814271450043,\n",
       "  0.44209417700767517,\n",
       "  0.7661377191543579,\n",
       "  0.4883825480937958,\n",
       "  0.2372022569179535,\n",
       "  0.17207083106040955,\n",
       "  0.463548481464386,\n",
       "  0.6975933909416199],\n",
       " 'bbox': [109.3, 296.03, 243.06, 291.95],\n",
       " 'category_id': 1,\n",
       " 'dp_y': [58.59764099121094,\n",
       "  58.93833923339844,\n",
       "  60.540531158447266,\n",
       "  73.58451080322266,\n",
       "  77.5483627319336,\n",
       "  78.3914566040039,\n",
       "  81.59009552001953,\n",
       "  91.77135467529297,\n",
       "  97.12396240234375,\n",
       "  101.28472137451172,\n",
       "  108.95051574707031,\n",
       "  117.59032440185547,\n",
       "  119.7553939819336,\n",
       "  128.3593292236328,\n",
       "  8.81949520111084,\n",
       "  9.684825897216797,\n",
       "  16.46109390258789,\n",
       "  19.965497970581055,\n",
       "  20.893535614013672,\n",
       "  27.807777404785156,\n",
       "  30.053043365478516,\n",
       "  31.900571823120117,\n",
       "  37.0329475402832,\n",
       "  39.78467559814453,\n",
       "  46.71672821044922,\n",
       "  49.00772476196289,\n",
       "  131.9232635498047,\n",
       "  136.6204071044922,\n",
       "  141.8512725830078,\n",
       "  144.1929168701172,\n",
       "  147.86009216308594,\n",
       "  154.00473022460938,\n",
       "  156.88711547851562,\n",
       "  164.17552185058594,\n",
       "  167.9134979248047,\n",
       "  174.3022003173828,\n",
       "  179.67474365234375,\n",
       "  184.10903930664062,\n",
       "  132.8052978515625,\n",
       "  137.85147094726562,\n",
       "  143.78799438476562,\n",
       "  146.73388671875,\n",
       "  154.12088012695312,\n",
       "  156.41441345214844,\n",
       "  164.59881591796875,\n",
       "  165.8808135986328,\n",
       "  175.08847045898438,\n",
       "  175.39166259765625,\n",
       "  185.02342224121094,\n",
       "  185.83740234375,\n",
       "  60.94792938232422,\n",
       "  64.81233978271484,\n",
       "  69.47020721435547,\n",
       "  70.29354095458984,\n",
       "  74.77352142333984,\n",
       "  75.60379028320312,\n",
       "  80.25566864013672,\n",
       "  57.022308349609375,\n",
       "  62.17892837524414,\n",
       "  66.21749114990234,\n",
       "  66.33970642089844,\n",
       "  69.06053924560547,\n",
       "  73.23491668701172,\n",
       "  75.56178283691406,\n",
       "  77.26317596435547,\n",
       "  187.56898498535156,\n",
       "  190.08975219726562,\n",
       "  196.4235076904297,\n",
       "  200.52655029296875,\n",
       "  206.18511962890625,\n",
       "  211.72596740722656,\n",
       "  217.04295349121094,\n",
       "  222.94549560546875,\n",
       "  228.68870544433594,\n",
       "  234.2267303466797,\n",
       "  241.03903198242188,\n",
       "  244.71705627441406,\n",
       "  191.75157165527344,\n",
       "  194.50448608398438,\n",
       "  199.956298828125,\n",
       "  204.28640747070312,\n",
       "  209.63507080078125,\n",
       "  215.02639770507812,\n",
       "  219.5654296875,\n",
       "  226.61404418945312,\n",
       "  80.13024139404297,\n",
       "  80.97888946533203,\n",
       "  84.46676635742188,\n",
       "  86.84207153320312,\n",
       "  90.44960021972656,\n",
       "  90.90145874023438,\n",
       "  62.08325958251953,\n",
       "  64.4947509765625,\n",
       "  68.82061004638672,\n",
       "  68.82573699951172,\n",
       "  73.06726837158203,\n",
       "  76.66157531738281,\n",
       "  233.13075256347656,\n",
       "  235.02279663085938,\n",
       "  239.32830810546875,\n",
       "  242.8240966796875,\n",
       "  245.76710510253906,\n",
       "  249.10601806640625,\n",
       "  250.14511108398438,\n",
       "  252.38839721679688,\n",
       "  253.6482696533203,\n",
       "  254.1845245361328,\n",
       "  56.85160446166992,\n",
       "  57.57823181152344,\n",
       "  59.93309783935547,\n",
       "  60.95003890991211,\n",
       "  61.49998474121094,\n",
       "  95.95074462890625,\n",
       "  97.3560562133789,\n",
       "  102.50047302246094,\n",
       "  104.30279541015625,\n",
       "  109.16085052490234],\n",
       " 'id': 442795}"
      ]
     },
     "execution_count": 9,
     "metadata": {},
     "output_type": "execute_result"
    }
   ],
   "source": [
    "person_data_df['annotations'].iloc[0][0]"
   ]
  },
  {
   "cell_type": "code",
   "execution_count": 10,
   "metadata": {},
   "outputs": [
    {
     "data": {
      "text/plain": [
       "{'segmentation': [[239.97,\n",
       "   260.24,\n",
       "   222.04,\n",
       "   270.49,\n",
       "   199.84,\n",
       "   253.41,\n",
       "   213.5,\n",
       "   227.79,\n",
       "   259.62,\n",
       "   200.46,\n",
       "   274.13,\n",
       "   202.17,\n",
       "   277.55,\n",
       "   210.71,\n",
       "   249.37,\n",
       "   253.41,\n",
       "   237.41,\n",
       "   264.51,\n",
       "   242.54,\n",
       "   261.95,\n",
       "   228.87,\n",
       "   271.34]],\n",
       " 'area': 2765.1486500000005,\n",
       " 'iscrowd': 0,\n",
       " 'image_id': 558840,\n",
       " 'bbox': [199.84, 200.46, 77.71, 70.88],\n",
       " 'category_id': 58,\n",
       " 'id': 156}"
      ]
     },
     "execution_count": 10,
     "metadata": {},
     "output_type": "execute_result"
    }
   ],
   "source": [
    "data_df['annotations'].iloc[0][0]"
   ]
  },
  {
   "cell_type": "markdown",
   "metadata": {},
   "source": [
    "# Generating classes"
   ]
  },
  {
   "cell_type": "code",
   "execution_count": 11,
   "metadata": {},
   "outputs": [],
   "source": [
    "COCO_CLASSES = ['person', 'bicycle', 'car', 'motorcycle', 'airplane', 'bus',\n",
    "                'train', 'truck', 'boat', 'traffic light', 'fire hydrant',\n",
    "                'stop sign', 'parking meter', 'bench', 'bird', 'cat', 'dog',\n",
    "                'horse', 'sheep', 'cow', 'elephant', 'bear', 'zebra', 'giraffe',\n",
    "                'backpack', 'umbrella', 'handbag', 'tie', 'suitcase', 'frisbee',\n",
    "                'skis', 'snowboard', 'sports ball', 'kite', 'baseball bat',\n",
    "                'baseball glove', 'skateboard', 'surfboard', 'tennis racket',\n",
    "                'bottle', 'wine glass', 'cup', 'fork', 'knife', 'spoon', 'bowl',\n",
    "                'banana', 'apple', 'sandwich', 'orange', 'broccoli', 'carrot',\n",
    "                'hot dog', 'pizza', 'donut', 'cake', 'chair', 'couch',\n",
    "                'potted plant', 'bed', 'dining table', 'toilet', 'tv', 'laptop',\n",
    "                'mouse', 'remote', 'keyboard', 'cell phone', 'microwave', 'oven',\n",
    "                'toaster', 'sink', 'refrigerator', 'book', 'clock', 'vase',\n",
    "                'scissors', 'teddy bear', 'hair drier', 'toothbrush']\n",
    "                \n",
    "# THE NEW CUSTOM CLASSES CONDENSE THE LEFT-RIGHT IN ONLY ONE CAT\n",
    "CUSTOM_CLASSES = ['person', 'bicycle', 'cat', 'dog', 'backpack', 'umbrella', 'handbag', 'suitcase', \n",
    "                'sports ball', 'baseball bat', 'skateboard', 'tennis racket', 'bottle', 'wine glass', \n",
    "                'sandwich', 'chair', 'laptop', 'cell phone', 'book', 'clock', 'scissors', 'teddy bear',\n",
    "                'torso', 'hand', 'foot', 'upleg', 'lowleg', 'uparm', 'lowarm', 'head']\n",
    "\n",
    "# THE NEW SMALL CUSTOM CLASSES CONDENSE THE LEFT-RIGHT IN ONLY ONE CAT\n",
    "SMALL_CUSTOM_CLASSES = ['bicycle', 'cat', 'dog', 'backpack', 'handbag', 'suitcase', \n",
    "                        'foot', 'upleg', 'lowleg']\n",
    "            \n",
    "CATEGORIES = [{'supercategory': 'person', 'id': 1, 'name': 'person'},\n",
    "            {'supercategory': 'vehicle', 'id': 2, 'name': 'bicycle'},\n",
    "            {'supercategory': 'vehicle', 'id': 3, 'name': 'car'},\n",
    "            {'supercategory': 'vehicle', 'id': 4, 'name': 'motorcycle'},\n",
    "            {'supercategory': 'vehicle', 'id': 5, 'name': 'airplane'},\n",
    "            {'supercategory': 'vehicle', 'id': 6, 'name': 'bus'},\n",
    "            {'supercategory': 'vehicle', 'id': 7, 'name': 'train'},\n",
    "            {'supercategory': 'vehicle', 'id': 8, 'name': 'truck'},\n",
    "            {'supercategory': 'vehicle', 'id': 9, 'name': 'boat'},\n",
    "            {'supercategory': 'outdoor', 'id': 10, 'name': 'traffic light'},\n",
    "            {'supercategory': 'outdoor', 'id': 11, 'name': 'fire hydrant'},\n",
    "            {'supercategory': 'outdoor', 'id': 13, 'name': 'stop sign'},\n",
    "            {'supercategory': 'outdoor', 'id': 14, 'name': 'parking meter'},\n",
    "            {'supercategory': 'outdoor', 'id': 15, 'name': 'bench'},\n",
    "            {'supercategory': 'animal', 'id': 16, 'name': 'bird'},\n",
    "            {'supercategory': 'animal', 'id': 17, 'name': 'cat'},\n",
    "            {'supercategory': 'animal', 'id': 18, 'name': 'dog'},\n",
    "            {'supercategory': 'animal', 'id': 19, 'name': 'horse'},\n",
    "            {'supercategory': 'animal', 'id': 20, 'name': 'sheep'},\n",
    "            {'supercategory': 'animal', 'id': 21, 'name': 'cow'},\n",
    "            {'supercategory': 'animal', 'id': 22, 'name': 'elephant'},\n",
    "            {'supercategory': 'animal', 'id': 23, 'name': 'bear'},\n",
    "            {'supercategory': 'animal', 'id': 24, 'name': 'zebra'},\n",
    "            {'supercategory': 'animal', 'id': 25, 'name': 'giraffe'},\n",
    "            {'supercategory': 'accessory', 'id': 27, 'name': 'backpack'},\n",
    "            {'supercategory': 'accessory', 'id': 28, 'name': 'umbrella'},\n",
    "            {'supercategory': 'accessory', 'id': 31, 'name': 'handbag'},\n",
    "            {'supercategory': 'accessory', 'id': 32, 'name': 'tie'},\n",
    "            {'supercategory': 'accessory', 'id': 33, 'name': 'suitcase'},\n",
    "            {'supercategory': 'sports', 'id': 34, 'name': 'frisbee'},\n",
    "            {'supercategory': 'sports', 'id': 35, 'name': 'skis'},\n",
    "            {'supercategory': 'sports', 'id': 36, 'name': 'snowboard'},\n",
    "            {'supercategory': 'sports', 'id': 37, 'name': 'sports ball'},\n",
    "            {'supercategory': 'sports', 'id': 38, 'name': 'kite'},\n",
    "            {'supercategory': 'sports', 'id': 39, 'name': 'baseball bat'},\n",
    "            {'supercategory': 'sports', 'id': 40, 'name': 'baseball glove'},\n",
    "            {'supercategory': 'sports', 'id': 41, 'name': 'skateboard'},\n",
    "            {'supercategory': 'sports', 'id': 42, 'name': 'surfboard'},\n",
    "            {'supercategory': 'sports', 'id': 43, 'name': 'tennis racket'},\n",
    "            {'supercategory': 'kitchen', 'id': 44, 'name': 'bottle'},\n",
    "            {'supercategory': 'kitchen', 'id': 46, 'name': 'wine glass'},\n",
    "            {'supercategory': 'kitchen', 'id': 47, 'name': 'cup'},\n",
    "            {'supercategory': 'kitchen', 'id': 48, 'name': 'fork'},\n",
    "            {'supercategory': 'kitchen', 'id': 49, 'name': 'knife'},\n",
    "            {'supercategory': 'kitchen', 'id': 50, 'name': 'spoon'},\n",
    "            {'supercategory': 'kitchen', 'id': 51, 'name': 'bowl'},\n",
    "            {'supercategory': 'food', 'id': 52, 'name': 'banana'},\n",
    "            {'supercategory': 'food', 'id': 53, 'name': 'apple'},\n",
    "            {'supercategory': 'food', 'id': 54, 'name': 'sandwich'},\n",
    "            {'supercategory': 'food', 'id': 55, 'name': 'orange'},\n",
    "            {'supercategory': 'food', 'id': 56, 'name': 'broccoli'},\n",
    "            {'supercategory': 'food', 'id': 57, 'name': 'carrot'},\n",
    "            {'supercategory': 'food', 'id': 58, 'name': 'hot dog'},\n",
    "            {'supercategory': 'food', 'id': 59, 'name': 'pizza'},\n",
    "            {'supercategory': 'food', 'id': 60, 'name': 'donut'},\n",
    "            {'supercategory': 'food', 'id': 61, 'name': 'cake'},\n",
    "            {'supercategory': 'furniture', 'id': 62, 'name': 'chair'},\n",
    "            {'supercategory': 'furniture', 'id': 63, 'name': 'couch'},\n",
    "            {'supercategory': 'furniture', 'id': 64, 'name': 'potted plant'},\n",
    "            {'supercategory': 'furniture', 'id': 65, 'name': 'bed'},\n",
    "            {'supercategory': 'furniture', 'id': 67, 'name': 'dining table'},\n",
    "            {'supercategory': 'furniture', 'id': 70, 'name': 'toilet'},\n",
    "            {'supercategory': 'electronic', 'id': 72, 'name': 'tv'},\n",
    "            {'supercategory': 'electronic', 'id': 73, 'name': 'laptop'},\n",
    "            {'supercategory': 'electronic', 'id': 74, 'name': 'mouse'},\n",
    "            {'supercategory': 'electronic', 'id': 75, 'name': 'remote'},\n",
    "            {'supercategory': 'electronic', 'id': 76, 'name': 'keyboard'},\n",
    "            {'supercategory': 'electronic', 'id': 77, 'name': 'cell phone'},\n",
    "            {'supercategory': 'appliance', 'id': 78, 'name': 'microwave'},\n",
    "            {'supercategory': 'appliance', 'id': 79, 'name': 'oven'},\n",
    "            {'supercategory': 'appliance', 'id': 80, 'name': 'toaster'},\n",
    "            {'supercategory': 'appliance', 'id': 81, 'name': 'sink'},\n",
    "            {'supercategory': 'appliance', 'id': 82, 'name': 'refrigerator'},\n",
    "            {'supercategory': 'indoor', 'id': 84, 'name': 'book'},\n",
    "            {'supercategory': 'indoor', 'id': 85, 'name': 'clock'},\n",
    "            {'supercategory': 'indoor', 'id': 86, 'name': 'vase'},\n",
    "            {'supercategory': 'indoor', 'id': 87, 'name': 'scissors'},\n",
    "            {'supercategory': 'indoor', 'id': 88, 'name': 'teddy bear'},\n",
    "            {'supercategory': 'indoor', 'id': 89, 'name': 'hair drier'},\n",
    "            {'supercategory': 'indoor', 'id': 90, 'name': 'toothbrush'}]\n",
    "\n",
    "FROM_COCO_CLASSES = ['person', 'bicycle', 'cat', 'dog', 'backpack', 'umbrella', 'handbag', 'suitcase', \n",
    "                'sports ball', 'baseball bat', 'skateboard', 'tennis racket', 'bottle', 'wine glass', \n",
    "                'sandwich', 'chair', 'laptop', 'cell phone', 'book', 'clock', 'scissors', 'teddy bear']\n",
    "\n",
    "EXTENDED_DENSEPOSE_CLASSES = ['torso', 'hand1', 'hand2', \n",
    "                    'foot1', 'foot2', 'upleg1', 'upleg2', \n",
    "                    'lowleg1', 'lowleg2','uparm1', 'uparm2', \n",
    "                    'lowarm1','lowarm2', 'head']\n",
    "\n",
    "DENSEPOSE_CLASSES = ['torso', 'hand',  \n",
    "                        'foot', 'upleg', \n",
    "                        'lowleg', 'uparm', \n",
    "                        'lowarm', 'head']\n",
    "\n",
    "# realates image ID with category\n",
    "COCO_LABEL_MAP = {1: 1, 2: 2, 3: 3, 4: 4, 5: 5, 6: 6, 7: 7, 8: 8,\n",
    "                  9: 9, 10: 10, 11: 11, 13: 12, 14: 13, 15: 14, 16: 15, 17: 16,\n",
    "                  18: 17, 19: 18, 20: 19, 21: 20, 22: 21, 23: 22, 24: 23, 25: 24,\n",
    "                  27: 25, 28: 26, 31: 27, 32: 28, 33: 29, 34: 30, 35: 31, 36: 32,\n",
    "                  37: 33, 38: 34, 39: 35, 40: 36, 41: 37, 42: 38, 43: 39, 44: 40,\n",
    "                  46: 41, 47: 42, 48: 43, 49: 44, 50: 45, 51: 46, 52: 47, 53: 48,\n",
    "                  54: 49, 55: 50, 56: 51, 57: 52, 58: 53, 59: 54, 60: 55, 61: 56,\n",
    "                  62: 57, 63: 58, 64: 59, 65: 60, 67: 61, 70: 62, 72: 63, 73: 64,\n",
    "                  74: 65, 75: 66, 76: 67, 77: 68, 78: 69, 79: 70, 80: 71, 81: 72,\n",
    "                  82: 73, 84: 74, 85: 75, 86: 76, 87: 77, 88: 78, 89: 79, 90: 80}\n",
    "\n",
    "# this map relates body part position to unique identifier (avoiding left-right problem)\n",
    "PERSON_LABEL_MAP = {0:0, 1: 1, 2: 1, \n",
    "                    3: 2, 4: 2, 5: 3, 6: 3, \n",
    "                    7: 4, 8: 4, 9: 5, 10: 5, \n",
    "                    11: 6, 12: 6, 13: 7}"
   ]
  },
  {
   "cell_type": "code",
   "execution_count": 12,
   "metadata": {},
   "outputs": [],
   "source": [
    "REVERSE_COCO_LABEL_MAP = {}\n",
    "for key, value in COCO_LABEL_MAP.items():\n",
    "    REVERSE_COCO_LABEL_MAP[value] = key"
   ]
  },
  {
   "cell_type": "markdown",
   "metadata": {},
   "source": [
    "# working with categories"
   ]
  },
  {
   "cell_type": "code",
   "execution_count": 13,
   "metadata": {},
   "outputs": [
    {
     "data": {
      "text/plain": [
       "[{'supercategory': 'vehicle', 'id': 2, 'name': 'bicycle'},\n",
       " {'supercategory': 'animal', 'id': 17, 'name': 'cat'},\n",
       " {'supercategory': 'animal', 'id': 18, 'name': 'dog'},\n",
       " {'supercategory': 'accessory', 'id': 27, 'name': 'backpack'},\n",
       " {'supercategory': 'accessory', 'id': 31, 'name': 'handbag'},\n",
       " {'supercategory': 'accessory', 'id': 33, 'name': 'suitcase'}]"
      ]
     },
     "execution_count": 13,
     "metadata": {},
     "output_type": "execute_result"
    }
   ],
   "source": [
    "# creates the categories list from COCO selected classes\n",
    "custom_categories = []\n",
    "for cat_data in data_df['categories'][0]:\n",
    "    if cat_data['name'] in SMALL_CUSTOM_CLASSES:\n",
    "        custom_categories.append(cat_data)\n",
    "custom_categories"
   ]
  },
  {
   "cell_type": "code",
   "execution_count": 14,
   "metadata": {},
   "outputs": [
    {
     "data": {
      "text/plain": [
       "[{'supercategory': 'vehicle', 'id': 2, 'name': 'bicycle'},\n",
       " {'supercategory': 'animal', 'id': 17, 'name': 'cat'},\n",
       " {'supercategory': 'animal', 'id': 18, 'name': 'dog'},\n",
       " {'supercategory': 'accessory', 'id': 27, 'name': 'backpack'},\n",
       " {'supercategory': 'accessory', 'id': 31, 'name': 'handbag'},\n",
       " {'supercategory': 'accessory', 'id': 33, 'name': 'suitcase'},\n",
       " {'supercategory': 'person', 'id': 91, 'name': 'foot'},\n",
       " {'supercategory': 'person', 'id': 92, 'name': 'upleg'},\n",
       " {'supercategory': 'person', 'id': 93, 'name': 'lowleg'}]"
      ]
     },
     "execution_count": 14,
     "metadata": {},
     "output_type": "execute_result"
    }
   ],
   "source": [
    "# Adds hupan parts selected classes\n",
    "i = 91\n",
    "for nc in DENSEPOSE_CLASSES:\n",
    "    if nc in SMALL_CUSTOM_CLASSES:\n",
    "        c = {'supercategory': 'person', 'id': i, 'name': nc}\n",
    "        custom_categories.append(c)\n",
    "        i +=1\n",
    "custom_categories"
   ]
  },
  {
   "cell_type": "code",
   "execution_count": 15,
   "metadata": {},
   "outputs": [
    {
     "name": "stdout",
     "output_type": "stream",
     "text": [
      "[{'supercategory': 'vehicle', 'id': 2, 'name': 'bicycle'}, {'supercategory': 'animal', 'id': 17, 'name': 'cat'}, {'supercategory': 'animal', 'id': 18, 'name': 'dog'}, {'supercategory': 'accessory', 'id': 27, 'name': 'backpack'}, {'supercategory': 'accessory', 'id': 31, 'name': 'handbag'}, {'supercategory': 'accessory', 'id': 33, 'name': 'suitcase'}, {'supercategory': 'person', 'id': 91, 'name': 'foot'}, {'supercategory': 'person', 'id': 92, 'name': 'upleg'}, {'supercategory': 'person', 'id': 93, 'name': 'lowleg'}]\n",
      "\n",
      "9 - 9\n",
      "{0: 2, 1: 17, 2: 18, 3: 27, 4: 31, 5: 33, 6: 91, 7: 92, 8: 93}\n",
      "{0: 'bicycle', 1: 'cat', 2: 'dog', 3: 'backpack', 4: 'handbag', 5: 'suitcase', 6: 'foot', 7: 'upleg', 8: 'lowleg'}\n",
      "['bicycle', 'cat', 'dog', 'backpack', 'handbag', 'suitcase', 'foot', 'upleg', 'lowleg']\n"
     ]
    }
   ],
   "source": [
    "# this is the list of the new categories\n",
    "print(custom_categories)\n",
    "print()\n",
    "print(len(SMALL_CUSTOM_CLASSES), \"-\", len(custom_categories))\n",
    "\n",
    "cc_list = [0]*(len(SMALL_CUSTOM_CLASSES))\n",
    "CUSTOM_LABEL_MAP = {}\n",
    "CUSTOM_ID_MAP = {}\n",
    "\n",
    "for i, cc in enumerate(custom_categories):\n",
    "    CUSTOM_ID_MAP[i] = cc['id']\n",
    "    CUSTOM_LABEL_MAP[i] = cc['name']\n",
    "    cc_list[i] = cc['name']\n",
    "\n",
    "# the list of the names of the categories\n",
    "print(CUSTOM_ID_MAP)\n",
    "print(CUSTOM_LABEL_MAP)\n",
    "print(cc_list)"
   ]
  },
  {
   "cell_type": "code",
   "execution_count": 16,
   "metadata": {},
   "outputs": [
    {
     "name": "stdout",
     "output_type": "stream",
     "text": [
      "{'supercategory': 'vehicle', 'id': 2, 'name': 'bicycle'} bicycle 2\n",
      "{'supercategory': 'animal', 'id': 17, 'name': 'cat'} cat 17\n",
      "{'supercategory': 'animal', 'id': 18, 'name': 'dog'} dog 18\n",
      "{'supercategory': 'accessory', 'id': 27, 'name': 'backpack'} backpack 27\n",
      "{'supercategory': 'accessory', 'id': 31, 'name': 'handbag'} handbag 31\n",
      "{'supercategory': 'accessory', 'id': 33, 'name': 'suitcase'} suitcase 33\n",
      "[2, 17, 18, 27, 31, 33, 0, 0, 0]\n",
      "['bicycle', 'cat', 'dog', 'backpack', 'handbag', 'suitcase', 'foot', 'upleg', 'lowleg']\n"
     ]
    }
   ],
   "source": [
    "coco_category_id_list = [0]*len(cc_list)\n",
    "for cat in data_df['categories'][0]:\n",
    "    if cat['name'] in cc_list:\n",
    "        print(cat, cat['name'], cat['id'])\n",
    "        pos = cc_list.index(cat['name'])\n",
    "        coco_category_id_list[pos] = cat['id']\n",
    "\n",
    "# this is the list of the COCO ids of the new categories (when exists)\n",
    "print(coco_category_id_list)\n",
    "print(cc_list)"
   ]
  },
  {
   "cell_type": "code",
   "execution_count": 17,
   "metadata": {},
   "outputs": [
    {
     "name": "stdout",
     "output_type": "stream",
     "text": [
      "[2, 17, 18, 27, 31, 33, 0, 0, 0]\n"
     ]
    }
   ],
   "source": [
    "# this variable has the coco category id in the position of the custom category\n",
    "custom_category_coco_category = [0]*len(cc_list)\n",
    "for i, cat_name in enumerate(COCO_CLASSES):\n",
    "    if cat_name in cc_list:\n",
    "        cc_pos = cc_list.index(cat_name)\n",
    "        coco_cat_id = REVERSE_COCO_LABEL_MAP[i+1]\n",
    "        custom_category_coco_category[cc_pos] = coco_cat_id\n",
    "        # print(i, cat_name, cc_pos, coco_cat_id)\n",
    "\n",
    "print(custom_category_coco_category)"
   ]
  },
  {
   "cell_type": "markdown",
   "metadata": {},
   "source": [
    "# looking at images"
   ]
  },
  {
   "cell_type": "code",
   "execution_count": 18,
   "metadata": {},
   "outputs": [
    {
     "name": "stdout",
     "output_type": "stream",
     "text": [
      "5984 dict_keys(['license', 'file_name', 'coco_url', 'height', 'width', 'date_captured', 'flickr_url', 'id'])\n"
     ]
    }
   ],
   "source": [
    "new_person_images = person_data_df['images'][0]\n",
    "print( len(new_person_images), new_person_images[0].keys())"
   ]
  },
  {
   "cell_type": "code",
   "execution_count": 19,
   "metadata": {},
   "outputs": [],
   "source": [
    "images_person_data_df = pd.DataFrame(person_data_df['images'][0])"
   ]
  },
  {
   "cell_type": "code",
   "execution_count": 20,
   "metadata": {},
   "outputs": [
    {
     "data": {
      "text/html": [
       "<div>\n",
       "<style scoped>\n",
       "    .dataframe tbody tr th:only-of-type {\n",
       "        vertical-align: middle;\n",
       "    }\n",
       "\n",
       "    .dataframe tbody tr th {\n",
       "        vertical-align: top;\n",
       "    }\n",
       "\n",
       "    .dataframe thead th {\n",
       "        text-align: right;\n",
       "    }\n",
       "</style>\n",
       "<table border=\"1\" class=\"dataframe\">\n",
       "  <thead>\n",
       "    <tr style=\"text-align: right;\">\n",
       "      <th></th>\n",
       "      <th>license</th>\n",
       "      <th>file_name</th>\n",
       "      <th>coco_url</th>\n",
       "      <th>height</th>\n",
       "      <th>width</th>\n",
       "      <th>date_captured</th>\n",
       "      <th>flickr_url</th>\n",
       "      <th>id</th>\n",
       "    </tr>\n",
       "  </thead>\n",
       "  <tbody>\n",
       "    <tr>\n",
       "      <th>0</th>\n",
       "      <td>1</td>\n",
       "      <td>COCO_val2014_000000109229.jpg</td>\n",
       "      <td>http://mscoco.org/images/109229</td>\n",
       "      <td>640</td>\n",
       "      <td>514</td>\n",
       "      <td>2013-11-18 17:27:34</td>\n",
       "      <td>http://farm3.staticflickr.com/2342/1794334693_...</td>\n",
       "      <td>109229</td>\n",
       "    </tr>\n",
       "    <tr>\n",
       "      <th>1</th>\n",
       "      <td>1</td>\n",
       "      <td>COCO_val2014_000000393243.jpg</td>\n",
       "      <td>http://mscoco.org/images/393243</td>\n",
       "      <td>640</td>\n",
       "      <td>480</td>\n",
       "      <td>2013-11-20 13:20:35</td>\n",
       "      <td>http://farm3.staticflickr.com/2294/1562760533_...</td>\n",
       "      <td>393243</td>\n",
       "    </tr>\n",
       "  </tbody>\n",
       "</table>\n",
       "</div>"
      ],
      "text/plain": [
       "   license                      file_name                         coco_url  \\\n",
       "0        1  COCO_val2014_000000109229.jpg  http://mscoco.org/images/109229   \n",
       "1        1  COCO_val2014_000000393243.jpg  http://mscoco.org/images/393243   \n",
       "\n",
       "   height  width        date_captured  \\\n",
       "0     640    514  2013-11-18 17:27:34   \n",
       "1     640    480  2013-11-20 13:20:35   \n",
       "\n",
       "                                          flickr_url      id  \n",
       "0  http://farm3.staticflickr.com/2342/1794334693_...  109229  \n",
       "1  http://farm3.staticflickr.com/2294/1562760533_...  393243  "
      ]
     },
     "execution_count": 20,
     "metadata": {},
     "output_type": "execute_result"
    }
   ],
   "source": [
    "images_person_data_df.head(2)"
   ]
  },
  {
   "cell_type": "code",
   "execution_count": 21,
   "metadata": {},
   "outputs": [
    {
     "data": {
      "text/plain": [
       "{'license': 1,\n",
       " 'file_name': 'COCO_val2014_000000109229.jpg',\n",
       " 'coco_url': 'http://mscoco.org/images/109229',\n",
       " 'height': 640,\n",
       " 'width': 514,\n",
       " 'date_captured': '2013-11-18 17:27:34',\n",
       " 'flickr_url': 'http://farm3.staticflickr.com/2342/1794334693_c3e27b61dd_z.jpg',\n",
       " 'id': 109229}"
      ]
     },
     "execution_count": 21,
     "metadata": {},
     "output_type": "execute_result"
    }
   ],
   "source": [
    "person_data_df['images'][0][0]"
   ]
  },
  {
   "cell_type": "markdown",
   "metadata": {},
   "source": [
    "# looking at images\n",
    "## Those are the images I'll use in the dataset that come from \n",
    "## the DENSEPOSE dataset"
   ]
  },
  {
   "cell_type": "code",
   "execution_count": 22,
   "metadata": {},
   "outputs": [
    {
     "data": {
      "text/plain": [
       "5984"
      ]
     },
     "execution_count": 22,
     "metadata": {},
     "output_type": "execute_result"
    }
   ],
   "source": [
    "# list of image ids from human parts data\n",
    "# from here we will use all images\n",
    "new_person_images_list = [a['id'] for a in person_data_df['images'][0]]\n",
    "len(new_person_images_list)"
   ]
  },
  {
   "cell_type": "code",
   "execution_count": 23,
   "metadata": {},
   "outputs": [
    {
     "data": {
      "text/plain": [
       "7340"
      ]
     },
     "execution_count": 23,
     "metadata": {},
     "output_type": "execute_result"
    }
   ],
   "source": [
    "# list of img ids from coco dataset\n",
    "# that have a cat id in the list of coco selected categories\n",
    "# removing duplicates\n",
    "all_images_list = set([a['image_id'] for a in data_df['annotations'][0] if a['category_id'] in coco_category_id_list])\n",
    "len(all_images_list)"
   ]
  },
  {
   "cell_type": "code",
   "execution_count": 24,
   "metadata": {},
   "outputs": [
    {
     "data": {
      "text/plain": [
       "6061"
      ]
     },
     "execution_count": 24,
     "metadata": {},
     "output_type": "execute_result"
    }
   ],
   "source": [
    "images_from_coco_not_in_dense = [img for img in all_images_list if img not in new_person_images_list]\n",
    "len(images_from_coco_not_in_dense)"
   ]
  },
  {
   "cell_type": "code",
   "execution_count": 25,
   "metadata": {},
   "outputs": [
    {
     "data": {
      "text/plain": [
       "4705"
      ]
     },
     "execution_count": 25,
     "metadata": {},
     "output_type": "execute_result"
    }
   ],
   "source": [
    "images_from_dense_not_in_custom = [img for img in new_person_images_list if img not in all_images_list]\n",
    "len(images_from_dense_not_in_custom)"
   ]
  },
  {
   "cell_type": "code",
   "execution_count": 26,
   "metadata": {},
   "outputs": [
    {
     "data": {
      "text/plain": [
       "40504"
      ]
     },
     "execution_count": 26,
     "metadata": {},
     "output_type": "execute_result"
    }
   ],
   "source": [
    "len(data_df['images'][0])"
   ]
  },
  {
   "cell_type": "markdown",
   "metadata": {},
   "source": [
    "# annotation keys"
   ]
  },
  {
   "cell_type": "code",
   "execution_count": 27,
   "metadata": {},
   "outputs": [
    {
     "name": "stdout",
     "output_type": "stream",
     "text": [
      "dict_keys(['segmentation', 'num_keypoints', 'dp_masks', 'area', 'dp_I', 'iscrowd', 'keypoints', 'dp_x', 'dp_U', 'image_id', 'dp_V', 'bbox', 'category_id', 'dp_y', 'id'])\n",
      "[{'counts': '[bh03m70O5I8I7B=D=K=C;E0000001N101O1N101N101O000010O010O1O01O010O010O001O010O1O010N1000O100O001O100O1O01O0100O010OO12O000000001O000000001O000O12NJ7D;ZNPJR1[6mNjI8l6Hf0O2O0O2O0000XVc0', 'size': [256, 256]}, {'counts': 'mQ11o72N000O1000001N0100000O100O1O0100000O100O10O10010O01O1O001OO1O2N1N3M2O10Wfe1', 'size': [256, 256]}, {'counts': 'Pkj1173]7:N0O3N1N2N010O02O0O2N101M2M5LQU1', 'size': [256, 256]}, {'counts': 'ZgQ16g77L3M1O001O001OO10000000O14L5K4L4LYhi0', 'size': [256, 256]}, {'counts': 'j_l01o72N2N1N1000000000000000000O1000000O12N3M3MQPn0', 'size': [256, 256]}, {'counts': 'U\\\\j0h1S64N21O101N1O2N2O001O001O00001O001O000010O100O100O101NN3ROn0I6J7Ikcm0', 'size': [256, 256]}, {'counts': 'P]Q1a0Y7d0\\\\O5K6M210O10O01O002O0O2N101N101N103L3MN3N2N2M3N200N2I7F:I7K5J6K4IXTf0', 'size': [256, 256]}, {'counts': 'm]j09f7b0^O<D4M5J4L5K5L4L1O0000O100000000000001O1O1N2O1fN\\\\J6e5GdJ2^5IlJOZ5IPK1kfn0', 'size': [256, 256]}, {'counts': 'o]Q1e0[7>A6K0O10000O100O11O001O001N110A>I:EVji0', 'size': [256, 256]}, {'counts': 'kaZ14l75K1N3N1N2O1O1O0O20O10O10O0100O0100O00100O1O010O01O000100O001O1O0N3M3L3N3O1N11O01O0010c]:', 'size': [256, 256]}, {'counts': 'SZ`03l75L3M5K000O10O0100O100O10000O10000O10O01000000O1O10O01O010O1O010OO200O1M3N2GenU1', 'size': [256, 256]}, {'counts': 'cjb12l72M4M201N110O000010O01O010O00000010O10O01O01O0100O0010O01O1O001O1O000O101N2N2OUU3', 'size': [256, 256]}, {'counts': 'Qb81n71O1N3M3N2O002O0O1O0010O000100O010O010O010O00010O00010O0001O3N3L3Nbm^1', 'size': [256, 256]}, {'counts': 'nhk02k75ELdH8X7:N3L2N3M200O3VIoNa6S1[IPOd6V1O2N2O0O1O2O001O0000001N10001OO1000001O0O101O00001N3M2O2N2M4M3QOSI;^7M3N2M5L20TWh0', 'size': [256, 256]}]\n"
     ]
    }
   ],
   "source": [
    "# person annotations\n",
    "# extraer segmentation: anotaciòn individual de cada persona detectada\n",
    "# extrater dp_masks: e insertar una anotación por cada uno de los 14 elementos de la persona que tienen anotaciones\n",
    "# si se puede, transformar el mapa de bits en \n",
    "print(person_data_df['annotations'][0][0].keys())\n",
    "print(person_data_df['annotations'][0][0]['dp_masks'])"
   ]
  },
  {
   "cell_type": "code",
   "execution_count": 28,
   "metadata": {},
   "outputs": [
    {
     "name": "stdout",
     "output_type": "stream",
     "text": [
      "{'segmentation': [[217.17, 355, 218.61, 349.24, 212.85, 324.79, 214.29, 313.29, 225.8, 296.03, 244.49, 296.03, 256, 304.66, 257.44, 339.18, 257.44, 350.68, 325.03, 382.32, 352.36, 406.77, 345.17, 418.28, 343.73, 422.59, 332.22, 422.59, 312.09, 409.65, 279.01, 396.7, 273.26, 389.51, 264.63, 445.6, 258.88, 534.77, 251.69, 563.54, 240.18, 580.79, 244.49, 587.98, 224.36, 587.98, 208.54, 587.98, 207.1, 587.98, 202.79, 582.23, 201.35, 562.1, 201.35, 541.96, 201.35, 501.69, 202.79, 390.95, 201.35, 382.32, 178.34, 393.83, 171.15, 393.83, 161.08, 390.95, 145.26, 383.76, 135.19, 375.13, 116.49, 369.38, 109.3, 369.38, 117.93, 362.19, 136.63, 359.31, 142.38, 356.43, 143.82, 356.43, 169.71, 370.82, 199.91, 359.31]], 'num_keypoints': 17, 'dp_masks': [{'counts': '[bh03m70O5I8I7B=D=K=C;E0000001N101O1N101N101O000010O010O1O01O010O010O001O010O1O010N1000O100O001O100O1O01O0100O010OO12O000000001O000000001O000O12NJ7D;ZNPJR1[6mNjI8l6Hf0O2O0O2O0000XVc0', 'size': [256, 256]}, {'counts': 'mQ11o72N000O1000001N0100000O100O1O0100000O100O10O10010O01O1O001OO1O2N1N3M2O10Wfe1', 'size': [256, 256]}, {'counts': 'Pkj1173]7:N0O3N1N2N010O02O0O2N101M2M5LQU1', 'size': [256, 256]}, {'counts': 'ZgQ16g77L3M1O001O001OO10000000O14L5K4L4LYhi0', 'size': [256, 256]}, {'counts': 'j_l01o72N2N1N1000000000000000000O1000000O12N3M3MQPn0', 'size': [256, 256]}, {'counts': 'U\\\\j0h1S64N21O101N1O2N2O001O001O00001O001O000010O100O100O101NN3ROn0I6J7Ikcm0', 'size': [256, 256]}, {'counts': 'P]Q1a0Y7d0\\\\O5K6M210O10O01O002O0O2N101N101N103L3MN3N2N2M3N200N2I7F:I7K5J6K4IXTf0', 'size': [256, 256]}, {'counts': 'm]j09f7b0^O<D4M5J4L5K5L4L1O0000O100000000000001O1O1N2O1fN\\\\J6e5GdJ2^5IlJOZ5IPK1kfn0', 'size': [256, 256]}, {'counts': 'o]Q1e0[7>A6K0O10000O100O11O001O001N110A>I:EVji0', 'size': [256, 256]}, {'counts': 'kaZ14l75K1N3N1N2O1O1O0O20O10O10O0100O0100O00100O1O010O01O000100O001O1O0N3M3L3N3O1N11O01O0010c]:', 'size': [256, 256]}, {'counts': 'SZ`03l75L3M5K000O10O0100O100O10000O10000O10O01000000O1O10O01O010O1O010OO200O1M3N2GenU1', 'size': [256, 256]}, {'counts': 'cjb12l72M4M201N110O000010O01O010O00000010O10O01O01O0100O0010O01O1O001O1O000O101N2N2OUU3', 'size': [256, 256]}, {'counts': 'Qb81n71O1N3M3N2O002O0O1O0010O000100O010O010O010O00010O00010O0001O3N3L3Nbm^1', 'size': [256, 256]}, {'counts': 'nhk02k75ELdH8X7:N3L2N3M200O3VIoNa6S1[IPOd6V1O2N2O0O1O2O001O0000001N10001OO1000001O0O101O00001N3M2O2N2M4M3QOSI;^7M3N2M5L20TWh0', 'size': [256, 256]}], 'area': 20752.355, 'dp_I': [2.0, 2.0, 2.0, 2.0, 2.0, 2.0, 2.0, 2.0, 2.0, 2.0, 2.0, 2.0, 2.0, 2.0, 23.0, 24.0, 23.0, 24.0, 23.0, 23.0, 24.0, 23.0, 23.0, 24.0, 23.0, 24.0, 2.0, 2.0, 2.0, 9.0, 9.0, 9.0, 9.0, 9.0, 9.0, 9.0, 9.0, 9.0, 2.0, 2.0, 10.0, 10.0, 10.0, 10.0, 10.0, 10.0, 10.0, 10.0, 10.0, 10.0, 17.0, 17.0, 15.0, 15.0, 17.0, 15.0, 15.0, 16.0, 16.0, 16.0, 16.0, 16.0, 16.0, 16.0, 16.0, 13.0, 13.0, 13.0, 13.0, 13.0, 13.0, 13.0, 13.0, 13.0, 13.0, 13.0, 13.0, 10.0, 14.0, 14.0, 14.0, 14.0, 14.0, 14.0, 14.0, 21.0, 21.0, 21.0, 21.0, 21.0, 21.0, 20.0, 20.0, 22.0, 20.0, 20.0, 20.0, 14.0, 5.0, 5.0, 5.0, 5.0, 6.0, 6.0, 6.0, 6.0, 6.0, 20.0, 3.0, 3.0, 20.0, 3.0, 21.0, 4.0, 4.0, 4.0, 4.0], 'iscrowd': 0, 'keypoints': [238, 334, 2, 243, 328, 2, 231, 328, 2, 253, 329, 2, 220, 332, 2, 264, 365, 2, 213, 366, 2, 299, 381, 2, 172, 381, 2, 332, 401, 2, 142, 364, 2, 253, 461, 2, 218, 459, 2, 248, 510, 2, 224, 512, 2, 239, 561, 2, 224, 580, 2], 'dp_x': [113.39676666259766, 160.12887573242188, 134.9632568359375, 146.29856872558594, 107.34227752685547, 125.92852783203125, 161.89727783203125, 140.03428649902344, 114.84563446044922, 159.24981689453125, 135.89480590820312, 115.90459442138672, 156.3788604736328, 135.69859313964844, 129.20986938476562, 141.76695251464844, 119.91279602050781, 145.945068359375, 132.18276977539062, 118.58522033691406, 150.34263610839844, 135.13938903808594, 123.2345962524414, 144.8899688720703, 129.6240692138672, 143.11936950683594, 110.12503051757812, 120.69116973876953, 131.2006072998047, 109.02838134765625, 119.87908172607422, 128.9969024658203, 111.89606475830078, 126.1850814819336, 111.3669204711914, 124.18157196044922, 110.1156997680664, 127.28569793701172, 158.64175415039062, 146.25582885742188, 157.57272338867188, 142.28578186035156, 154.78329467773438, 140.95565795898438, 153.563720703125, 139.72052001953125, 152.49819946289062, 139.5905303955078, 138.674072265625, 150.50914001464844, 175.84642028808594, 186.2951202392578, 178.11294555664062, 194.99929809570312, 203.94424438476562, 187.11773681640625, 197.6676483154297, 97.80564880371094, 88.40885925292969, 79.88483428955078, 97.25932312011719, 70.04550170898438, 91.60533142089844, 81.67549133300781, 71.43785095214844, 121.35330200195312, 110.62220001220703, 124.89067077636719, 111.00025939941406, 122.73576354980469, 111.63835906982422, 122.78900146484375, 112.56291961669922, 124.12914276123047, 115.0601577758789, 126.5003662109375, 117.51244354248047, 145.00326538085938, 137.42996215820312, 146.40928649902344, 137.53652954101562, 145.05816650390625, 137.43081665039062, 144.2652587890625, 140.3979034423828, 217.02532958984375, 208.3828582763672, 225.82334899902344, 216.28150939941406, 226.31419372558594, 235.33279418945312, 40.03012466430664, 50.737953186035156, 44.58686447143555, 59.656558990478516, 52.84809494018555, 62.42593765258789, 143.8323974609375, 137.5202178955078, 144.73167419433594, 138.5338134765625, 145.49977111816406, 129.12557983398438, 123.3823013305664, 117.57316589355469, 130.51222229003906, 123.55984497070312, 34.347721099853516, 25.500076293945312, 18.233633041381836, 31.77898406982422, 9.474644660949707, 239.779052734375, 246.09046936035156, 239.04971313476562, 245.9032440185547, 240.48013305664062], 'dp_U': [0.10396958887577057, 0.09521439671516418, 0.11500038206577301, 0.20658190548419952, 0.22284521162509918, 0.21311061084270477, 0.2732165455818176, 0.31575843691825867, 0.4118849039077759, 0.40298134088516235, 0.4522867202758789, 0.5832812190055847, 0.6059700846672058, 0.6420809626579285, 0.988430380821228, 0.21053878962993622, 0.6609972715377808, 0.38516607880592346, 0.9090552926063538, 0.6090379953384399, 0.369001567363739, 0.9767354726791382, 0.7014941573143005, 0.2376064956188202, 0.8498840928077698, 0.20954470336437225, 0.7706901431083679, 0.8120887875556946, 0.8607836961746216, 0.8855287432670593, 0.7501196265220642, 0.5914233922958374, 0.6236558556556702, 0.4590929448604584, 0.46843674778938293, 0.36264631152153015, 0.3458409011363983, 0.25592175126075745, 0.7663120031356812, 0.8243812322616577, 0.7959498763084412, 0.6739370822906494, 0.6242347955703735, 0.49445679783821106, 0.5108809471130371, 0.3941669166088104, 0.3986954987049103, 0.31092166900634766, 0.19706913828849792, 0.27294012904167175, 0.19830290973186493, 0.3768177628517151, 0.1165420189499855, 0.48112261295318604, 0.8541167378425598, 0.4233470559120178, 0.7115480899810791, 0.027470532804727554, 0.2726478576660156, 0.5073794722557068, 0.0229935385286808, 0.8288975954055786, 0.2795853614807129, 0.5554910898208618, 0.9002518057823181, 0.010771378874778748, 0.060072675347328186, 0.24544045329093933, 0.225733682513237, 0.387499064207077, 0.4042123258113861, 0.5871077179908752, 0.6346272826194763, 0.7249618172645569, 0.7726898789405823, 0.9008888602256775, 0.9676884412765503, 0.10286025702953339, 0.12076661735773087, 0.19296947121620178, 0.3066841661930084, 0.3811955749988556, 0.508297324180603, 0.6929869651794434, 0.8492205142974854, 0.09695430845022202, 0.10246169567108154, 0.2398361712694168, 0.271262526512146, 0.47538813948631287, 0.7383146286010742, 0.06384000182151794, 0.24605150520801544, 0.6582264304161072, 0.9003093242645264, 0.660971462726593, 0.7791639566421509, 0.977262020111084, 0.3512306809425354, 0.3749273717403412, 0.47106462717056274, 0.4882785677909851, 0.6202046871185303, 0.5954104661941528, 0.6964985132217407, 0.5324297547340393, 0.5243067145347595, 0.08216382563114166, 0.5689014792442322, 0.58026123046875, 0.10007049143314362, 0.5383374691009521, 0.9560258984565735, 0.6298524141311646, 0.7436730861663818, 0.7019110321998596, 0.8579039573669434], 'image_id': 109229, 'dp_V': [0.673243522644043, 0.33541035652160645, 0.5203165411949158, 0.35261934995651245, 0.7065007090568542, 0.5227487683296204, 0.1967514008283615, 0.4545399844646454, 0.683081865310669, 0.2600952088832855, 0.4436020851135254, 0.6609233021736145, 0.19042669236660004, 0.42805016040802, 0.9037810564041138, 0.8149980902671814, 0.7443781495094299, 0.7010350227355957, 0.7213871479034424, 0.6267474889755249, 0.5568214058876038, 0.5419858694076538, 0.475896418094635, 0.35682326555252075, 0.26045164465904236, 0.11865442246198654, 0.8247714042663574, 0.6689192056655884, 0.5314655900001526, 0.4054678678512573, 0.641764223575592, 0.8902504444122314, 0.43049710988998413, 0.7654825448989868, 0.3721975088119507, 0.7082868814468384, 0.3343633711338043, 0.6816092729568481, 0.20442044734954834, 0.38220998644828796, 0.5095045566558838, 0.9111863374710083, 0.4943292737007141, 0.8874513506889343, 0.3750697374343872, 0.7643341422080994, 0.3644683361053467, 0.6318759918212891, 0.5266515016555786, 0.31726202368736267, 0.9605333209037781, 0.8557084202766418, 0.6550031900405884, 0.8170424699783325, 0.6771722435951233, 0.5641355514526367, 0.5965211391448975, 0.7266939282417297, 0.6468043327331543, 0.5830928087234497, 0.3726004362106323, 0.6737321019172668, 0.2909644842147827, 0.3551488518714905, 0.4392108917236328, 0.4252019226551056, 0.8130914568901062, 0.31382837891578674, 0.7635629773139954, 0.38696086406707764, 0.7330319285392761, 0.4292769730091095, 0.6676951050758362, 0.40933758020401, 0.6847296357154846, 0.4471377730369568, 0.5918831825256348, 0.23277926445007324, 0.3129092752933502, 0.7537592053413391, 0.4610496759414673, 0.7349002957344055, 0.4449903666973114, 0.7066596150398254, 0.5431756973266602, 0.33825746178627014, 0.577465832233429, 0.2234586477279663, 0.48596686124801636, 0.366477906703949, 0.232573002576828, 0.5198234915733337, 0.6040653586387634, 0.230113685131073, 0.2969803512096405, 0.5134238004684448, 0.5859607458114624, 0.6186929941177368, 0.5062532424926758, 0.7005754113197327, 0.5379146337509155, 0.750704288482666, 0.5213170051574707, 0.6638704538345337, 0.7725024819374084, 0.503774881362915, 0.6913444995880127, 0.2846659719944, 0.300476610660553, 0.4212814271450043, 0.44209417700767517, 0.7661377191543579, 0.4883825480937958, 0.2372022569179535, 0.17207083106040955, 0.463548481464386, 0.6975933909416199], 'bbox': [109.3, 296.03, 243.06, 291.95], 'category_id': 1, 'dp_y': [58.59764099121094, 58.93833923339844, 60.540531158447266, 73.58451080322266, 77.5483627319336, 78.3914566040039, 81.59009552001953, 91.77135467529297, 97.12396240234375, 101.28472137451172, 108.95051574707031, 117.59032440185547, 119.7553939819336, 128.3593292236328, 8.81949520111084, 9.684825897216797, 16.46109390258789, 19.965497970581055, 20.893535614013672, 27.807777404785156, 30.053043365478516, 31.900571823120117, 37.0329475402832, 39.78467559814453, 46.71672821044922, 49.00772476196289, 131.9232635498047, 136.6204071044922, 141.8512725830078, 144.1929168701172, 147.86009216308594, 154.00473022460938, 156.88711547851562, 164.17552185058594, 167.9134979248047, 174.3022003173828, 179.67474365234375, 184.10903930664062, 132.8052978515625, 137.85147094726562, 143.78799438476562, 146.73388671875, 154.12088012695312, 156.41441345214844, 164.59881591796875, 165.8808135986328, 175.08847045898438, 175.39166259765625, 185.02342224121094, 185.83740234375, 60.94792938232422, 64.81233978271484, 69.47020721435547, 70.29354095458984, 74.77352142333984, 75.60379028320312, 80.25566864013672, 57.022308349609375, 62.17892837524414, 66.21749114990234, 66.33970642089844, 69.06053924560547, 73.23491668701172, 75.56178283691406, 77.26317596435547, 187.56898498535156, 190.08975219726562, 196.4235076904297, 200.52655029296875, 206.18511962890625, 211.72596740722656, 217.04295349121094, 222.94549560546875, 228.68870544433594, 234.2267303466797, 241.03903198242188, 244.71705627441406, 191.75157165527344, 194.50448608398438, 199.956298828125, 204.28640747070312, 209.63507080078125, 215.02639770507812, 219.5654296875, 226.61404418945312, 80.13024139404297, 80.97888946533203, 84.46676635742188, 86.84207153320312, 90.44960021972656, 90.90145874023438, 62.08325958251953, 64.4947509765625, 68.82061004638672, 68.82573699951172, 73.06726837158203, 76.66157531738281, 233.13075256347656, 235.02279663085938, 239.32830810546875, 242.8240966796875, 245.76710510253906, 249.10601806640625, 250.14511108398438, 252.38839721679688, 253.6482696533203, 254.1845245361328, 56.85160446166992, 57.57823181152344, 59.93309783935547, 60.95003890991211, 61.49998474121094, 95.95074462890625, 97.3560562133789, 102.50047302246094, 104.30279541015625, 109.16085052490234], 'id': 442795}\n"
     ]
    }
   ],
   "source": [
    "print(person_data_df['annotations'][0][0])"
   ]
  },
  {
   "cell_type": "markdown",
   "metadata": {},
   "source": [
    "# generating annotations"
   ]
  },
  {
   "cell_type": "code",
   "execution_count": 29,
   "metadata": {},
   "outputs": [],
   "source": [
    "def GetDensePoseMasks(Polys):\n",
    "    mask_list = [0]*15\n",
    "    for i in range(1,15):\n",
    "        MaskGen = np.zeros([256,256])\n",
    "        if(Polys[i-1]):\n",
    "            current_mask = mask_util.decode(Polys[i-1])\n",
    "            MaskGen[current_mask>0] = 1\n",
    "        mask_list[i-1]=MaskGen\n",
    "    return mask_list"
   ]
  },
  {
   "cell_type": "code",
   "execution_count": 30,
   "metadata": {},
   "outputs": [],
   "source": [
    "def GetDensePoseMask(encoded_mask):\n",
    "    MaskGen = np.zeros([256,256])\n",
    "    current_mask = mask_util.decode(encoded_mask)\n",
    "    MaskGen[current_mask>0] = 1\n",
    "    return MaskGen"
   ]
  },
  {
   "cell_type": "code",
   "execution_count": 31,
   "metadata": {},
   "outputs": [],
   "source": [
    "def get_poligons(mask):\n",
    "    c = cv2.findContours(mask.astype(np.uint8), cv2.RETR_TREE, cv2.CHAIN_APPROX_SIMPLE)\n",
    "    contours = [0]*2*len(c[0][0].tolist())\n",
    "    for i,x in enumerate(c[0][0].tolist()):\n",
    "        contours[2*i]=int(x[0][0])\n",
    "        contours[2*i+1]= int(x[0][1])\n",
    "    return contours"
   ]
  },
  {
   "cell_type": "code",
   "execution_count": 32,
   "metadata": {},
   "outputs": [],
   "source": [
    "def CreateMaskBBox(mask, bbr, image_shape):\n",
    "    final_mask = np.zeros([image_shape[1],image_shape[0]])\n",
    "    x1 = int(bbr[0])\n",
    "    y1 = int(bbr[1])\n",
    "    x2 = int(bbr[0]+bbr[2])\n",
    "    y2 = int(bbr[1]+bbr[3])\n",
    "    x2 = min( [ x2, image_shape[0] ] )\n",
    "    y2 = min( [ y2, image_shape[1] ] )\n",
    "    # print(bbr, (x1,y1,x2,y2), (int(x2-x1),int(y2-y1)), mask.shape)\n",
    "    resized_mask = cv2.resize( mask, (int(x2-x1),int(y2-y1)) ,interpolation=cv2.INTER_NEAREST)\n",
    "    final_mask[y1:y2,x1:x2] = resized_mask\n",
    "    az = np.nonzero(final_mask)\n",
    "    bby1,bby2,bbx1,bbx2=np.min(az[0]), np.max(az[0]), np.min(az[1]), np.max(az[1])\n",
    "    contours = get_poligons(final_mask.astype(np.uint8))\n",
    "    encoded_final_mask = mask_util.encode(np.asfortranarray(final_mask.astype(np.uint8)))\n",
    "    mask_area = int(mask_util.area(encoded_final_mask))\n",
    "    # print((bbx1, bby1, bbx2-bbx1, bby2-bby1),encoded_final_mask)\n",
    "    encoded_final_mask['counts'] = encoded_final_mask['counts'].decode(\"utf-8\")\n",
    "    return final_mask, (bbx1, bby1, bbx2-bbx1, bby2-bby1), mask_area, encoded_final_mask, contours"
   ]
  },
  {
   "cell_type": "markdown",
   "metadata": {},
   "source": [
    "# create new annotations in coco style suitable to train YOLACT model"
   ]
  },
  {
   "cell_type": "code",
   "execution_count": 33,
   "metadata": {},
   "outputs": [
    {
     "name": "stderr",
     "output_type": "stream",
     "text": [
      "100%|██████████| 25053/25053 [03:49<00:00, 109.39it/s]\n"
     ]
    }
   ],
   "source": [
    "new_person_ann = []\n",
    "for annotation in tqdm(person_data_df['annotations'][0]):\n",
    "    # print(annotation['image_id'], annotation['bbox'])\n",
    "    if annotation['iscrowd']==0 and annotation['image_id'] in new_person_images_list:\n",
    "        ann_segment = annotation['segmentation']\n",
    "        ann_bbox = [int(annotation['bbox'][0]),int(annotation['bbox'][1]),int(annotation['bbox'][2]),int(annotation['bbox'][3])]\n",
    "        ann_area = annotation['area']\n",
    "        ann_image_id = annotation['image_id']\n",
    "        ann_id = annotation['id']\n",
    "        ann_cat_id = 1 # only person cat so must be 1\n",
    "        new_data = {'segmentation': ann_segment,\n",
    "                    'area': ann_area,\n",
    "                    'image_id': ann_image_id,\n",
    "                    'id': ann_id,\n",
    "                    'category_id': ann_cat_id,\n",
    "                    'bbox': ann_bbox,\n",
    "                    'iscrowd': 0}\n",
    "        new_person_ann.append(new_data)\n",
    "        a = images_person_data_df[images_person_data_df['id']==ann_image_id]\n",
    "        image_size = [a['width'].values[0],a['height'].values[0]]\n",
    "\n",
    "        if 'dp_masks' in annotation:\n",
    "            for i, ann_mask in enumerate(annotation['dp_masks']):\n",
    "                if len(ann_mask) > 1:\n",
    "                    ann_mask_decoded = GetDensePoseMask(ann_mask)\n",
    "                    mask, bbox, ann_area, encoded_mask, contours = CreateMaskBBox(ann_mask_decoded, annotation['bbox'], image_size )\n",
    "                    ann_bbox = [int(bbox[0]),int(bbox[1]),int(bbox[2]),int(bbox[3])]\n",
    "                    ann_segment = encoded_mask\n",
    "                    ann_image_id = annotation['image_id']\n",
    "                    ann_id = -1\n",
    "                    # for reusing ids I'll prepare a first approach \n",
    "                    # with a cat id dictionary\n",
    "                    ann_cat_id = 91+PERSON_LABEL_MAP[i]\n",
    "                    if len(contours)>4:\n",
    "                        new_data = {'segmentation': [contours], # encoded_mask,\n",
    "                                    'area': ann_area,\n",
    "                                    'image_id': ann_image_id,\n",
    "                                    'id': ann_id,\n",
    "                                    'category_id': ann_cat_id,\n",
    "                                    'bbox': ann_bbox,\n",
    "                                    'iscrowd': 0}\n",
    "                        new_person_ann.append(new_data)"
   ]
  },
  {
   "cell_type": "code",
   "execution_count": 34,
   "metadata": {},
   "outputs": [
    {
     "name": "stdout",
     "output_type": "stream",
     "text": [
      "24640 69369\n"
     ]
    }
   ],
   "source": [
    "xxx1 = [x for x in new_person_ann if x['category_id']==1]\n",
    "xxx2 = [x for x in new_person_ann if x['category_id']!=1]\n",
    "print(len(xxx1),len(xxx2))"
   ]
  },
  {
   "cell_type": "code",
   "execution_count": 35,
   "metadata": {},
   "outputs": [
    {
     "name": "stdout",
     "output_type": "stream",
     "text": [
      "5984 5984 5984\n"
     ]
    }
   ],
   "source": [
    "# check that the list of annotated image_ids has the len len as densepose image id's\n",
    "new_person_images_annotated_list = set([a['image_id'] for a in new_person_ann])\n",
    "print( len(new_person_images_annotated_list), len(set(new_person_images_annotated_list)), len(set(new_person_images_list)))"
   ]
  },
  {
   "cell_type": "markdown",
   "metadata": {},
   "source": [
    "# till here I have all human data and parts segmented and annotated\n",
    "# create new annotations from COCO dataset for the selected images"
   ]
  },
  {
   "cell_type": "code",
   "execution_count": 36,
   "metadata": {},
   "outputs": [
    {
     "name": "stdout",
     "output_type": "stream",
     "text": [
      "291875 18456 12392 24640\n"
     ]
    }
   ],
   "source": [
    "person_ann_list1 = [x for x in data_df['annotations'][0] if x['image_id'] in all_images_list and x['image_id'] not in new_person_images_list and x['category_id']==1 and x['iscrowd']==0]\n",
    "person_ann_list2 = [x for x in data_df['annotations'][0] if x['image_id'] not in new_person_images_list and x['category_id'] in custom_category_coco_category and x['iscrowd']==0]\n",
    "person_ann_list3 = [x for x in data_df['annotations'][0] if x['image_id'] in new_person_images_list and x['category_id']==1 and x['iscrowd']==0]\n",
    "print(len(data_df['annotations'][0]), len(person_ann_list1), len(person_ann_list2) , len(person_ann_list3))"
   ]
  },
  {
   "cell_type": "code",
   "execution_count": 37,
   "metadata": {},
   "outputs": [
    {
     "data": {
      "text/plain": [
       "{'segmentation': [[640.0,\n",
       "   408.25,\n",
       "   639.54,\n",
       "   4.33,\n",
       "   546.25,\n",
       "   5.29,\n",
       "   426.04,\n",
       "   1.44,\n",
       "   427.0,\n",
       "   3.37,\n",
       "   538.56,\n",
       "   12.98,\n",
       "   558.75,\n",
       "   63.95,\n",
       "   555.87,\n",
       "   95.69,\n",
       "   557.79,\n",
       "   138.01,\n",
       "   566.45,\n",
       "   171.67,\n",
       "   579.91,\n",
       "   189.94,\n",
       "   587.61,\n",
       "   225.52,\n",
       "   570.3,\n",
       "   292.84,\n",
       "   560.68,\n",
       "   311.11,\n",
       "   566.45,\n",
       "   340.93,\n",
       "   570.3,\n",
       "   365.93,\n",
       "   587.61,\n",
       "   369.78,\n",
       "   599.15,\n",
       "   339.97,\n",
       "   614.53,\n",
       "   378.43,\n",
       "   626.07,\n",
       "   393.82,\n",
       "   639.54,\n",
       "   410.17],\n",
       "  [405.84,\n",
       "   2.4,\n",
       "   438.54,\n",
       "   49.53,\n",
       "   454.89,\n",
       "   75.49,\n",
       "   454.89,\n",
       "   112.04,\n",
       "   450.08,\n",
       "   130.31,\n",
       "   458.74,\n",
       "   151.47,\n",
       "   467.39,\n",
       "   174.55,\n",
       "   394.3,\n",
       "   145.7,\n",
       "   398.15,\n",
       "   79.34,\n",
       "   392.38,\n",
       "   45.68,\n",
       "   330.83,\n",
       "   20.68,\n",
       "   310.63,\n",
       "   19.72,\n",
       "   276.01,\n",
       "   15.87,\n",
       "   249.08,\n",
       "   12.98,\n",
       "   231.77,\n",
       "   13.94,\n",
       "   218.31,\n",
       "   12.98,\n",
       "   208.69,\n",
       "   7.21,\n",
       "   206.77,\n",
       "   3.37]],\n",
       " 'area': 39122.63310000001,\n",
       " 'iscrowd': 0,\n",
       " 'image_id': 117891,\n",
       " 'bbox': [206.77, 1.44, 433.23, 408.73],\n",
       " 'category_id': 1,\n",
       " 'id': 183030}"
      ]
     },
     "execution_count": 37,
     "metadata": {},
     "output_type": "execute_result"
    }
   ],
   "source": [
    "person_ann_list1[0]\n"
   ]
  },
  {
   "cell_type": "code",
   "execution_count": 38,
   "metadata": {},
   "outputs": [
    {
     "data": {
      "text/plain": [
       "False"
      ]
     },
     "execution_count": 38,
     "metadata": {},
     "output_type": "execute_result"
    }
   ],
   "source": [
    "537548 in new_person_images_list\n"
   ]
  },
  {
   "cell_type": "code",
   "execution_count": 39,
   "metadata": {},
   "outputs": [
    {
     "name": "stderr",
     "output_type": "stream",
     "text": [
      "100%|██████████| 291875/291875 [00:05<00:00, 57591.41it/s]\n"
     ]
    }
   ],
   "source": [
    "new_data_ann = []\n",
    "new_data_image_list = []\n",
    "new_data_images = []\n",
    "for annotation in tqdm(data_df['annotations'][0]):\n",
    "    if annotation['category_id'] == 1:\n",
    "        if annotation['image_id'] not in new_person_images_list:\n",
    "            # if annotation is person and is not in human parts annotation\n",
    "            ann_segment = annotation['segmentation']\n",
    "            ann_bbox = [int(annotation['bbox'][0]),int(annotation['bbox'][1]),int(annotation['bbox'][2]),int(annotation['bbox'][3])]\n",
    "            ann_area = annotation['area']\n",
    "            ann_image_id = annotation['image_id']\n",
    "            ann_id = annotation['id']\n",
    "            ann_iscrowd = annotation['iscrowd']\n",
    "            ann_cat_id = annotation['category_id']\n",
    "            new_data = {'segmentation': ann_segment,\n",
    "                        'area': ann_area,\n",
    "                        'image_id': ann_image_id,\n",
    "                        'id': ann_id,\n",
    "                        'category_id': ann_cat_id,\n",
    "                        'bbox': ann_bbox,\n",
    "                        'iscrowd': ann_iscrowd}\n",
    "            new_data_ann.append(new_data)\n",
    "            new_data_image_list.append(ann_image_id)\n",
    "    elif annotation['category_id'] in custom_category_coco_category:\n",
    "        # if annotation is not person\n",
    "        ann_segment = annotation['segmentation']\n",
    "        ann_bbox = [int(annotation['bbox'][0]),int(annotation['bbox'][1]),int(annotation['bbox'][2]),int(annotation['bbox'][3])]\n",
    "        ann_area = annotation['area']\n",
    "        ann_image_id = annotation['image_id']\n",
    "        ann_id = annotation['id']\n",
    "        ann_iscrowd = annotation['iscrowd']\n",
    "        ann_cat_id = annotation['category_id']\n",
    "        new_data = {'segmentation': ann_segment,\n",
    "                    'area': ann_area,\n",
    "                    'image_id': ann_image_id,\n",
    "                    'id': ann_id,\n",
    "                    'category_id': ann_cat_id,\n",
    "                    'bbox': ann_bbox,\n",
    "                    'iscrowd': ann_iscrowd}\n",
    "        new_data_ann.append(new_data)\n",
    "        new_data_image_list.append(ann_image_id)"
   ]
  },
  {
   "cell_type": "code",
   "execution_count": 40,
   "metadata": {},
   "outputs": [
    {
     "name": "stdout",
     "output_type": "stream",
     "text": [
      "78446 19582\n"
     ]
    }
   ],
   "source": [
    "print(len(new_data_ann), len(set(new_data_image_list)))"
   ]
  },
  {
   "cell_type": "code",
   "execution_count": 41,
   "metadata": {},
   "outputs": [],
   "source": [
    "new_data_images = [image for image in data_df['images'][0] if image['id'] in set(new_data_image_list)]"
   ]
  },
  {
   "cell_type": "markdown",
   "metadata": {},
   "source": [
    "# take a look to \"custom categories\""
   ]
  },
  {
   "cell_type": "code",
   "execution_count": 42,
   "metadata": {},
   "outputs": [
    {
     "data": {
      "text/plain": [
       "[{'supercategory': 'vehicle', 'id': 2, 'name': 'bicycle'},\n",
       " {'supercategory': 'animal', 'id': 17, 'name': 'cat'},\n",
       " {'supercategory': 'animal', 'id': 18, 'name': 'dog'},\n",
       " {'supercategory': 'accessory', 'id': 27, 'name': 'backpack'},\n",
       " {'supercategory': 'accessory', 'id': 31, 'name': 'handbag'},\n",
       " {'supercategory': 'accessory', 'id': 33, 'name': 'suitcase'},\n",
       " {'supercategory': 'person', 'id': 91, 'name': 'foot'},\n",
       " {'supercategory': 'person', 'id': 92, 'name': 'upleg'},\n",
       " {'supercategory': 'person', 'id': 93, 'name': 'lowleg'}]"
      ]
     },
     "execution_count": 42,
     "metadata": {},
     "output_type": "execute_result"
    }
   ],
   "source": [
    "custom_categories"
   ]
  },
  {
   "cell_type": "code",
   "execution_count": 43,
   "metadata": {},
   "outputs": [
    {
     "name": "stdout",
     "output_type": "stream",
     "text": [
      "[{'supercategory': 'vehicle', 'id': 2, 'name': 'bicycle'}, {'supercategory': 'animal', 'id': 17, 'name': 'cat'}, {'supercategory': 'animal', 'id': 18, 'name': 'dog'}, {'supercategory': 'accessory', 'id': 27, 'name': 'backpack'}, {'supercategory': 'accessory', 'id': 31, 'name': 'handbag'}, {'supercategory': 'accessory', 'id': 33, 'name': 'suitcase'}, {'supercategory': 'person', 'id': 91, 'name': 'foot'}, {'supercategory': 'person', 'id': 92, 'name': 'upleg'}, {'supercategory': 'person', 'id': 93, 'name': 'lowleg'}]\n",
      "\n",
      "30 - 9\n",
      "{2: 1, 17: 2, 18: 3, 27: 4, 31: 5, 33: 6, 91: 7, 92: 8, 93: 9}\n",
      "{1: 'bicycle', 2: 'cat', 3: 'dog', 4: 'backpack', 5: 'handbag', 6: 'suitcase', 7: 'foot', 8: 'upleg', 9: 'lowleg'}\n",
      "['bicycle', 'cat', 'dog', 'backpack', 'handbag', 'suitcase', 'foot', 'upleg', 'lowleg', 0, 0, 0, 0, 0, 0, 0, 0, 0, 0, 0, 0, 0, 0, 0, 0, 0, 0, 0, 0, 0]\n"
     ]
    }
   ],
   "source": [
    "# this is the list of the new categories\n",
    "print(custom_categories)\n",
    "print()\n",
    "print(len(CUSTOM_CLASSES), \"-\", len(custom_categories))\n",
    "\n",
    "cc_list = [0]*(len(CUSTOM_CLASSES))\n",
    "CUSTOM_LABEL_MAP = {}\n",
    "CUSTOM_ID_MAP = {}\n",
    "\n",
    "for i, cc in enumerate(custom_categories):\n",
    "    CUSTOM_ID_MAP[cc['id']] = i+1\n",
    "    CUSTOM_LABEL_MAP[i+1] = cc['name']\n",
    "    cc_list[i] = cc['name']\n",
    "\n",
    "# the list of the names of the categories\n",
    "print(CUSTOM_ID_MAP)\n",
    "print(CUSTOM_LABEL_MAP)\n",
    "print(cc_list)"
   ]
  },
  {
   "cell_type": "markdown",
   "metadata": {},
   "source": [
    "# Saving humans parts data"
   ]
  },
  {
   "cell_type": "code",
   "execution_count": 44,
   "metadata": {},
   "outputs": [],
   "source": [
    "\n",
    "new_human_part_data = {\n",
    "    'images': new_person_images, \n",
    "    'annotations': new_person_ann, \n",
    "    'categories': custom_categories\n",
    "}"
   ]
  },
  {
   "cell_type": "code",
   "execution_count": 45,
   "metadata": {},
   "outputs": [],
   "source": [
    "class MyEncoder(JSONEncoder):\n",
    "    def default(self, o):\n",
    "        return o.__dict__\n",
    "new_human_part_data_json = MyEncoder().encode(new_human_part_data)"
   ]
  },
  {
   "cell_type": "code",
   "execution_count": 46,
   "metadata": {},
   "outputs": [],
   "source": [
    "with open(f'{datapath}/annotations/custom_small_ann_human_parts_valid2014_v{version}.json', 'w') as f:\n",
    "    json.dump(new_human_part_data_json, f)"
   ]
  },
  {
   "cell_type": "markdown",
   "metadata": {},
   "source": [
    "# Saving non humans data\n"
   ]
  },
  {
   "cell_type": "code",
   "execution_count": 47,
   "metadata": {},
   "outputs": [],
   "source": [
    "\n",
    "new_non_human_data = {\n",
    "    'images': new_data_images, \n",
    "    'annotations': new_data_ann, \n",
    "    'categories': custom_categories\n",
    "}"
   ]
  },
  {
   "cell_type": "code",
   "execution_count": 48,
   "metadata": {},
   "outputs": [],
   "source": [
    "class MyEncoder(JSONEncoder):\n",
    "    def default(self, o):\n",
    "        return o.__dict__\n",
    "new_non_human_data_json = MyEncoder().encode(new_non_human_data)"
   ]
  },
  {
   "cell_type": "code",
   "execution_count": 49,
   "metadata": {},
   "outputs": [],
   "source": [
    "with open(f'{datapath}/annotations/custom_small_ann_non_human_valid2014_v{version}.json', 'w') as f:\n",
    "    json.dump(new_non_human_data_json, f)"
   ]
  },
  {
   "cell_type": "markdown",
   "metadata": {},
   "source": [
    "# updating indices"
   ]
  },
  {
   "cell_type": "code",
   "execution_count": 50,
   "metadata": {},
   "outputs": [],
   "source": [
    "final_images = new_person_images + new_data_images\n",
    "final_annotations = new_person_ann + new_data_ann"
   ]
  },
  {
   "cell_type": "code",
   "execution_count": 51,
   "metadata": {},
   "outputs": [
    {
     "name": "stderr",
     "output_type": "stream",
     "text": [
      "100%|██████████| 25566/25566 [00:00<00:00, 2491497.85it/s]\n"
     ]
    },
    {
     "data": {
      "text/plain": [
       "16947"
      ]
     },
     "execution_count": 51,
     "metadata": {},
     "output_type": "execute_result"
    }
   ],
   "source": [
    "nil = []\n",
    "for image in tqdm(final_images):\n",
    "    try:\n",
    "        if image[\"id\"] not in all_images_list:\n",
    "            nil.append(image[\"id\"])\n",
    "    except Exception as e:\n",
    "        #print(image)\n",
    "        pass\n",
    "len(nil)"
   ]
  },
  {
   "cell_type": "code",
   "execution_count": 52,
   "metadata": {},
   "outputs": [
    {
     "data": {
      "text/plain": [
       "dict_keys(['segmentation', 'area', 'image_id', 'id', 'category_id', 'bbox', 'iscrowd'])"
      ]
     },
     "execution_count": 52,
     "metadata": {},
     "output_type": "execute_result"
    }
   ],
   "source": [
    "final_annotations[0].keys()"
   ]
  },
  {
   "cell_type": "code",
   "execution_count": 53,
   "metadata": {},
   "outputs": [
    {
     "name": "stderr",
     "output_type": "stream",
     "text": [
      "100%|██████████| 172455/172455 [00:00<00:00, 3350745.10it/s]\n"
     ]
    }
   ],
   "source": [
    "for i in tqdm(range(len(final_annotations))):\n",
    "    final_annotations[i]['id'] = i+1"
   ]
  },
  {
   "cell_type": "code",
   "execution_count": 54,
   "metadata": {},
   "outputs": [
    {
     "name": "stderr",
     "output_type": "stream",
     "text": [
      "100%|██████████| 25566/25566 [00:00<00:00, 2598671.39it/s]\n"
     ]
    },
    {
     "data": {
      "text/plain": [
       "16947"
      ]
     },
     "execution_count": 54,
     "metadata": {},
     "output_type": "execute_result"
    }
   ],
   "source": [
    "nil = []\n",
    "for image in tqdm(final_images):\n",
    "    try:\n",
    "        if image[\"id\"] not in all_images_list:\n",
    "            nil.append(image[\"id\"])\n",
    "    except Exception as e:\n",
    "        #print(image)\n",
    "        pass\n",
    "len(nil)"
   ]
  },
  {
   "cell_type": "markdown",
   "metadata": {},
   "source": [
    "# saving all data"
   ]
  },
  {
   "cell_type": "code",
   "execution_count": 55,
   "metadata": {},
   "outputs": [],
   "source": [
    "# IN THE version_02\n",
    "new_person_data = {\n",
    "    'images': final_images, \n",
    "    'annotations': final_annotations, \n",
    "    'categories': custom_categories\n",
    "}"
   ]
  },
  {
   "cell_type": "code",
   "execution_count": 56,
   "metadata": {},
   "outputs": [],
   "source": [
    "from json import JSONEncoder\n",
    "class MyEncoder(JSONEncoder):\n",
    "    def default(self, o):\n",
    "        return o.__dict__\n",
    "new_person_data_json = MyEncoder().encode(new_person_data)"
   ]
  },
  {
   "cell_type": "code",
   "execution_count": 57,
   "metadata": {},
   "outputs": [],
   "source": [
    "with open(f'{datapath}/annotations/custom_small_ann_valid2014_v{version}.json', 'w') as f:\n",
    "    json.dump(new_person_data_json, f)"
   ]
  },
  {
   "cell_type": "code",
   "execution_count": null,
   "metadata": {},
   "outputs": [],
   "source": []
  }
 ],
 "metadata": {
  "interpreter": {
   "hash": "43ea5ee8a92c56579f8ec6e3a48a2211d5f361fc5e73dc7dcd23cc6e60d8935d"
  },
  "kernelspec": {
   "display_name": "Python 3.7.0 64-bit ('yolact-pytorch': conda)",
   "name": "python3"
  },
  "language_info": {
   "codemirror_mode": {
    "name": "ipython",
    "version": 3
   },
   "file_extension": ".py",
   "mimetype": "text/x-python",
   "name": "python",
   "nbconvert_exporter": "python",
   "pygments_lexer": "ipython3",
   "version": "3.7.0"
  },
  "orig_nbformat": 2
 },
 "nbformat": 4,
 "nbformat_minor": 2
}
